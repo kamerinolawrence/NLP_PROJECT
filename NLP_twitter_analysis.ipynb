{
  "nbformat": 4,
  "nbformat_minor": 0,
  "metadata": {
    "colab": {
      "provenance": []
    },
    "kernelspec": {
      "name": "python3",
      "display_name": "Python 3"
    },
    "language_info": {
      "name": "python"
    }
  },
  "cells": [
    {
      "cell_type": "markdown",
      "source": [
        "#**Natural Language Processing: Twitter Sentiment Analysis**\n",
        "This project develops a proof-of-concept model to classify Twitter sentiment towards Apple and Google products.\n",
        "\n",
        "We start with a binary classifier (Positive vs. Negative) to compare classic models and handle data imbalance, then conceptualize the final multiclass solution."
      ],
      "metadata": {
        "id": "WRLweQ_nTo6i"
      }
    },
    {
      "cell_type": "markdown",
      "source": [
        "## 1. **Business Understanding**\n",
        "The core objective is to quantify public perception of major tech brands (Apple and Google) based on social media data.\n",
        "\n",
        "**Goal**: Build a model to classify Tweet sentiment as Positive, Negative, or Neutral.\n",
        "\n",
        "**Value**: Provides companies with a real-time monitoring tool for brand health, allowing rapid response to negative trends and validation of marketing efforts.\n",
        "\n",
        "**Initial Focus**: Develop and compare Binary Classifiers (Positive vs. Negative) to address the critical issue of class imbalance before moving to the multiclass problem."
      ],
      "metadata": {
        "id": "snZbowyiT-vn"
      }
    },
    {
      "cell_type": "markdown",
      "source": [
        "## 2. **Data Understanding**\n",
        "The raw data is loaded and inspected to determine the cleaning steps required, especially for the target variable.\n",
        "\n",
        "Data Loading and Cleaning (Python)\n",
        "The code loads the CSV, renames the columns for clarity, removes ambiguous entries (NaN and I can't tell), and prepares the sentiment labels."
      ],
      "metadata": {
        "id": "ZLwOpUh4UgA2"
      }
    },
    {
      "cell_type": "code",
      "execution_count": null,
      "metadata": {
        "colab": {
          "base_uri": "https://localhost:8080/",
          "height": 206
        },
        "id": "3MSUCtkoTldD",
        "outputId": "9429de74-5a91-4a55-ba7a-1c28d72284ff"
      },
      "outputs": [
        {
          "output_type": "execute_result",
          "data": {
            "text/plain": [
              "                                          tweet_text       product_brand  \\\n",
              "0  .@wesley83 I have a 3G iPhone. After 3 hrs twe...              iPhone   \n",
              "1  @jessedee Know about @fludapp ? Awesome iPad/i...  iPad or iPhone App   \n",
              "2  @swonderlin Can not wait for #iPad 2 also. The...                iPad   \n",
              "3  @sxsw I hope this year's festival isn't as cra...  iPad or iPhone App   \n",
              "4  @sxtxstate great stuff on Fri #SXSW: Marissa M...              Google   \n",
              "\n",
              "          sentiment  \n",
              "0  Negative emotion  \n",
              "1  Positive emotion  \n",
              "2  Positive emotion  \n",
              "3  Negative emotion  \n",
              "4  Positive emotion  "
            ],
            "text/html": [
              "\n",
              "  <div id=\"df-38ee60ce-22de-419f-8ed3-67ae9e78db44\" class=\"colab-df-container\">\n",
              "    <div>\n",
              "<style scoped>\n",
              "    .dataframe tbody tr th:only-of-type {\n",
              "        vertical-align: middle;\n",
              "    }\n",
              "\n",
              "    .dataframe tbody tr th {\n",
              "        vertical-align: top;\n",
              "    }\n",
              "\n",
              "    .dataframe thead th {\n",
              "        text-align: right;\n",
              "    }\n",
              "</style>\n",
              "<table border=\"1\" class=\"dataframe\">\n",
              "  <thead>\n",
              "    <tr style=\"text-align: right;\">\n",
              "      <th></th>\n",
              "      <th>tweet_text</th>\n",
              "      <th>product_brand</th>\n",
              "      <th>sentiment</th>\n",
              "    </tr>\n",
              "  </thead>\n",
              "  <tbody>\n",
              "    <tr>\n",
              "      <th>0</th>\n",
              "      <td>.@wesley83 I have a 3G iPhone. After 3 hrs twe...</td>\n",
              "      <td>iPhone</td>\n",
              "      <td>Negative emotion</td>\n",
              "    </tr>\n",
              "    <tr>\n",
              "      <th>1</th>\n",
              "      <td>@jessedee Know about @fludapp ? Awesome iPad/i...</td>\n",
              "      <td>iPad or iPhone App</td>\n",
              "      <td>Positive emotion</td>\n",
              "    </tr>\n",
              "    <tr>\n",
              "      <th>2</th>\n",
              "      <td>@swonderlin Can not wait for #iPad 2 also. The...</td>\n",
              "      <td>iPad</td>\n",
              "      <td>Positive emotion</td>\n",
              "    </tr>\n",
              "    <tr>\n",
              "      <th>3</th>\n",
              "      <td>@sxsw I hope this year's festival isn't as cra...</td>\n",
              "      <td>iPad or iPhone App</td>\n",
              "      <td>Negative emotion</td>\n",
              "    </tr>\n",
              "    <tr>\n",
              "      <th>4</th>\n",
              "      <td>@sxtxstate great stuff on Fri #SXSW: Marissa M...</td>\n",
              "      <td>Google</td>\n",
              "      <td>Positive emotion</td>\n",
              "    </tr>\n",
              "  </tbody>\n",
              "</table>\n",
              "</div>\n",
              "    <div class=\"colab-df-buttons\">\n",
              "\n",
              "  <div class=\"colab-df-container\">\n",
              "    <button class=\"colab-df-convert\" onclick=\"convertToInteractive('df-38ee60ce-22de-419f-8ed3-67ae9e78db44')\"\n",
              "            title=\"Convert this dataframe to an interactive table.\"\n",
              "            style=\"display:none;\">\n",
              "\n",
              "  <svg xmlns=\"http://www.w3.org/2000/svg\" height=\"24px\" viewBox=\"0 -960 960 960\">\n",
              "    <path d=\"M120-120v-720h720v720H120Zm60-500h600v-160H180v160Zm220 220h160v-160H400v160Zm0 220h160v-160H400v160ZM180-400h160v-160H180v160Zm440 0h160v-160H620v160ZM180-180h160v-160H180v160Zm440 0h160v-160H620v160Z\"/>\n",
              "  </svg>\n",
              "    </button>\n",
              "\n",
              "  <style>\n",
              "    .colab-df-container {\n",
              "      display:flex;\n",
              "      gap: 12px;\n",
              "    }\n",
              "\n",
              "    .colab-df-convert {\n",
              "      background-color: #E8F0FE;\n",
              "      border: none;\n",
              "      border-radius: 50%;\n",
              "      cursor: pointer;\n",
              "      display: none;\n",
              "      fill: #1967D2;\n",
              "      height: 32px;\n",
              "      padding: 0 0 0 0;\n",
              "      width: 32px;\n",
              "    }\n",
              "\n",
              "    .colab-df-convert:hover {\n",
              "      background-color: #E2EBFA;\n",
              "      box-shadow: 0px 1px 2px rgba(60, 64, 67, 0.3), 0px 1px 3px 1px rgba(60, 64, 67, 0.15);\n",
              "      fill: #174EA6;\n",
              "    }\n",
              "\n",
              "    .colab-df-buttons div {\n",
              "      margin-bottom: 4px;\n",
              "    }\n",
              "\n",
              "    [theme=dark] .colab-df-convert {\n",
              "      background-color: #3B4455;\n",
              "      fill: #D2E3FC;\n",
              "    }\n",
              "\n",
              "    [theme=dark] .colab-df-convert:hover {\n",
              "      background-color: #434B5C;\n",
              "      box-shadow: 0px 1px 3px 1px rgba(0, 0, 0, 0.15);\n",
              "      filter: drop-shadow(0px 1px 2px rgba(0, 0, 0, 0.3));\n",
              "      fill: #FFFFFF;\n",
              "    }\n",
              "  </style>\n",
              "\n",
              "    <script>\n",
              "      const buttonEl =\n",
              "        document.querySelector('#df-38ee60ce-22de-419f-8ed3-67ae9e78db44 button.colab-df-convert');\n",
              "      buttonEl.style.display =\n",
              "        google.colab.kernel.accessAllowed ? 'block' : 'none';\n",
              "\n",
              "      async function convertToInteractive(key) {\n",
              "        const element = document.querySelector('#df-38ee60ce-22de-419f-8ed3-67ae9e78db44');\n",
              "        const dataTable =\n",
              "          await google.colab.kernel.invokeFunction('convertToInteractive',\n",
              "                                                    [key], {});\n",
              "        if (!dataTable) return;\n",
              "\n",
              "        const docLinkHtml = 'Like what you see? Visit the ' +\n",
              "          '<a target=\"_blank\" href=https://colab.research.google.com/notebooks/data_table.ipynb>data table notebook</a>'\n",
              "          + ' to learn more about interactive tables.';\n",
              "        element.innerHTML = '';\n",
              "        dataTable['output_type'] = 'display_data';\n",
              "        await google.colab.output.renderOutput(dataTable, element);\n",
              "        const docLink = document.createElement('div');\n",
              "        docLink.innerHTML = docLinkHtml;\n",
              "        element.appendChild(docLink);\n",
              "      }\n",
              "    </script>\n",
              "  </div>\n",
              "\n",
              "\n",
              "    <div id=\"df-269ff5af-8d91-4d88-a52d-c5f26e135a01\">\n",
              "      <button class=\"colab-df-quickchart\" onclick=\"quickchart('df-269ff5af-8d91-4d88-a52d-c5f26e135a01')\"\n",
              "                title=\"Suggest charts\"\n",
              "                style=\"display:none;\">\n",
              "\n",
              "<svg xmlns=\"http://www.w3.org/2000/svg\" height=\"24px\"viewBox=\"0 0 24 24\"\n",
              "     width=\"24px\">\n",
              "    <g>\n",
              "        <path d=\"M19 3H5c-1.1 0-2 .9-2 2v14c0 1.1.9 2 2 2h14c1.1 0 2-.9 2-2V5c0-1.1-.9-2-2-2zM9 17H7v-7h2v7zm4 0h-2V7h2v10zm4 0h-2v-4h2v4z\"/>\n",
              "    </g>\n",
              "</svg>\n",
              "      </button>\n",
              "\n",
              "<style>\n",
              "  .colab-df-quickchart {\n",
              "      --bg-color: #E8F0FE;\n",
              "      --fill-color: #1967D2;\n",
              "      --hover-bg-color: #E2EBFA;\n",
              "      --hover-fill-color: #174EA6;\n",
              "      --disabled-fill-color: #AAA;\n",
              "      --disabled-bg-color: #DDD;\n",
              "  }\n",
              "\n",
              "  [theme=dark] .colab-df-quickchart {\n",
              "      --bg-color: #3B4455;\n",
              "      --fill-color: #D2E3FC;\n",
              "      --hover-bg-color: #434B5C;\n",
              "      --hover-fill-color: #FFFFFF;\n",
              "      --disabled-bg-color: #3B4455;\n",
              "      --disabled-fill-color: #666;\n",
              "  }\n",
              "\n",
              "  .colab-df-quickchart {\n",
              "    background-color: var(--bg-color);\n",
              "    border: none;\n",
              "    border-radius: 50%;\n",
              "    cursor: pointer;\n",
              "    display: none;\n",
              "    fill: var(--fill-color);\n",
              "    height: 32px;\n",
              "    padding: 0;\n",
              "    width: 32px;\n",
              "  }\n",
              "\n",
              "  .colab-df-quickchart:hover {\n",
              "    background-color: var(--hover-bg-color);\n",
              "    box-shadow: 0 1px 2px rgba(60, 64, 67, 0.3), 0 1px 3px 1px rgba(60, 64, 67, 0.15);\n",
              "    fill: var(--button-hover-fill-color);\n",
              "  }\n",
              "\n",
              "  .colab-df-quickchart-complete:disabled,\n",
              "  .colab-df-quickchart-complete:disabled:hover {\n",
              "    background-color: var(--disabled-bg-color);\n",
              "    fill: var(--disabled-fill-color);\n",
              "    box-shadow: none;\n",
              "  }\n",
              "\n",
              "  .colab-df-spinner {\n",
              "    border: 2px solid var(--fill-color);\n",
              "    border-color: transparent;\n",
              "    border-bottom-color: var(--fill-color);\n",
              "    animation:\n",
              "      spin 1s steps(1) infinite;\n",
              "  }\n",
              "\n",
              "  @keyframes spin {\n",
              "    0% {\n",
              "      border-color: transparent;\n",
              "      border-bottom-color: var(--fill-color);\n",
              "      border-left-color: var(--fill-color);\n",
              "    }\n",
              "    20% {\n",
              "      border-color: transparent;\n",
              "      border-left-color: var(--fill-color);\n",
              "      border-top-color: var(--fill-color);\n",
              "    }\n",
              "    30% {\n",
              "      border-color: transparent;\n",
              "      border-left-color: var(--fill-color);\n",
              "      border-top-color: var(--fill-color);\n",
              "      border-right-color: var(--fill-color);\n",
              "    }\n",
              "    40% {\n",
              "      border-color: transparent;\n",
              "      border-right-color: var(--fill-color);\n",
              "      border-top-color: var(--fill-color);\n",
              "    }\n",
              "    60% {\n",
              "      border-color: transparent;\n",
              "      border-right-color: var(--fill-color);\n",
              "    }\n",
              "    80% {\n",
              "      border-color: transparent;\n",
              "      border-right-color: var(--fill-color);\n",
              "      border-bottom-color: var(--fill-color);\n",
              "    }\n",
              "    90% {\n",
              "      border-color: transparent;\n",
              "      border-bottom-color: var(--fill-color);\n",
              "    }\n",
              "  }\n",
              "</style>\n",
              "\n",
              "      <script>\n",
              "        async function quickchart(key) {\n",
              "          const quickchartButtonEl =\n",
              "            document.querySelector('#' + key + ' button');\n",
              "          quickchartButtonEl.disabled = true;  // To prevent multiple clicks.\n",
              "          quickchartButtonEl.classList.add('colab-df-spinner');\n",
              "          try {\n",
              "            const charts = await google.colab.kernel.invokeFunction(\n",
              "                'suggestCharts', [key], {});\n",
              "          } catch (error) {\n",
              "            console.error('Error during call to suggestCharts:', error);\n",
              "          }\n",
              "          quickchartButtonEl.classList.remove('colab-df-spinner');\n",
              "          quickchartButtonEl.classList.add('colab-df-quickchart-complete');\n",
              "        }\n",
              "        (() => {\n",
              "          let quickchartButtonEl =\n",
              "            document.querySelector('#df-269ff5af-8d91-4d88-a52d-c5f26e135a01 button');\n",
              "          quickchartButtonEl.style.display =\n",
              "            google.colab.kernel.accessAllowed ? 'block' : 'none';\n",
              "        })();\n",
              "      </script>\n",
              "    </div>\n",
              "\n",
              "    </div>\n",
              "  </div>\n"
            ],
            "application/vnd.google.colaboratory.intrinsic+json": {
              "type": "dataframe",
              "variable_name": "df",
              "summary": "{\n  \"name\": \"df\",\n  \"rows\": 9093,\n  \"fields\": [\n    {\n      \"column\": \"tweet_text\",\n      \"properties\": {\n        \"dtype\": \"string\",\n        \"num_unique_values\": 9065,\n        \"samples\": [\n          \"RT @mention @mention shows #Apple 's position in the tablet wars. #tapworthy #sxsw  {link}\",\n          \"My first #SXSW survival kit. iPhone not in the shot because I'm using it to take the picture.  {link} I might be ready.\",\n          \"RT@mention by parabolico_bh MARAVILHA, APROVEITEM!\\n{link} \\u0089\\u00e3_ #edchat #musedchat #sxsw #sxswi #classical\"\n        ],\n        \"semantic_type\": \"\",\n        \"description\": \"\"\n      }\n    },\n    {\n      \"column\": \"product_brand\",\n      \"properties\": {\n        \"dtype\": \"category\",\n        \"num_unique_values\": 9,\n        \"samples\": [\n          \"Other Google product or service\",\n          \"iPad or iPhone App\",\n          \"Apple\"\n        ],\n        \"semantic_type\": \"\",\n        \"description\": \"\"\n      }\n    },\n    {\n      \"column\": \"sentiment\",\n      \"properties\": {\n        \"dtype\": \"category\",\n        \"num_unique_values\": 4,\n        \"samples\": [\n          \"Positive emotion\",\n          \"I can't tell\",\n          \"Negative emotion\"\n        ],\n        \"semantic_type\": \"\",\n        \"description\": \"\"\n      }\n    }\n  ]\n}"
            }
          },
          "metadata": {},
          "execution_count": 17
        }
      ],
      "source": [
        "import pandas as pd\n",
        "from sklearn.model_selection import train_test_split\n",
        "from sklearn.feature_extraction.text import TfidfVectorizer\n",
        "from sklearn.linear_model import LogisticRegression\n",
        "from sklearn.naive_bayes import MultinomialNB\n",
        "from sklearn.metrics import classification_report, confusion_matrix, accuracy_score\n",
        "import matplotlib.pyplot as plt\n",
        "import seaborn as sns\n",
        "\n",
        "# Load Data & Clean\n",
        "df = pd.read_csv('judge-1377884607_tweet_product_company.csv', encoding='latin1')\n",
        "df.columns = ['tweet_text', 'product_brand', 'sentiment']\n",
        "\n",
        "# Clean up sentiment labels and filter out 'I can\\'t tell' and NaNs\n",
        "df_clean = df.dropna(subset=['sentiment']).copy()\n",
        "df_clean = df_clean[df_clean['sentiment'] != \"I can't tell\"]\n",
        "df_clean['sentiment'] = df_clean['sentiment'].str.replace(' emotion', '').str.replace('No toward brand or product', 'Neutral')\n",
        "df.head()"
      ]
    },
    {
      "cell_type": "markdown",
      "source": [
        "### Binary Dataset Creation and Imbalance Check\n",
        "For the binary classifier, we filter only for 'Positive' and 'Negative' tweets. This reveals the significant class imbalance."
      ],
      "metadata": {
        "id": "B2cPRKv2VI0A"
      }
    },
    {
      "cell_type": "code",
      "source": [
        "# Create Binary Dataset (Positive vs. Negative)\n",
        "df_binary = df_clean[df_clean['sentiment'].isin(['Positive', 'Negative'])].copy()\n",
        "X_binary = df_binary['tweet_text']\n",
        "y_binary = df_binary['sentiment'].apply(lambda x: 1 if x == 'Positive' else 0)\n",
        "\n",
        "# Check class distribution\n",
        "print(\"Binary Class Distribution (0=Negative, 1=Positive):\")\n",
        "print(y_binary.value_counts())"
      ],
      "metadata": {
        "colab": {
          "base_uri": "https://localhost:8080/"
        },
        "id": "dWWuoeNSU-i1",
        "outputId": "feefec33-5058-49b4-ddaa-1cf0f65f8e85"
      },
      "execution_count": null,
      "outputs": [
        {
          "output_type": "stream",
          "name": "stdout",
          "text": [
            "Binary Class Distribution (0=Negative, 1=Positive):\n",
            "sentiment\n",
            "1    2978\n",
            "0     570\n",
            "Name: count, dtype: int64\n"
          ]
        }
      ]
    },
    {
      "cell_type": "markdown",
      "source": [
        "This severe imbalance (nearly 5:1) means the model must be evaluated based on its performance on the minority Negative class, typically using the F1-Score."
      ],
      "metadata": {
        "id": "yz38UpdkVXpf"
      }
    },
    {
      "cell_type": "markdown",
      "source": [
        "##3. **Data Preparation**\n",
        "We use TF-IDF (Term Frequency-Inverse Document Frequency) to convert the raw text data into a numerical format (feature vectors) suitable for machine learning models."
      ],
      "metadata": {
        "id": "zjTmH1cQVc_7"
      }
    },
    {
      "cell_type": "code",
      "source": [
        "# Split data (Stratified split maintains the 5:1 ratio in both sets)\n",
        "X_train, X_test, y_train, y_test = train_test_split(\n",
        "    X_binary, y_binary, test_size=0.3, random_state=42, stratify=y_binary\n",
        ")\n",
        "\n",
        "# TF-IDF Vectorization\n",
        "vectorizer = TfidfVectorizer(ngram_range=(1, 2), stop_words='english', max_features=5000)\n",
        "X_train_vec = vectorizer.fit_transform(X_train)\n",
        "X_test_vec = vectorizer.transform(X_test)"
      ],
      "metadata": {
        "id": "vUCJt7iPVQif"
      },
      "execution_count": null,
      "outputs": []
    },
    {
      "cell_type": "markdown",
      "source": [
        "##4. **Modeling & Evaluation (Binary Classifier)**\n",
        "We compare Logistic Regression (using class weights to address imbalance) and Multinomial Naive Bayes"
      ],
      "metadata": {
        "id": "8Vhd4ecHVqr8"
      }
    },
    {
      "cell_type": "code",
      "source": [
        "# 1. Model 1: Logistic Regression (Balanced)\n",
        "# class_weight='balanced' automatically adjusts weights inversely proportional to class frequencies.\n",
        "log_reg = LogisticRegression(class_weight='balanced', solver='liblinear', random_state=42)\n",
        "log_reg.fit(X_train_vec, y_train)\n",
        "y_pred_log_reg = log_reg.predict(X_test_vec)\n",
        "\n",
        "# 2. Model 2: Multinomial Naive Bayes (Standard)\n",
        "nb = MultinomialNB()\n",
        "nb.fit(X_train_vec, y_train)\n",
        "y_pred_nb = nb.predict(X_test_vec)"
      ],
      "metadata": {
        "id": "IZD9eM8nVlBw"
      },
      "execution_count": null,
      "outputs": []
    },
    {
      "cell_type": "code",
      "source": [
        "# Evaluate Logistic Regression\n",
        "print(\"Logistic Regression Performance:\")\n",
        "print(classification_report(y_test, y_pred_log_reg))\n",
        "print(\"Confusion Matrix:\")\n",
        "print(confusion_matrix(y_test, y_pred_log_reg))\n",
        "print(\"\\n\")\n",
        "\n",
        "# Evaluate Multinomial Naive Bayes\n",
        "print(\"Multinomial Naive Bayes Performance:\")\n",
        "print(classification_report(y_test, y_pred_nb))\n",
        "print(\"Confusion Matrix:\")\n",
        "print(confusion_matrix(y_test, y_pred_nb))"
      ],
      "metadata": {
        "colab": {
          "base_uri": "https://localhost:8080/"
        },
        "id": "SxWw0TIAVyf7",
        "outputId": "4278f6f4-9d60-4455-b65f-e4a442b98f1b"
      },
      "execution_count": null,
      "outputs": [
        {
          "output_type": "stream",
          "name": "stdout",
          "text": [
            "Logistic Regression Performance:\n",
            "              precision    recall  f1-score   support\n",
            "\n",
            "           0       0.44      0.54      0.49       171\n",
            "           1       0.91      0.87      0.89       894\n",
            "\n",
            "    accuracy                           0.82      1065\n",
            "   macro avg       0.68      0.71      0.69      1065\n",
            "weighted avg       0.83      0.82      0.82      1065\n",
            "\n",
            "Confusion Matrix:\n",
            "[[ 93  78]\n",
            " [117 777]]\n",
            "\n",
            "\n",
            "Multinomial Naive Bayes Performance:\n",
            "              precision    recall  f1-score   support\n",
            "\n",
            "           0       0.94      0.09      0.17       171\n",
            "           1       0.85      1.00      0.92       894\n",
            "\n",
            "    accuracy                           0.85      1065\n",
            "   macro avg       0.90      0.55      0.54      1065\n",
            "weighted avg       0.87      0.85      0.80      1065\n",
            "\n",
            "Confusion Matrix:\n",
            "[[ 16 155]\n",
            " [  1 893]]\n"
          ]
        }
      ]
    },
    {
      "cell_type": "markdown",
      "source": [
        "**Comparison Summary**\n",
        "\n",
        "Naive Bayes achieved higher overall Accuracy (85.%) because it correctly classified nearly every single majority Positive tweet. However, its Negative F1-Score is extremely low (0.17), meaning it misses most true negative tweets (high False Negatives), making it a poor choice for the business problem.\n",
        "\n",
        "**Logistic Regression** (with balanced weights) sacrifices some overall accuracy but significantly improves its ability to correctly identify the minority Negative class (F1-Score: 0.49). This model is preferred because it actively finds the critical negative sentiment, which is the key business driver for brand monitoring."
      ],
      "metadata": {
        "id": "Odw9b7e3WWJg"
      }
    },
    {
      "cell_type": "markdown",
      "source": [
        "##**Confusion Matrix Visualization (Logistic Regression)**\n",
        "\n",
        "The confusion matrix visually confirms the model's performance, showing the trade-off made to improve recall for the minority class."
      ],
      "metadata": {
        "id": "B1tLAuM7XA9C"
      }
    },
    {
      "cell_type": "code",
      "source": [
        "# Visualization: Confusion Matrix for Logistic Regression\n",
        "cm_log_reg = confusion_matrix(y_test, y_pred_log_reg)\n",
        "plt.figure(figsize=(6, 5))\n",
        "sns.heatmap(cm_log_reg, annot=True, fmt='d', cmap='Blues', xticklabels=['Negative', 'Positive'], yticklabels=['Negative', 'Positive'])\n",
        "plt.title('Logistic Regression Confusion Matrix (Binary)')\n",
        "plt.ylabel('True Label')\n",
        "plt.xlabel('Predicted Label')\n",
        "plt.show()"
      ],
      "metadata": {
        "colab": {
          "base_uri": "https://localhost:8080/",
          "height": 487
        },
        "id": "VLT033w2Wqbb",
        "outputId": "b2ad8a9c-53cd-4c88-9c31-9e55b8fd9865"
      },
      "execution_count": null,
      "outputs": [
        {
          "output_type": "display_data",
          "data": {
            "text/plain": [
              "<Figure size 600x500 with 2 Axes>"
            ],
            "image/png": "[encoded data removed]"
          },
          "metadata": {}
        }
      ]
    },
    {
      "cell_type": "markdown",
      "source": [
        "##5. **Modeling & Evaluation (Multiclass Classifier)**\n",
        "\n",
        "Based on the superior performance of the Logistic Regression approach in handling imbalance, we shift to the multiclass problem (Positive, Negative, Neutral).\n",
        "\n",
        "We extend the problem to include the Neutral class. The best model, based on performance in high-dimensional text space and handling imbalance, is the Linear Support Vector Machine (LinearSVC)."
      ],
      "metadata": {
        "id": "mMNLdIrvXVtM"
      }
    },
    {
      "cell_type": "code",
      "source": [
        "from sklearn.naive_bayes import MultinomialNB\n",
        "from sklearn.svm import LinearSVC, SVC # Import SVC for standard SVM\n",
        "from sklearn.metrics import accuracy_score\n",
        "\n",
        "# Prepare data for Multiclass Classification (Positive, Negative, Neutral)\n",
        "X_multi = df_clean['tweet_text'].fillna('') # Fill NaN values with empty string\n",
        "y_multi = df_clean['sentiment']\n",
        "\n",
        "# Check multiclass distribution\n",
        "print(\"Multiclass Class Distribution:\")\n",
        "print(y_multi.value_counts())\n",
        "\n",
        "# Split data (Stratified split is important here too due to potential imbalance in Neutral)\n",
        "X_train_multi, X_test_multi, y_train_multi, y_test_multi = train_test_split(\n",
        "    X_multi, y_multi, test_size=0.3, random_state=42, stratify=y_multi\n",
        ")\n",
        "\n",
        "# TF-IDF Vectorization (using the same vectorizer, but refit on the multiclass data)\n",
        "vectorizer_multi = TfidfVectorizer(ngram_range=(1, 2), stop_words='english', max_features=5000)\n",
        "X_train_multi_vec = vectorizer_multi.fit_transform(X_train_multi)\n",
        "X_test_multi_vec = vectorizer_multi.transform(X_test_multi)\n",
        "\n",
        "# 1. Model: Multinomial Naive Bayes\n",
        "mnb = MultinomialNB()\n",
        "mnb.fit(X_train_multi_vec, y_train_multi)\n",
        "y_pred_mnb = mnb.predict(X_test_multi_vec)\n",
        "accuracy_mnb = accuracy_score(y_test_multi, y_pred_mnb)\n",
        "print(f\"Multinomial Naive Bayes Accuracy: {accuracy_mnb:.4f}\")\n",
        "\n",
        "# 2. Model: Linear Support Vector Machine (LinearSVC)\n",
        "lsvc = LinearSVC(class_weight='balanced', random_state=42, max_iter=10000)\n",
        "lsvc.fit(X_train_multi_vec, y_train_multi)\n",
        "y_pred_lsvc = lsvc.predict(X_test_multi_vec)\n",
        "accuracy_lsvc = accuracy_score(y_test_multi, y_pred_lsvc)\n",
        "print(f\"LinearSVC Accuracy: {accuracy_lsvc:.4f}\")\n",
        "\n",
        "# 3. Model: Support Vector Machine (SVC) - RBF Kernel\n",
        "# Using a non-linear kernel like RBF can capture more complex relationships\n",
        "svc = SVC(class_weight='balanced', random_state=42)\n",
        "svc.fit(X_train_multi_vec, y_train_multi)\n",
        "y_pred_svc = svc.predict(X_test_multi_vec)\n",
        "accuracy_svc = accuracy_score(y_test_multi, y_pred_svc)\n",
        "print(f\"SVC Accuracy: {accuracy_svc:.4f}\")"
      ],
      "metadata": {
        "colab": {
          "base_uri": "https://localhost:8080/"
        },
        "id": "mE7cEWUSZ2Yf",
        "outputId": "607fa9af-4a23-4957-ac5d-5729b98aba49"
      },
      "execution_count": null,
      "outputs": [
        {
          "output_type": "stream",
          "name": "stdout",
          "text": [
            "Multiclass Class Distribution:\n",
            "sentiment\n",
            "Neutral     5389\n",
            "Positive    2978\n",
            "Negative     570\n",
            "Name: count, dtype: int64\n",
            "Multinomial Naive Bayes Accuracy: 0.6659\n",
            "LinearSVC Accuracy: 0.6648\n",
            "SVC Accuracy: 0.6652\n"
          ]
        }
      ]
    },
    {
      "cell_type": "code",
      "source": [
        "from sklearn.metrics import classification_report, confusion_matrix\n",
        "\n",
        "# Evaluate Multinomial Naive Bayes (Multiclass)\n",
        "print(\"Multinomial Naive Bayes Performance (Multiclass):\")\n",
        "print(classification_report(y_test_multi, y_pred_mnb))\n",
        "print(\"Confusion Matrix:\")\n",
        "print(confusion_matrix(y_test_multi, y_pred_mnb))\n",
        "print(\"\\n\")\n",
        "\n",
        "# Evaluate Linear Support Vector Machine (LinearSVC) (Multiclass)\n",
        "print(\"LinearSVC Performance (Multiclass):\")\n",
        "print(classification_report(y_test_multi, y_pred_lsvc))\n",
        "print(\"Confusion Matrix:\")\n",
        "print(confusion_matrix(y_test_multi, y_pred_lsvc))\n",
        "print(\"\\n\")\n",
        "\n",
        "# Evaluate Support Vector Machine (SVC) (Multiclass)\n",
        "print(\"Support Vector Machine (SVC) Performance (Multiclass):\")\n",
        "print(classification_report(y_test_multi, y_pred_svc))\n",
        "print(\"Confusion Matrix:\")\n",
        "print(confusion_matrix(y_test_multi, y_pred_svc))"
      ],
      "metadata": {
        "colab": {
          "base_uri": "https://localhost:8080/"
        },
        "id": "n3X6Z2MEaRjo",
        "outputId": "b9d87c8b-c6e2-4952-8841-e44c6384a7fb"
      },
      "execution_count": null,
      "outputs": [
        {
          "output_type": "stream",
          "name": "stdout",
          "text": [
            "Multinomial Naive Bayes Performance (Multiclass):\n",
            "              precision    recall  f1-score   support\n",
            "\n",
            "    Negative       0.78      0.04      0.08       171\n",
            "     Neutral       0.68      0.90      0.77      1617\n",
            "    Positive       0.63      0.36      0.46       894\n",
            "\n",
            "    accuracy                           0.67      2682\n",
            "   macro avg       0.69      0.43      0.44      2682\n",
            "weighted avg       0.67      0.67      0.62      2682\n",
            "\n",
            "Confusion Matrix:\n",
            "[[   7  129   35]\n",
            " [   2 1458  157]\n",
            " [   0  573  321]]\n",
            "\n",
            "\n",
            "LinearSVC Performance (Multiclass):\n",
            "              precision    recall  f1-score   support\n",
            "\n",
            "    Negative       0.34      0.36      0.35       171\n",
            "     Neutral       0.74      0.76      0.75      1617\n",
            "    Positive       0.59      0.55      0.57       894\n",
            "\n",
            "    accuracy                           0.66      2682\n",
            "   macro avg       0.55      0.56      0.56      2682\n",
            "weighted avg       0.66      0.66      0.66      2682\n",
            "\n",
            "Confusion Matrix:\n",
            "[[  62   63   46]\n",
            " [  89 1226  302]\n",
            " [  33  366  495]]\n",
            "\n",
            "\n",
            "Support Vector Machine (SVC) Performance (Multiclass):\n",
            "              precision    recall  f1-score   support\n",
            "\n",
            "    Negative       0.44      0.25      0.32       171\n",
            "     Neutral       0.75      0.74      0.74      1617\n",
            "    Positive       0.56      0.61      0.58       894\n",
            "\n",
            "    accuracy                           0.67      2682\n",
            "   macro avg       0.58      0.53      0.55      2682\n",
            "weighted avg       0.66      0.67      0.66      2682\n",
            "\n",
            "Confusion Matrix:\n",
            "[[  43   68   60]\n",
            " [  48 1194  375]\n",
            " [   7  340  547]]\n"
          ]
        }
      ]
    },
    {
      "cell_type": "code",
      "source": [
        "# Visualization: Confusion Matrix for LinearSVC (Multiclass)\n",
        "cm_lsvc = confusion_matrix(y_test_multi, y_pred_lsvc)\n",
        "plt.figure(figsize=(8, 6))\n",
        "sns.heatmap(cm_lsvc, annot=True, fmt='d', cmap='Blues', xticklabels=lsvc.classes_, yticklabels=lsvc.classes_)\n",
        "plt.title('LinearSVC Confusion Matrix (Multiclass)')\n",
        "plt.ylabel('True Label')\n",
        "plt.xlabel('Predicted Label')\n",
        "plt.show()"
      ],
      "metadata": {
        "colab": {
          "base_uri": "https://localhost:8080/",
          "height": 564
        },
        "id": "Dz3saouDbpTl",
        "outputId": "897f7d63-8330-4430-b2ff-57a193ded62e"
      },
      "execution_count": null,
      "outputs": [
        {
          "output_type": "display_data",
          "data": {
            "text/plain": [
              "<Figure size 800x600 with 2 Axes>"
            ],
            "image/png": "[encoded data removed]"
          },
          "metadata": {}
        }
      ]
    },
    {
      "cell_type": "markdown",
      "source": [
        "## 6. **Deployment**\n",
        "The final step is to create a robust Pipeline that bundles the pre-processing (TF-IDF Vectorizer) with the final classifier (LinearSVC). This guarantees consistent data transformation in a production environment.\n",
        "\n",
        "**Building and Saving the Production Pipeline**"
      ],
      "metadata": {
        "id": "s_b97b7KbOTN"
      }
    },
    {
      "cell_type": "code",
      "source": [
        "from sklearn.pipeline import Pipeline # Import Pipeline\n",
        "from sklearn.feature_extraction.text import TfidfVectorizer\n",
        "from sklearn.svm import LinearSVC\n",
        "import joblib\n",
        "\n",
        "# Create the full multiclass dataset (including 'Neutral')\n",
        "X_multi = df_clean['tweet_text'].fillna('') # Fill NaN values with empty string\n",
        "y_multi = df_clean['sentiment']\n",
        "\n",
        "# 1. Define the Pipeline: TFIDF -> LinearSVC\n",
        "pipeline_svm = Pipeline([\n",
        "    ('tfidf', TfidfVectorizer(ngram_range=(1, 2), stop_words='english')),\n",
        "    ('clf', LinearSVC(class_weight='balanced', random_state=42))\n",
        "])\n",
        "\n",
        "# 2. Train the final pipeline on the entire multiclass dataset\n",
        "pipeline_svm.fit(X_multi, y_multi)\n",
        "\n",
        "# 3. Save the trained pipeline for deployment\n",
        "joblib.dump(pipeline_svm, 'sentiment_model_pipeline.joblib')\n",
        "\n",
        "print(\"Final pipeline trained and saved successfully as sentiment_model_pipeline.joblib.\")"
      ],
      "metadata": {
        "colab": {
          "base_uri": "https://localhost:8080/"
        },
        "id": "5LDJEg6mbiyE",
        "outputId": "56375eed-1868-4d02-ae33-086c28e6b2bc"
      },
      "execution_count": null,
      "outputs": [
        {
          "output_type": "stream",
          "name": "stdout",
          "text": [
            "Final pipeline trained and saved successfully as sentiment_model_pipeline.joblib.\n"
          ]
        }
      ]
    },
    {
      "cell_type": "markdown",
      "source": [
        "Proof of Concept Prediction\n",
        "The saved model can be loaded and used to classify any new tweet text:"
      ],
      "metadata": {
        "id": "ihx8k71BcBBq"
      }
    },
    {
      "cell_type": "code",
      "source": [
        "# Load the saved pipeline\n",
        "loaded_pipeline = joblib.load('sentiment_model_pipeline.joblib')\n",
        "\n",
        "new_tweets = [\n",
        "    \"Apple's new product is amazing! Flawless design.\",\n",
        "    \"My Google phone died after one hour of use. Terrible!\",\n",
        "    \"Just saw a presentation about Google at SXSW.\",\n",
        "    \"The new iOS update is just fine, nothing special.\",\n",
        "]\n",
        "predictions = loaded_pipeline.predict(new_tweets)\n",
        "\n",
        "print(\"New Tweet Predictions:\", predictions)\n",
        "# Expected Output (Based on model training): ['Positive', 'Negative', 'Neutral', 'Neutral']"
      ],
      "metadata": {
        "colab": {
          "base_uri": "https://localhost:8080/"
        },
        "id": "BvnhCTVBb3ay",
        "outputId": "f6a6ab61-3dd3-4981-ca94-434011b13565"
      },
      "execution_count": null,
      "outputs": [
        {
          "output_type": "stream",
          "name": "stdout",
          "text": [
            "New Tweet Predictions: ['Positive' 'Negative' 'Positive' 'Neutral']\n"
          ]
        }
      ]
    },
    {
      "cell_type": "markdown",
      "source": [
        "##7. **Deployment: Creating a Simple API **\n",
        "The deployment strategy is to use the saved Scikit-learn Pipeline within a Flask web server. This server will listen for new tweets sent via an HTTP request, pass the text to the loaded pipeline, and return the predicted sentiment.\n",
        "\n",
        "**Step 1: Set up the Project Environment**"
      ],
      "metadata": {
        "id": "7qBLOgrTmGmh"
      }
    },
    {
      "cell_type": "code",
      "source": [
        "# Required libraries for a simple API\n",
        "!pip install flask joblib jsonify"
      ],
      "metadata": {
        "colab": {
          "base_uri": "https://localhost:8080/"
        },
        "id": "M6h26ZU9mNb6",
        "outputId": "56358098-02bb-4411-9736-10b83016d7e4"
      },
      "execution_count": null,
      "outputs": [
        {
          "output_type": "stream",
          "name": "stdout",
          "text": [
            "Requirement already satisfied: flask in /usr/local/lib/python3.12/dist-packages (3.1.2)\n",
            "Requirement already satisfied: joblib in /usr/local/lib/python3.12/dist-packages (1.5.2)\n",
            "Requirement already satisfied: jsonify in /usr/local/lib/python3.12/dist-packages (0.5)\n",
            "Requirement already satisfied: blinker>=1.9.0 in /usr/local/lib/python3.12/dist-packages (from flask) (1.9.0)\n",
            "Requirement already satisfied: click>=8.1.3 in /usr/local/lib/python3.12/dist-packages (from flask) (8.3.0)\n",
            "Requirement already satisfied: itsdangerous>=2.2.0 in /usr/local/lib/python3.12/dist-packages (from flask) (2.2.0)\n",
            "Requirement already satisfied: jinja2>=3.1.2 in /usr/local/lib/python3.12/dist-packages (from flask) (3.1.6)\n",
            "Requirement already satisfied: markupsafe>=2.1.1 in /usr/local/lib/python3.12/dist-packages (from flask) (3.0.3)\n",
            "Requirement already satisfied: werkzeug>=3.1.0 in /usr/local/lib/python3.12/dist-packages (from flask) (3.1.3)\n"
          ]
        }
      ]
    },
    {
      "cell_type": "code",
      "source": [
        "import joblib\n",
        "import json\n",
        "\n",
        "# 1. Define the simulation function\n",
        "def test_local_deployment(tweets):\n",
        "    \"\"\"Loads the model and simulates the prediction API call via a function.\"\"\"\n",
        "\n",
        "    # Load the pipeline once\n",
        "    try:\n",
        "        pipeline = joblib.load('sentiment_model_pipeline.joblib')\n",
        "    except FileNotFoundError:\n",
        "        return {\"error\": \"Model file not found. Ensure sentiment_model_pipeline.joblib exists.\"}\n",
        "\n",
        "    try:\n",
        "        # Use the pipeline to predict\n",
        "        predictions = pipeline.predict(tweets)\n",
        "\n",
        "        # Format the results just like the API would\n",
        "        results = predictions.tolist()\n",
        "\n",
        "        return {\n",
        "            'status': 'success (local simulation)',\n",
        "            'predictions': results\n",
        "        }\n",
        "\n",
        "    except Exception as e:\n",
        "        return {'error': f'Prediction error: {e}'}\n",
        "\n",
        "# 2. Define the test data\n",
        "test_data = [\n",
        "    \"I absolutely hate the Google Pixel, worst purchase ever.\",\n",
        "    \"Apple's keynote was just great!\",\n",
        "    \"I need to charge my iPhone.\",\n",
        "]\n",
        "\n",
        "# 3. Call the function and print the results\n",
        "results = test_local_deployment(test_data)\n",
        "\n",
        "print(json.dumps(results, indent=4))"
      ],
      "metadata": {
        "colab": {
          "base_uri": "https://localhost:8080/"
        },
        "id": "fyYehqxnjTAu",
        "outputId": "b5c33777-dec4-46e1-8ef1-62de8038eec0"
      },
      "execution_count": null,
      "outputs": [
        {
          "output_type": "stream",
          "name": "stdout",
          "text": [
            "{\n",
            "    \"status\": \"success (local simulation)\",\n",
            "    \"predictions\": [\n",
            "        \"Negative\",\n",
            "        \"Positive\",\n",
            "        \"Neutral\"\n",
            "    ]\n",
            "}\n"
          ]
        }
      ]
    },
    {
      "cell_type": "code",
      "source": [
        "import joblib\n",
        "import sys\n",
        "\n",
        "# Configuration\n",
        "MODEL_PATH = 'sentiment_model_pipeline.joblib'\n",
        "\n",
        "# 1. Load the Pipeline (Executed only ONCE)\n",
        "try:\n",
        "    pipeline = joblib.load(MODEL_PATH)\n",
        "    print(f\"INFO: Model pipeline loaded successfully for prediction.\")\n",
        "except FileNotFoundError:\n",
        "    print(f\"ERROR: Model file not found at {MODEL_PATH}. Run Step 6 to save the model.\")\n",
        "    sys.exit(1)\n",
        "\n",
        "# 2. Define the Interactive Prediction Function\n",
        "def interactive_predictor(pipeline):\n",
        "    \"\"\"Continuously prompts the user for text input and provides a prediction.\"\"\"\n",
        "\n",
        "    print(\"\\n--- Sentiment Prediction CLI ---\")\n",
        "    print(\"Enter a sentence about a brand or product, or type 'quit' to exit.\")\n",
        "    print(\"-\" * 30)\n",
        "\n",
        "    while True:\n",
        "        try:\n",
        "            # Get user input from the console\n",
        "            user_input = input(\"Enter Text > \")\n",
        "\n",
        "            if user_input.lower() == 'quit':\n",
        "                print(\"Exiting prediction interface. Goodbye!\")\n",
        "                break\n",
        "\n",
        "            if not user_input.strip():\n",
        "                continue\n",
        "\n",
        "            # 3. Predict the sentiment\n",
        "            # The pipeline expects a list of strings, so we wrap the input in a list.\n",
        "            prediction = pipeline.predict([user_input])\n",
        "\n",
        "            # 4. Display the result\n",
        "            sentiment = prediction[0]\n",
        "\n",
        "            print(f\"   [Prediction] -> {sentiment}\\n\")\n",
        "\n",
        "        except Exception as e:\n",
        "            print(f\"An error occurred during prediction: {e}\")\n",
        "            break\n",
        "\n",
        "# 5. Run the interface\n",
        "interactive_predictor(pipeline)"
      ],
      "metadata": {
        "colab": {
          "base_uri": "https://localhost:8080/"
        },
        "id": "uV1iCHrdkBta",
        "outputId": "a91cae0e-00a7-4682-959f-dbe3c39f5b0a"
      },
      "execution_count": null,
      "outputs": [
        {
          "output_type": "stream",
          "name": "stdout",
          "text": [
            "INFO: Model pipeline loaded successfully for prediction.\n",
            "\n",
            "--- Sentiment Prediction CLI ---\n",
            "Enter a sentence about a brand or product, or type 'quit' to exit.\n",
            "------------------------------\n",
            "Enter Text > exit\n",
            "   [Prediction] -> Neutral\n",
            "\n",
            "Enter Text > quit\n",
            "Exiting prediction interface. Goodbye!\n"
          ]
        }
      ]
    },
    {
      "cell_type": "code",
      "source": [],
      "metadata": {
        "id": "PVjmFRgckzRe"
      },
      "execution_count": null,
      "outputs": []
    }
  ]
}