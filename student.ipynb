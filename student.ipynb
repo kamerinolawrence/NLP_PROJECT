{
 "cells": [
  {
   "cell_type": "markdown",
   "metadata": {},
   "source": [
    "# 1.1 BUSINESS UNDERSTANDING\n",
    "\n",
    "\n",
    "### In today’s digital marketplace, companies receive constant feedback from customers through social media platforms such as Twitter. These tweets contain valuable insights into how customers perceive products and brands. However, the volume of data makes it impractical to manually analyze customer sentiments.\n",
    "\n",
    "## 1.2 Business Problem\n",
    "\n",
    "### The company wants to understand customer sentiments and opinions expressed in tweets about its products (or competing brands). This will help improve customer experience, brand reputation, and marketing strategies.\n",
    "\n",
    "## 1.3 Business Goal\n",
    "\n",
    "### To automatically classify tweets as positive, negative, or neutral sentiments towards products or companies.\n",
    "\n",
    "## 1.4. Main Objective\n",
    "\n",
    "### To develop an NLP-based sentiment analysis model that accurately identifies and classifies customer sentiments in tweets related to different products or companies.\n",
    "\n",
    "## 1.5. Specific Objectives\n",
    "\n",
    "#### Data Preprocessing:\n",
    "\n",
    "##### Clean and prepare tweet data by removing noise (hashtags, mentions, URLs, punctuation, etc.) and tokenizing text.\n",
    "\n",
    "#### Exploratory Data Analysis (EDA):\n",
    "\n",
    "##### Understand the distribution of sentiments, common keywords, and relationships between tweet text, products, and sentiment labels.\n",
    "\n",
    "#### Feature Engineering:\n",
    "\n",
    "##### Convert textual data into numerical representations (e.g., TF-IDF).\n",
    "\n",
    "#### Model Development:\n",
    "\n",
    "##### Train and evaluate machine learning or deep learning models (e.g., Logistic Regression, Naïve Bayes, or LSTM) for sentiment classification.\n",
    "\n",
    "#### Model Evaluation:\n",
    "\n",
    "##### Use metrics such as accuracy, precision, recall, F1-score, and confusion matrix to evaluate performance.\n",
    "\n",
    "#### Insight Generation:\n",
    "\n",
    "##### Identify common themes or issues raised by customers in negative tweets and highlight positive feedback patterns."
   ]
  },
  {
   "cell_type": "markdown",
   "metadata": {},
   "source": [
    "# 2.Data Understanding\n",
    "\n",
    "## 2.1 Data Source\n",
    "The dataset has been sourced from data.world.\n",
    "The data contains 9,073 rows and 3 columns\n",
    "\n",
    "## 2.2 Data Overview\n",
    "From the classification report, the dataset includes at least four sentiment categories:\n",
    "1. `I can't tell` — unclear sentiment  \n",
    "2. `Negative emotion` — dissatisfaction, complaints  \n",
    "3. `No emotion toward brand or product` — neutral comments  \n",
    "4. `Positive emotion` — satisfaction  \n",
    "\n",
    "## 2.3 Observations\n",
    "- We discovered that the class distribution seems `imbalanced`, with the “No emotion toward brand or product” class having the highest support (1674 samples).\n",
    "- We saw that the accuracy_score (67.07%) indicates that the model performs moderately well but may struggle with minority classes (\"I can't tell\").\n",
    "- We saw that the data included noise or ambiguous labels due to the subjective nature of sentiment."
   ]
  },
  {
   "cell_type": "markdown",
   "metadata": {},
   "source": [
    "## Loading the dataset"
   ]
  },
  {
   "cell_type": "code",
   "execution_count": 53,
   "metadata": {},
   "outputs": [],
   "source": [
    "# importing libraries\n",
    "import pandas as pd\n",
    "import numpy as np\n",
    "import seaborn as sns\n",
    "import matplotlib.pyplot as plt\n",
    "%matplotlib inline"
   ]
  },
  {
   "cell_type": "code",
   "execution_count": 54,
   "metadata": {},
   "outputs": [
    {
     "data": {
      "text/html": [
       "<div>\n",
       "<style scoped>\n",
       "    .dataframe tbody tr th:only-of-type {\n",
       "        vertical-align: middle;\n",
       "    }\n",
       "\n",
       "    .dataframe tbody tr th {\n",
       "        vertical-align: top;\n",
       "    }\n",
       "\n",
       "    .dataframe thead th {\n",
       "        text-align: right;\n",
       "    }\n",
       "</style>\n",
       "<table border=\"1\" class=\"dataframe\">\n",
       "  <thead>\n",
       "    <tr style=\"text-align: right;\">\n",
       "      <th></th>\n",
       "      <th>tweet_text</th>\n",
       "      <th>emotion_in_tweet_is_directed_at</th>\n",
       "      <th>is_there_an_emotion_directed_at_a_brand_or_product</th>\n",
       "    </tr>\n",
       "  </thead>\n",
       "  <tbody>\n",
       "    <tr>\n",
       "      <th>0</th>\n",
       "      <td>.@wesley83 I have a 3G iPhone. After 3 hrs twe...</td>\n",
       "      <td>iPhone</td>\n",
       "      <td>Negative emotion</td>\n",
       "    </tr>\n",
       "    <tr>\n",
       "      <th>1</th>\n",
       "      <td>@jessedee Know about @fludapp ? Awesome iPad/i...</td>\n",
       "      <td>iPad or iPhone App</td>\n",
       "      <td>Positive emotion</td>\n",
       "    </tr>\n",
       "    <tr>\n",
       "      <th>2</th>\n",
       "      <td>@swonderlin Can not wait for #iPad 2 also. The...</td>\n",
       "      <td>iPad</td>\n",
       "      <td>Positive emotion</td>\n",
       "    </tr>\n",
       "    <tr>\n",
       "      <th>3</th>\n",
       "      <td>@sxsw I hope this year's festival isn't as cra...</td>\n",
       "      <td>iPad or iPhone App</td>\n",
       "      <td>Negative emotion</td>\n",
       "    </tr>\n",
       "    <tr>\n",
       "      <th>4</th>\n",
       "      <td>@sxtxstate great stuff on Fri #SXSW: Marissa M...</td>\n",
       "      <td>Google</td>\n",
       "      <td>Positive emotion</td>\n",
       "    </tr>\n",
       "  </tbody>\n",
       "</table>\n",
       "</div>"
      ],
      "text/plain": [
       "                                          tweet_text  \\\n",
       "0  .@wesley83 I have a 3G iPhone. After 3 hrs twe...   \n",
       "1  @jessedee Know about @fludapp ? Awesome iPad/i...   \n",
       "2  @swonderlin Can not wait for #iPad 2 also. The...   \n",
       "3  @sxsw I hope this year's festival isn't as cra...   \n",
       "4  @sxtxstate great stuff on Fri #SXSW: Marissa M...   \n",
       "\n",
       "  emotion_in_tweet_is_directed_at  \\\n",
       "0                          iPhone   \n",
       "1              iPad or iPhone App   \n",
       "2                            iPad   \n",
       "3              iPad or iPhone App   \n",
       "4                          Google   \n",
       "\n",
       "  is_there_an_emotion_directed_at_a_brand_or_product  \n",
       "0                                   Negative emotion  \n",
       "1                                   Positive emotion  \n",
       "2                                   Positive emotion  \n",
       "3                                   Negative emotion  \n",
       "4                                   Positive emotion  "
      ]
     },
     "execution_count": 54,
     "metadata": {},
     "output_type": "execute_result"
    }
   ],
   "source": [
    "# reading the csv file\n",
    "df = pd.read_csv(\"judge-1377884607_tweet_product_company.csv\", encoding= \"latin1\")\n",
    "df.head()"
   ]
  },
  {
   "cell_type": "code",
   "execution_count": 55,
   "metadata": {},
   "outputs": [
    {
     "data": {
      "text/plain": [
       "Index(['tweet_text', 'emotion_in_tweet_is_directed_at',\n",
       "       'is_there_an_emotion_directed_at_a_brand_or_product'],\n",
       "      dtype='object')"
      ]
     },
     "execution_count": 55,
     "metadata": {},
     "output_type": "execute_result"
    }
   ],
   "source": [
    "# Columns\n",
    "df.columns"
   ]
  },
  {
   "cell_type": "code",
   "execution_count": 56,
   "metadata": {},
   "outputs": [
    {
     "data": {
      "text/plain": [
       "(9093, 3)"
      ]
     },
     "execution_count": 56,
     "metadata": {},
     "output_type": "execute_result"
    }
   ],
   "source": [
    "df.shape"
   ]
  },
  {
   "cell_type": "code",
   "execution_count": 57,
   "metadata": {},
   "outputs": [
    {
     "data": {
      "text/plain": [
       "tweet_text                                            object\n",
       "emotion_in_tweet_is_directed_at                       object\n",
       "is_there_an_emotion_directed_at_a_brand_or_product    object\n",
       "dtype: object"
      ]
     },
     "execution_count": 57,
     "metadata": {},
     "output_type": "execute_result"
    }
   ],
   "source": [
    "# getting to know the data types\n",
    "df.dtypes"
   ]
  },
  {
   "cell_type": "code",
   "execution_count": 58,
   "metadata": {},
   "outputs": [
    {
     "data": {
      "text/html": [
       "<div>\n",
       "<style scoped>\n",
       "    .dataframe tbody tr th:only-of-type {\n",
       "        vertical-align: middle;\n",
       "    }\n",
       "\n",
       "    .dataframe tbody tr th {\n",
       "        vertical-align: top;\n",
       "    }\n",
       "\n",
       "    .dataframe thead th {\n",
       "        text-align: right;\n",
       "    }\n",
       "</style>\n",
       "<table border=\"1\" class=\"dataframe\">\n",
       "  <thead>\n",
       "    <tr style=\"text-align: right;\">\n",
       "      <th></th>\n",
       "      <th>tweet_text</th>\n",
       "      <th>emotion_in_tweet_is_directed_at</th>\n",
       "      <th>is_there_an_emotion_directed_at_a_brand_or_product</th>\n",
       "    </tr>\n",
       "  </thead>\n",
       "  <tbody>\n",
       "    <tr>\n",
       "      <th>count</th>\n",
       "      <td>9092</td>\n",
       "      <td>3291</td>\n",
       "      <td>9093</td>\n",
       "    </tr>\n",
       "    <tr>\n",
       "      <th>unique</th>\n",
       "      <td>9065</td>\n",
       "      <td>9</td>\n",
       "      <td>4</td>\n",
       "    </tr>\n",
       "    <tr>\n",
       "      <th>top</th>\n",
       "      <td>RT @mention Marissa Mayer: Google Will Connect...</td>\n",
       "      <td>iPad</td>\n",
       "      <td>No emotion toward brand or product</td>\n",
       "    </tr>\n",
       "    <tr>\n",
       "      <th>freq</th>\n",
       "      <td>5</td>\n",
       "      <td>946</td>\n",
       "      <td>5389</td>\n",
       "    </tr>\n",
       "  </tbody>\n",
       "</table>\n",
       "</div>"
      ],
      "text/plain": [
       "                                               tweet_text  \\\n",
       "count                                                9092   \n",
       "unique                                               9065   \n",
       "top     RT @mention Marissa Mayer: Google Will Connect...   \n",
       "freq                                                    5   \n",
       "\n",
       "       emotion_in_tweet_is_directed_at  \\\n",
       "count                             3291   \n",
       "unique                               9   \n",
       "top                               iPad   \n",
       "freq                               946   \n",
       "\n",
       "       is_there_an_emotion_directed_at_a_brand_or_product  \n",
       "count                                                9093  \n",
       "unique                                                  4  \n",
       "top                    No emotion toward brand or product  \n",
       "freq                                                 5389  "
      ]
     },
     "execution_count": 58,
     "metadata": {},
     "output_type": "execute_result"
    }
   ],
   "source": [
    "# getting the statistical summary\n",
    "df.describe()"
   ]
  },
  {
   "cell_type": "markdown",
   "metadata": {},
   "source": [
    "## Data cleaning"
   ]
  },
  {
   "cell_type": "code",
   "execution_count": 59,
   "metadata": {},
   "outputs": [
    {
     "data": {
      "text/plain": [
       "tweet_text                                             0.010997\n",
       "emotion_in_tweet_is_directed_at                       63.807324\n",
       "is_there_an_emotion_directed_at_a_brand_or_product     0.000000\n",
       "dtype: float64"
      ]
     },
     "execution_count": 59,
     "metadata": {},
     "output_type": "execute_result"
    }
   ],
   "source": [
    "# checking for Nan values\n",
    "df.isna().mean()*100"
   ]
  },
  {
   "cell_type": "code",
   "execution_count": 60,
   "metadata": {},
   "outputs": [],
   "source": [
    "# Drop rows where tweet_text is missing\n",
    "df = df.dropna(subset=['tweet_text'])"
   ]
  },
  {
   "cell_type": "markdown",
   "metadata": {},
   "source": [
    "## Cleaning the tweets "
   ]
  },
  {
   "cell_type": "code",
   "execution_count": 61,
   "metadata": {},
   "outputs": [],
   "source": [
    "import re\n",
    "from nltk.corpus import stopwords\n",
    "from nltk.stem import WordNetLemmatizer\n",
    "\n",
    "def clean_tweet(text):\n",
    "    text = str(text).lower()\n",
    "    text = re.sub(r'@\\w+', '', text)  # remove mentions\n",
    "    text = re.sub(r'#\\w+', '', text)  # remove hashtags\n",
    "    text = re.sub(r'http\\S+|www.\\S+', '', text)  # remove URLs\n",
    "    text = re.sub(r'[^a-z\\s]', '', text)  # keep only letters and spaces\n",
    "    \n",
    "    # Tokenization and stopword removal\n",
    "    tokens = text.split()\n",
    "    stop_words = set(stopwords.words('english'))\n",
    "    tokens = [word for word in tokens if word not in stop_words]\n",
    "    \n",
    "    # Lemmatization\n",
    "    lemmatizer = WordNetLemmatizer()\n",
    "    tokens = [lemmatizer.lemmatize(word) for word in tokens]\n",
    "    \n",
    "    return ' '.join(tokens)\n"
   ]
  },
  {
   "cell_type": "code",
   "execution_count": 62,
   "metadata": {},
   "outputs": [
    {
     "name": "stderr",
     "output_type": "stream",
     "text": [
      "[nltk_data] Downloading package wordnet to\n",
      "[nltk_data]     C:\\Users\\Administrator\\AppData\\Roaming\\nltk_data...\n",
      "[nltk_data]   Package wordnet is already up-to-date!\n"
     ]
    }
   ],
   "source": [
    "# Download the wordnet resource if not already downloaded\n",
    "import nltk\n",
    "nltk.download('wordnet')\n",
    "\n",
    "df['sentiment'] = df['is_there_an_emotion_directed_at_a_brand_or_product'].map({\n",
    "    'Positive emotion': 'Positive',\n",
    "    'Negative emotion': 'Negative', \n",
    "    'No emotion toward brand or product': 'Neutral',\n",
    "    \"I can't tell\": 'Neutral'\n",
    "})\n",
    "\n",
    "# Handling missing sentiments \n",
    "df = df.dropna(subset=['sentiment'])\n",
    "\n",
    "# Clean text\n",
    "df['cleaned_text'] = df['tweet_text'].apply(clean_tweet)\n",
    "\n",
    "\n",
    "\n",
    "# Remove neutral class\n",
    "df = df[df['sentiment'] != 'Neutral']\n",
    "\n"
   ]
  },
  {
   "cell_type": "code",
   "execution_count": 63,
   "metadata": {},
   "outputs": [
    {
     "data": {
      "text/html": [
       "<div>\n",
       "<style scoped>\n",
       "    .dataframe tbody tr th:only-of-type {\n",
       "        vertical-align: middle;\n",
       "    }\n",
       "\n",
       "    .dataframe tbody tr th {\n",
       "        vertical-align: top;\n",
       "    }\n",
       "\n",
       "    .dataframe thead th {\n",
       "        text-align: right;\n",
       "    }\n",
       "</style>\n",
       "<table border=\"1\" class=\"dataframe\">\n",
       "  <thead>\n",
       "    <tr style=\"text-align: right;\">\n",
       "      <th></th>\n",
       "      <th>tweet_text</th>\n",
       "      <th>emotion_in_tweet_is_directed_at</th>\n",
       "      <th>is_there_an_emotion_directed_at_a_brand_or_product</th>\n",
       "      <th>sentiment</th>\n",
       "      <th>cleaned_text</th>\n",
       "    </tr>\n",
       "  </thead>\n",
       "  <tbody>\n",
       "    <tr>\n",
       "      <th>7</th>\n",
       "      <td>#SXSW is just starting, #CTIA is around the co...</td>\n",
       "      <td>Android</td>\n",
       "      <td>Positive emotion</td>\n",
       "      <td>Positive</td>\n",
       "      <td>starting around corner hop skip jump good time...</td>\n",
       "    </tr>\n",
       "    <tr>\n",
       "      <th>9</th>\n",
       "      <td>Counting down the days to #sxsw plus strong Ca...</td>\n",
       "      <td>Apple</td>\n",
       "      <td>Positive emotion</td>\n",
       "      <td>Positive</td>\n",
       "      <td>counting day plus strong canadian dollar mean ...</td>\n",
       "    </tr>\n",
       "    <tr>\n",
       "      <th>17</th>\n",
       "      <td>I just noticed DST is coming this weekend. How...</td>\n",
       "      <td>iPhone</td>\n",
       "      <td>Negative emotion</td>\n",
       "      <td>Negative</td>\n",
       "      <td>noticed dst coming weekend many iphone user ho...</td>\n",
       "    </tr>\n",
       "    <tr>\n",
       "      <th>20</th>\n",
       "      <td>Need to buy an iPad2 while I'm in Austin at #s...</td>\n",
       "      <td>iPad</td>\n",
       "      <td>Positive emotion</td>\n",
       "      <td>Positive</td>\n",
       "      <td>need buy ipad im austin sure ill need q austin...</td>\n",
       "    </tr>\n",
       "    <tr>\n",
       "      <th>21</th>\n",
       "      <td>Oh. My. God. The #SXSW app for iPad is pure, u...</td>\n",
       "      <td>iPad or iPhone App</td>\n",
       "      <td>Positive emotion</td>\n",
       "      <td>Positive</td>\n",
       "      <td>oh god app ipad pure unadulterated awesome eas...</td>\n",
       "    </tr>\n",
       "    <tr>\n",
       "      <th>24</th>\n",
       "      <td>Really enjoying the changes in Gowalla 3.0 for...</td>\n",
       "      <td>Android App</td>\n",
       "      <td>Positive emotion</td>\n",
       "      <td>Positive</td>\n",
       "      <td>really enjoying change gowalla android looking...</td>\n",
       "    </tr>\n",
       "    <tr>\n",
       "      <th>466</th>\n",
       "      <td>Before It Even Begins, Apple Wins #SXSW {link}</td>\n",
       "      <td>Apple</td>\n",
       "      <td>Positive emotion</td>\n",
       "      <td>Positive</td>\n",
       "      <td>even begin apple win link</td>\n",
       "    </tr>\n",
       "    <tr>\n",
       "      <th>468</th>\n",
       "      <td>Before It Even Begins, Apple Wins #SXSW {link}</td>\n",
       "      <td>Apple</td>\n",
       "      <td>Positive emotion</td>\n",
       "      <td>Positive</td>\n",
       "      <td>even begin apple win link</td>\n",
       "    </tr>\n",
       "    <tr>\n",
       "      <th>2559</th>\n",
       "      <td>Counting down the days to #sxsw plus strong Ca...</td>\n",
       "      <td>Apple</td>\n",
       "      <td>Positive emotion</td>\n",
       "      <td>Positive</td>\n",
       "      <td>counting day plus strong canadian dollar mean ...</td>\n",
       "    </tr>\n",
       "    <tr>\n",
       "      <th>3950</th>\n",
       "      <td>Really enjoying the changes in Gowalla 3.0 for...</td>\n",
       "      <td>Android App</td>\n",
       "      <td>Positive emotion</td>\n",
       "      <td>Positive</td>\n",
       "      <td>really enjoying change gowalla android looking...</td>\n",
       "    </tr>\n",
       "    <tr>\n",
       "      <th>3962</th>\n",
       "      <td>#SXSW is just starting, #CTIA is around the co...</td>\n",
       "      <td>Android</td>\n",
       "      <td>Positive emotion</td>\n",
       "      <td>Positive</td>\n",
       "      <td>starting around corner hop skip jump good time...</td>\n",
       "    </tr>\n",
       "    <tr>\n",
       "      <th>4897</th>\n",
       "      <td>Oh. My. God. The #SXSW app for iPad is pure, u...</td>\n",
       "      <td>iPad or iPhone App</td>\n",
       "      <td>Positive emotion</td>\n",
       "      <td>Positive</td>\n",
       "      <td>oh god app ipad pure unadulterated awesome eas...</td>\n",
       "    </tr>\n",
       "    <tr>\n",
       "      <th>6292</th>\n",
       "      <td>RT @mention Marissa Mayer: Google Will Connect...</td>\n",
       "      <td>Google</td>\n",
       "      <td>Positive emotion</td>\n",
       "      <td>Positive</td>\n",
       "      <td>rt marissa mayer google connect digital amp ph...</td>\n",
       "    </tr>\n",
       "    <tr>\n",
       "      <th>6296</th>\n",
       "      <td>RT @mention Marissa Mayer: Google Will Connect...</td>\n",
       "      <td>Google</td>\n",
       "      <td>Positive emotion</td>\n",
       "      <td>Positive</td>\n",
       "      <td>rt marissa mayer google connect digital amp ph...</td>\n",
       "    </tr>\n",
       "    <tr>\n",
       "      <th>6298</th>\n",
       "      <td>RT @mention Marissa Mayer: Google Will Connect...</td>\n",
       "      <td>Google</td>\n",
       "      <td>Positive emotion</td>\n",
       "      <td>Positive</td>\n",
       "      <td>rt marissa mayer google connect digital amp ph...</td>\n",
       "    </tr>\n",
       "    <tr>\n",
       "      <th>8483</th>\n",
       "      <td>I just noticed DST is coming this weekend. How...</td>\n",
       "      <td>iPhone</td>\n",
       "      <td>Negative emotion</td>\n",
       "      <td>Negative</td>\n",
       "      <td>noticed dst coming weekend many iphone user ho...</td>\n",
       "    </tr>\n",
       "    <tr>\n",
       "      <th>8747</th>\n",
       "      <td>Need to buy an iPad2 while I'm in Austin at #s...</td>\n",
       "      <td>iPad</td>\n",
       "      <td>Positive emotion</td>\n",
       "      <td>Positive</td>\n",
       "      <td>need buy ipad im austin sure ill need q austin...</td>\n",
       "    </tr>\n",
       "  </tbody>\n",
       "</table>\n",
       "</div>"
      ],
      "text/plain": [
       "                                             tweet_text  \\\n",
       "7     #SXSW is just starting, #CTIA is around the co...   \n",
       "9     Counting down the days to #sxsw plus strong Ca...   \n",
       "17    I just noticed DST is coming this weekend. How...   \n",
       "20    Need to buy an iPad2 while I'm in Austin at #s...   \n",
       "21    Oh. My. God. The #SXSW app for iPad is pure, u...   \n",
       "24    Really enjoying the changes in Gowalla 3.0 for...   \n",
       "466      Before It Even Begins, Apple Wins #SXSW {link}   \n",
       "468      Before It Even Begins, Apple Wins #SXSW {link}   \n",
       "2559  Counting down the days to #sxsw plus strong Ca...   \n",
       "3950  Really enjoying the changes in Gowalla 3.0 for...   \n",
       "3962  #SXSW is just starting, #CTIA is around the co...   \n",
       "4897  Oh. My. God. The #SXSW app for iPad is pure, u...   \n",
       "6292  RT @mention Marissa Mayer: Google Will Connect...   \n",
       "6296  RT @mention Marissa Mayer: Google Will Connect...   \n",
       "6298  RT @mention Marissa Mayer: Google Will Connect...   \n",
       "8483  I just noticed DST is coming this weekend. How...   \n",
       "8747  Need to buy an iPad2 while I'm in Austin at #s...   \n",
       "\n",
       "     emotion_in_tweet_is_directed_at  \\\n",
       "7                            Android   \n",
       "9                              Apple   \n",
       "17                            iPhone   \n",
       "20                              iPad   \n",
       "21                iPad or iPhone App   \n",
       "24                       Android App   \n",
       "466                            Apple   \n",
       "468                            Apple   \n",
       "2559                           Apple   \n",
       "3950                     Android App   \n",
       "3962                         Android   \n",
       "4897              iPad or iPhone App   \n",
       "6292                          Google   \n",
       "6296                          Google   \n",
       "6298                          Google   \n",
       "8483                          iPhone   \n",
       "8747                            iPad   \n",
       "\n",
       "     is_there_an_emotion_directed_at_a_brand_or_product sentiment  \\\n",
       "7                                      Positive emotion  Positive   \n",
       "9                                      Positive emotion  Positive   \n",
       "17                                     Negative emotion  Negative   \n",
       "20                                     Positive emotion  Positive   \n",
       "21                                     Positive emotion  Positive   \n",
       "24                                     Positive emotion  Positive   \n",
       "466                                    Positive emotion  Positive   \n",
       "468                                    Positive emotion  Positive   \n",
       "2559                                   Positive emotion  Positive   \n",
       "3950                                   Positive emotion  Positive   \n",
       "3962                                   Positive emotion  Positive   \n",
       "4897                                   Positive emotion  Positive   \n",
       "6292                                   Positive emotion  Positive   \n",
       "6296                                   Positive emotion  Positive   \n",
       "6298                                   Positive emotion  Positive   \n",
       "8483                                   Negative emotion  Negative   \n",
       "8747                                   Positive emotion  Positive   \n",
       "\n",
       "                                           cleaned_text  \n",
       "7     starting around corner hop skip jump good time...  \n",
       "9     counting day plus strong canadian dollar mean ...  \n",
       "17    noticed dst coming weekend many iphone user ho...  \n",
       "20    need buy ipad im austin sure ill need q austin...  \n",
       "21    oh god app ipad pure unadulterated awesome eas...  \n",
       "24    really enjoying change gowalla android looking...  \n",
       "466                           even begin apple win link  \n",
       "468                           even begin apple win link  \n",
       "2559  counting day plus strong canadian dollar mean ...  \n",
       "3950  really enjoying change gowalla android looking...  \n",
       "3962  starting around corner hop skip jump good time...  \n",
       "4897  oh god app ipad pure unadulterated awesome eas...  \n",
       "6292  rt marissa mayer google connect digital amp ph...  \n",
       "6296  rt marissa mayer google connect digital amp ph...  \n",
       "6298  rt marissa mayer google connect digital amp ph...  \n",
       "8483  noticed dst coming weekend many iphone user ho...  \n",
       "8747  need buy ipad im austin sure ill need q austin...  "
      ]
     },
     "execution_count": 63,
     "metadata": {},
     "output_type": "execute_result"
    }
   ],
   "source": [
    "# checking for duplicates\n",
    "duplicates = df[df.duplicated(keep=False)]\n",
    "duplicates"
   ]
  },
  {
   "cell_type": "code",
   "execution_count": 64,
   "metadata": {},
   "outputs": [],
   "source": [
    "# dropping the duplicates\n",
    "df = df.drop_duplicates()"
   ]
  },
  {
   "cell_type": "code",
   "execution_count": 65,
   "metadata": {},
   "outputs": [
    {
     "data": {
      "text/plain": [
       "0"
      ]
     },
     "execution_count": 65,
     "metadata": {},
     "output_type": "execute_result"
    }
   ],
   "source": [
    "# checking for duplicates\n",
    "df.duplicated().sum()"
   ]
  },
  {
   "cell_type": "markdown",
   "metadata": {},
   "source": [
    "### Feature Engineering \n",
    "\n",
    "Machine learning models cannot understand raw text, so we need to convert the cleaned tweets into numerical representations.\n",
    "\n",
    "In this step, we will use the **TF-IDF (Term Frequency–Inverse Document Frequency)** method to transform the textual data into feature vectors.  \n",
    "TF-IDF assigns higher weights to words that are more unique and important to each tweet, while down-weighting common words like “the” or “and”.\n",
    "\n",
    "The resulting matrix will serve as input features for our sentiment classification model.\n"
   ]
  },
  {
   "cell_type": "code",
   "execution_count": 66,
   "metadata": {},
   "outputs": [],
   "source": [
    "from sklearn.pipeline import Pipeline\n",
    "from sklearn.feature_extraction.text import TfidfVectorizer\n",
    "from sklearn.model_selection import train_test_split\n",
    "\n",
    "# Defining the variables\n",
    "X = df['cleaned_text']\n",
    "y = df['sentiment']\n",
    "\n",
    "\n",
    "# Splitting \n",
    "X_train, X_test, y_train, y_test = train_test_split(X, y, test_size=0.2, random_state=42, stratify=df['sentiment'])\n",
    "\n",
    "# TF-IDF\n",
    "tfidf = TfidfVectorizer(\n",
    "    max_features=8000,\n",
    "    ngram_range=(1, 3),  # Include trigrams\n",
    "    min_df=2,\n",
    "    max_df=0.8,\n",
    "    stop_words='english'\n",
    ")\n",
    "\n",
    "X_train_tfidf = tfidf.fit_transform(X_train)\n",
    "X_test_tfidf = tfidf.transform(X_test)\n"
   ]
  },
  {
   "cell_type": "markdown",
   "metadata": {},
   "source": [
    "### Handling Class Imbalance\n",
    "\n",
    "Class imbalance occurs when one sentiment category has far more samples than others.  \n",
    "This can cause the model to perform poorly on the underrepresented classes.\n",
    "\n",
    "To address this, we can:\n",
    "\n",
    "**Check the class distribution.**\n",
    "\n",
    "**Balance the dataset** \n",
    "\n",
    "\n"
   ]
  },
  {
   "cell_type": "code",
   "execution_count": 67,
   "metadata": {},
   "outputs": [
    {
     "data": {
      "image/png": "[encoded data removed]",
      "text/plain": [
       "<Figure size 640x480 with 1 Axes>"
      ]
     },
     "metadata": {},
     "output_type": "display_data"
    }
   ],
   "source": [
    "# checking for class imbalance\n",
    "sns.countplot(x='sentiment', data=df)\n",
    "plt.title('Sentiment Class Distribution')\n",
    "plt.xlabel('Sentiment')\n",
    "plt.ylabel('Count')\n",
    "plt.show()"
   ]
  },
  {
   "cell_type": "code",
   "execution_count": null,
   "metadata": {},
   "outputs": [],
   "source": [
    "from imblearn.over_sampling import SMOTE\n",
    "\n",
    "# Applying SMOTE to the TF-IDF features\n",
    "smote = SMOTE(random_state=42)\n",
    "X_train_resampled, y_train_resampled = smote.fit_resample(X_train_tfidf, y_train)\n",
    "\n"
   ]
  },
  {
   "cell_type": "markdown",
   "metadata": {},
   "source": [
    "### Model Training and Evaluation\n",
    "\n",
    "In this step, we train and evaluate different machine learning models to classify tweets as **Positive** or **Negative**.  \n",
    "Each model will be trained on the balanced dataset and evaluated using accuracy, precision, recall, F1-score, and a confusion matrix.\n",
    "Since there is an imbalance, we will have to use balanced classes for more accurate results\n"
   ]
  },
  {
   "cell_type": "markdown",
   "metadata": {},
   "source": [
    "## logistic regression model with balanced classes\n"
   ]
  },
  {
   "cell_type": "code",
   "execution_count": 69,
   "metadata": {},
   "outputs": [
    {
     "name": "stdout",
     "output_type": "stream",
     "text": [
      "Logistic Regression\n",
      "Accuracy: 0.8375706214689266\n",
      "Classification Report:\n",
      "               precision    recall  f1-score   support\n",
      "\n",
      "    Negative       0.50      0.61      0.55       114\n",
      "    Positive       0.92      0.88      0.90       594\n",
      "\n",
      "    accuracy                           0.84       708\n",
      "   macro avg       0.71      0.75      0.72       708\n",
      "weighted avg       0.85      0.84      0.84       708\n",
      "\n"
     ]
    },
    {
     "data": {
      "image/png": "[encoded data removed]",
      "text/plain": [
       "<Figure size 640x480 with 2 Axes>"
      ]
     },
     "metadata": {},
     "output_type": "display_data"
    }
   ],
   "source": [
    "from sklearn.linear_model import LogisticRegression\n",
    "from sklearn.metrics import classification_report, confusion_matrix, accuracy_score, ConfusionMatrixDisplay\n",
    "\n",
    "# Train Logistic Regression\n",
    "log_reg = LogisticRegression(max_iter=1000, class_weight='balanced', random_state=42)\n",
    "log_reg.fit(X_train_resampled, y_train_resampled)\n",
    "y_pred_log = log_reg.predict(X_test_tfidf)\n",
    "\n",
    "# Evaluate\n",
    "print(\"Logistic Regression\")\n",
    "print(\"Accuracy:\", accuracy_score(y_test, y_pred_log))\n",
    "print(\"Classification Report:\\n\", classification_report(y_test, y_pred_log))\n",
    "\n",
    "# Confusion Matrix\n",
    "ConfusionMatrixDisplay.from_estimator(log_reg, X_test_tfidf, y_test, cmap='Blues')\n",
    "plt.title(\"Confusion Matrix - Logistic Regression\")\n",
    "plt.show()\n"
   ]
  },
  {
   "cell_type": "markdown",
   "metadata": {},
   "source": [
    "## Naive_bayes model"
   ]
  },
  {
   "cell_type": "code",
   "execution_count": 70,
   "metadata": {},
   "outputs": [
    {
     "name": "stdout",
     "output_type": "stream",
     "text": [
      "Naive Bayes\n",
      "Accuracy: 0.7923728813559322\n",
      "Classification Report:\n",
      "               precision    recall  f1-score   support\n",
      "\n",
      "    Negative       0.42      0.73      0.53       114\n",
      "    Positive       0.94      0.80      0.87       594\n",
      "\n",
      "    accuracy                           0.79       708\n",
      "   macro avg       0.68      0.77      0.70       708\n",
      "weighted avg       0.86      0.79      0.81       708\n",
      "\n"
     ]
    },
    {
     "data": {
      "image/png": "[encoded data removed]",
      "text/plain": [
       "<Figure size 640x480 with 2 Axes>"
      ]
     },
     "metadata": {},
     "output_type": "display_data"
    }
   ],
   "source": [
    "from sklearn.naive_bayes import MultinomialNB\n",
    "\n",
    "# Train Naive Bayes\n",
    "nb = MultinomialNB()\n",
    "nb.fit(X_train_resampled, y_train_resampled)\n",
    "y_pred_nb = nb.predict(X_test_tfidf)\n",
    "\n",
    "# Evaluate\n",
    "print(\"Naive Bayes\")\n",
    "print(\"Accuracy:\", accuracy_score(y_test, y_pred_nb))\n",
    "print(\"Classification Report:\\n\", classification_report(y_test, y_pred_nb))\n",
    "\n",
    "# Confusion Matrix\n",
    "ConfusionMatrixDisplay.from_estimator(nb, X_test_tfidf, y_test, cmap='Oranges')\n",
    "plt.title(\"Confusion Matrix - Naive Bayes\")\n",
    "plt.show()\n"
   ]
  },
  {
   "cell_type": "markdown",
   "metadata": {},
   "source": [
    "## Linearsvc model"
   ]
  },
  {
   "cell_type": "code",
   "execution_count": 86,
   "metadata": {},
   "outputs": [
    {
     "name": "stdout",
     "output_type": "stream",
     "text": [
      "Support Vector Machine\n",
      "Accuracy: 0.8248587570621468\n",
      "\n",
      "Classification Report:\n",
      "               precision    recall  f1-score   support\n",
      "\n",
      "    Negative       0.46      0.58      0.52       114\n",
      "    Positive       0.92      0.87      0.89       594\n",
      "\n",
      "    accuracy                           0.82       708\n",
      "   macro avg       0.69      0.73      0.70       708\n",
      "weighted avg       0.84      0.82      0.83       708\n",
      "\n"
     ]
    }
   ],
   "source": [
    "from sklearn.svm import SVC\n",
    "from sklearn.metrics import accuracy_score, classification_report\n",
    "\n",
    "svm = SVC(kernel='linear', class_weight='balanced', random_state=42)\n",
    "svm.fit(X_train_resampled, y_train_resampled)\n",
    "\n",
    "y_pred_svm_balanced = svm.predict(X_test_tfidf)\n",
    "\n",
    "print(\"Support Vector Machine\")\n",
    "print(\"Accuracy:\", accuracy_score(y_test, y_pred_svm_balanced))\n",
    "print(\"\\nClassification Report:\\n\", classification_report(y_test, y_pred_svm_balanced))\n"
   ]
  },
  {
   "cell_type": "markdown",
   "metadata": {},
   "source": [
    "# Model Performance Summary\n",
    "\n",
    "## **Overall Ranking by Accuracy:**\n",
    "1. **Logistic Regression**: 83.8%\n",
    "2. **Support Vector Machine (Balanced)**: 82.5%\n",
    "3. **Naive Bayes**: 79.2%\n",
    "\n",
    "## **Key Performance Analysis:**\n",
    "\n",
    "### **Negative Class Performance (Most Important):**\n",
    "- **Naive Bayes**: Best recall (73%) - catches most negative tweets\n",
    "- **Logistic Regression**: Balanced performance (61% recall, 50% precision)\n",
    "- **SVM**: Moderate performance (58% recall, 46% precision)\n",
    "\n",
    "### **Positive Class Performance:**\n",
    "- **All models** show strong positive class performance (>87% recall)\n",
    "- **Logistic Regression** has best balance (88% recall, 92% precision)\n",
    "- **Naive Bayes** struggles most with positive class (80% recall)\n",
    "\n",
    "## **Trade-off Analysis:**\n",
    "\n",
    "**Naive Bayes**: Best at finding negative tweets but makes more false positives\n",
    "**Logistic Regression**: Most balanced overall performance  \n",
    "**SVM**: Middle ground but lower negative class precision\n"
   ]
  },
  {
   "cell_type": "code",
   "execution_count": 87,
   "metadata": {},
   "outputs": [
    {
     "data": {
      "text/plain": [
       "['tfidf_vectorizer.pkl']"
      ]
     },
     "execution_count": 87,
     "metadata": {},
     "output_type": "execute_result"
    }
   ],
   "source": [
    "import joblib\n",
    "\n",
    "# Save the SVM model and TF-IDF vectorizer\n",
    "joblib.dump(log_reg, \"log_model.pkl\")\n",
    "joblib.dump(tfidf, \"tfidf_vectorizer.pkl\")\n"
   ]
  },
  {
   "cell_type": "code",
   "execution_count": null,
   "metadata": {},
   "outputs": [],
   "source": []
  }
 ],
 "metadata": {
  "kernelspec": {
   "display_name": "base",
   "language": "python",
   "name": "python3"
  },
  "language_info": {
   "codemirror_mode": {
    "name": "ipython",
    "version": 3
   },
   "file_extension": ".py",
   "mimetype": "text/x-python",
   "name": "python",
   "nbconvert_exporter": "python",
   "pygments_lexer": "ipython3",
   "version": "3.12.3"
  }
 },
 "nbformat": 4,
 "nbformat_minor": 2
}
