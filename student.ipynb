{
 "cells": [
  {
   "cell_type": "markdown",
   "id": "554e4d52-92fa-43c7-a143-4677e74ce92a",
   "metadata": {},
   "source": [
    "# 1. Business Understanding\n",
    "\n",
    "## 1.1 Objective\n",
    "The main business goal is to `analyze customer sentiments` expressed as tweets about various brands or products. By building a sentiment classification model, the company aims to:\n",
    "- Measure `public opinion` of its products or services.\n",
    "- Identify `negative feedback` early to improve on customer experience.\n",
    "- Track `brand reputation` and customer satisfaction over time.\n",
    "- Support `marketing and product strategy decisions` based on data-driven insights.\n",
    "#### In this project, we are aiming to build a machine learning model that can determine the **sentiment** of a tweet based on the content, whether it is **positive**, **negative**, or **neutral**.This is a **Natural Language Processing (NLP)** problem, useful for applications such as social media monitoring, brand-analysis, and customer-feedback tracking.\n",
    "\n",
    "## 1.2 Key Business Questions\n",
    "- What proportion of customer mentions express positive vs. negative emotions?\n",
    "- How can the business improve customer satisfaction based on sentiment trends? \n",
    "\n",
    "## 1.3 Success Criteria\n",
    "- Achieve a classification accuracy of at least 67% (baseline observed: 0.6699).\n",
    "- Generate a reliable sentiment distribution (positive, negative, neutral) for business reporting.\n",
    "- Enable automated monitoring of customer feedback at a certain scale.\n"
   ]
  },
  {
   "cell_type": "markdown",
   "id": "5d4f8dc3-6e7e-4461-b08a-fdd382703daf",
   "metadata": {},
   "source": [
    "# 2.Data Understanding\n",
    "\n",
    "## 2.1 Data Source\n",
    "The dataset has been sourced from data.world.\n",
    "The data contains 9,073 rows and 3 columns\n",
    "\n",
    "## 2.2 Data Overview\n",
    "From the classification report, the dataset includes at least four sentiment categories:\n",
    "1. `I can't tell` — unclear sentiment  \n",
    "2. `Negative emotion` — dissatisfaction, complaints  \n",
    "3. `No emotion toward brand or product` — neutral comments  \n",
    "4. `Positive emotion` — satisfaction  \n",
    "\n",
    "## 2.3 Observations\n",
    "- We discovered that the class distribution seems `imbalanced`, with the “No emotion toward brand or product” class having the highest support (1674 samples).\n",
    "- We saw that the accuracy_score (66.99%) indicates that the model performs moderately well but may struggle with minority classes (\"I can't tell\").\n",
    "- We saw that the data included noise or ambiguous labels due to the subjective nature of sentiment."
   ]
  },
  {
   "cell_type": "markdown",
   "id": "e16c6f96-ee34-4b47-a960-ec98e68a15e8",
   "metadata": {},
   "source": [
    "# 3. Data Preparation\n",
    "\n",
    "## 3.1 Data Cleaning\n",
    "- **Handle Encoding Issues:** Fix `utf-8` by using appropriate encoding (`latin1`).\n",
    "- **Remove Noise:** Strip URLs, user mentions (`@username`), hashtags, punctuation, and emojis.\n",
    "- **Normalize Text:** Convert to lowercase and remove extra whitespace.\n",
    "- **Handle Missing Values:** Drop rows with missing text or sentiment labels.(1 row of tweet_text was dropped and the whole column of emotion_in_a_tweet_is_directed_at was dropped).\n",
    "\n",
    "## 3.2 Text Preprocessing\n",
    "- **Tokenization:** Split text into words using `nltk.word_tokenize()`.\n",
    "- **Stopword Removal:** Exclude common non-informative words.\n",
    "- **Stemming:** Reduce words to their base form.\n",
    "- **Vectorization:** Transform text into numerical form using TF-IDF.\n",
    "\n",
    "## 3.3 Data Splitting\n",
    "- **Train-Test Split:** Divide the dataset (We used 70% train, 30% test).\n",
    "- **Stratification:** Ensure proportional representation of sentiment classes in both sets(stratify = y)\n",
    "\n",
    "## 3.4 Feature Engineering\n",
    "- **Text Vectorization:** Converted tweet text into numeric representations that machine learning models can use(TF-IDF Vectorizer).\n",
    "- **Tweet Length:** Added a numeric feature representing the number of words or characters in each tweet.\n",
    "\n",
    "## 3.5 Outcome\n",
    "We prepared the dataset to be suitable for machine learning models such as:\n",
    "- Logistic Regression  \n",
    "- Naive Bayes\n",
    "- SMOTE\n",
    "- Support Vector Machine (SVM)\n",
    "\n",
    "## 3.5 Summary\n",
    "We saw that the SVM pipeline supports sentiment analysis for brand-related tweets. After cleaning and preprocessing, the model achieved around `67% accuracy`, indicating reasonable performance for a baseline model. "
   ]
  },
  {
   "cell_type": "code",
   "execution_count": 1,
   "id": "dc1f6c9b-3d8c-409c-b4eb-490aa1b90fdd",
   "metadata": {},
   "outputs": [],
   "source": [
    "# import important libraries\n",
    "import pandas as pd\n",
    "\n",
    "import matplotlib.pyplot as plt\n",
    "import seaborn as sns\n",
    "import streamlit as st\n",
    "\n",
    "import re, string, nltk\n",
    "from nltk.corpus import stopwords\n",
    "from nltk.stem import PorterStemmer\n",
    "import joblib\n",
    "\n",
    "\n",
    "from sklearn.model_selection import train_test_split\n",
    "from sklearn.feature_extraction.text import TfidfVectorizer\n",
    "from sklearn.linear_model import LogisticRegression\n",
    "from sklearn.metrics import accuracy_score, classification_report, confusion_matrix, f1_score\n",
    "from sklearn.pipeline import Pipeline\n",
    "\n",
    "from sklearn.linear_model import LogisticRegression\n",
    "from imblearn.over_sampling import SMOTE\n",
    "from sklearn.naive_bayes import MultinomialNB\n",
    "from sklearn.svm import LinearSVC"
   ]
  },
  {
   "cell_type": "markdown",
   "id": "835990c7-f082-4a41-b691-10cdf53c2288",
   "metadata": {},
   "source": [
    "## We will start by loading our dataset for exploration."
   ]
  },
  {
   "cell_type": "code",
   "execution_count": 2,
   "id": "e09f3160-a0d0-480a-ae14-675e6eb0b40e",
   "metadata": {},
   "outputs": [
    {
     "data": {
      "text/html": [
       "<div>\n",
       "<style scoped>\n",
       "    .dataframe tbody tr th:only-of-type {\n",
       "        vertical-align: middle;\n",
       "    }\n",
       "\n",
       "    .dataframe tbody tr th {\n",
       "        vertical-align: top;\n",
       "    }\n",
       "\n",
       "    .dataframe thead th {\n",
       "        text-align: right;\n",
       "    }\n",
       "</style>\n",
       "<table border=\"1\" class=\"dataframe\">\n",
       "  <thead>\n",
       "    <tr style=\"text-align: right;\">\n",
       "      <th></th>\n",
       "      <th>tweet_text</th>\n",
       "      <th>emotion_in_tweet_is_directed_at</th>\n",
       "      <th>is_there_an_emotion_directed_at_a_brand_or_product</th>\n",
       "    </tr>\n",
       "  </thead>\n",
       "  <tbody>\n",
       "    <tr>\n",
       "      <th>0</th>\n",
       "      <td>.@wesley83 I have a 3G iPhone. After 3 hrs twe...</td>\n",
       "      <td>iPhone</td>\n",
       "      <td>Negative emotion</td>\n",
       "    </tr>\n",
       "    <tr>\n",
       "      <th>1</th>\n",
       "      <td>@jessedee Know about @fludapp ? Awesome iPad/i...</td>\n",
       "      <td>iPad or iPhone App</td>\n",
       "      <td>Positive emotion</td>\n",
       "    </tr>\n",
       "    <tr>\n",
       "      <th>2</th>\n",
       "      <td>@swonderlin Can not wait for #iPad 2 also. The...</td>\n",
       "      <td>iPad</td>\n",
       "      <td>Positive emotion</td>\n",
       "    </tr>\n",
       "    <tr>\n",
       "      <th>3</th>\n",
       "      <td>@sxsw I hope this year's festival isn't as cra...</td>\n",
       "      <td>iPad or iPhone App</td>\n",
       "      <td>Negative emotion</td>\n",
       "    </tr>\n",
       "    <tr>\n",
       "      <th>4</th>\n",
       "      <td>@sxtxstate great stuff on Fri #SXSW: Marissa M...</td>\n",
       "      <td>Google</td>\n",
       "      <td>Positive emotion</td>\n",
       "    </tr>\n",
       "  </tbody>\n",
       "</table>\n",
       "</div>"
      ],
      "text/plain": [
       "                                          tweet_text  \\\n",
       "0  .@wesley83 I have a 3G iPhone. After 3 hrs twe...   \n",
       "1  @jessedee Know about @fludapp ? Awesome iPad/i...   \n",
       "2  @swonderlin Can not wait for #iPad 2 also. The...   \n",
       "3  @sxsw I hope this year's festival isn't as cra...   \n",
       "4  @sxtxstate great stuff on Fri #SXSW: Marissa M...   \n",
       "\n",
       "  emotion_in_tweet_is_directed_at  \\\n",
       "0                          iPhone   \n",
       "1              iPad or iPhone App   \n",
       "2                            iPad   \n",
       "3              iPad or iPhone App   \n",
       "4                          Google   \n",
       "\n",
       "  is_there_an_emotion_directed_at_a_brand_or_product  \n",
       "0                                   Negative emotion  \n",
       "1                                   Positive emotion  \n",
       "2                                   Positive emotion  \n",
       "3                                   Negative emotion  \n",
       "4                                   Positive emotion  "
      ]
     },
     "execution_count": 2,
     "metadata": {},
     "output_type": "execute_result"
    }
   ],
   "source": [
    "# loading our dataset\n",
    "df = pd.read_csv('judge-1377884607_tweet_product_company.csv', encoding = 'latin1')\n",
    "# previewing the dataset\n",
    "df.head()"
   ]
  },
  {
   "cell_type": "markdown",
   "id": "3b244fcc-51ca-4910-9059-63028387dbb3",
   "metadata": {},
   "source": [
    "## Data Inspection\n",
    "\n",
    "Before we preprocess the data, let's understand its structure:\n",
    "- Column names and data types\n",
    "- Presence of missing values\n",
    "- Distribution of sentiment"
   ]
  },
  {
   "cell_type": "code",
   "execution_count": 3,
   "id": "06580ccb-58a9-4ebc-8bc5-04000341f6d2",
   "metadata": {},
   "outputs": [
    {
     "data": {
      "text/plain": [
       "(9093, 3)"
      ]
     },
     "execution_count": 3,
     "metadata": {},
     "output_type": "execute_result"
    }
   ],
   "source": [
    "# Shows the structure of the data set\n",
    "df.shape"
   ]
  },
  {
   "cell_type": "code",
   "execution_count": 4,
   "id": "3b3cd72b-6abf-402c-bc0d-9880aeee5c6a",
   "metadata": {},
   "outputs": [
    {
     "data": {
      "text/plain": [
       "tweet_text                                            object\n",
       "emotion_in_tweet_is_directed_at                       object\n",
       "is_there_an_emotion_directed_at_a_brand_or_product    object\n",
       "dtype: object"
      ]
     },
     "execution_count": 4,
     "metadata": {},
     "output_type": "execute_result"
    }
   ],
   "source": [
    "# Data type of each column in the DataFrame.\n",
    "df.dtypes"
   ]
  },
  {
   "cell_type": "code",
   "execution_count": 5,
   "id": "c453f441-8c27-48d8-b8db-966a4be4b009",
   "metadata": {},
   "outputs": [
    {
     "name": "stdout",
     "output_type": "stream",
     "text": [
      "<class 'pandas.core.frame.DataFrame'>\n",
      "RangeIndex: 9093 entries, 0 to 9092\n",
      "Data columns (total 3 columns):\n",
      " #   Column                                              Non-Null Count  Dtype \n",
      "---  ------                                              --------------  ----- \n",
      " 0   tweet_text                                          9092 non-null   object\n",
      " 1   emotion_in_tweet_is_directed_at                     3291 non-null   object\n",
      " 2   is_there_an_emotion_directed_at_a_brand_or_product  9093 non-null   object\n",
      "dtypes: object(3)\n",
      "memory usage: 213.2+ KB\n"
     ]
    }
   ],
   "source": [
    "# Checking for basic structure and summary of the data\n",
    "df.info()"
   ]
  },
  {
   "cell_type": "code",
   "execution_count": 6,
   "id": "65b7306d-160e-4e5c-abed-b7996d723c0d",
   "metadata": {},
   "outputs": [
    {
     "data": {
      "text/plain": [
       "tweet_text                                               1\n",
       "emotion_in_tweet_is_directed_at                       5802\n",
       "is_there_an_emotion_directed_at_a_brand_or_product       0\n",
       "dtype: int64"
      ]
     },
     "execution_count": 6,
     "metadata": {},
     "output_type": "execute_result"
    }
   ],
   "source": [
    "# checking for missing values\n",
    "df.isnull().sum()"
   ]
  },
  {
   "cell_type": "markdown",
   "id": "7583a83f-1692-4628-aded-cf4251dffed9",
   "metadata": {},
   "source": [
    "### Drop Irrelevant Columns\n",
    "- The column `emotion_in_tweet_is_directed_at` contains many missing values(5,802) and is not required for sentiment classification. We decided to drop it to simplify our dataset.\n",
    "### Handle Missing Values and Prepare Data\n",
    "- We decided to remove rows with missing tweet_text (shows only one record is missing). We also renamed `is_there_an_emotion_directed_at_a_brand_or_product` column to `sentiment` for easier understanding."
   ]
  },
  {
   "cell_type": "code",
   "execution_count": 7,
   "id": "171b3fe8-c7c3-48a3-9d21-7e6e4d1e8da1",
   "metadata": {},
   "outputs": [
    {
     "name": "stdout",
     "output_type": "stream",
     "text": [
      "<class 'pandas.core.frame.DataFrame'>\n",
      "Index: 9070 entries, 0 to 9092\n",
      "Data columns (total 2 columns):\n",
      " #   Column      Non-Null Count  Dtype \n",
      "---  ------      --------------  ----- \n",
      " 0   tweet_text  9070 non-null   object\n",
      " 1   sentiment   9070 non-null   object\n",
      "dtypes: object(2)\n",
      "memory usage: 212.6+ KB\n"
     ]
    },
    {
     "data": {
      "text/plain": [
       "(9070, 2)"
      ]
     },
     "execution_count": 7,
     "metadata": {},
     "output_type": "execute_result"
    }
   ],
   "source": [
    "# Drop row with missing tweet_text\n",
    "df = df.dropna(subset=['tweet_text'])\n",
    "\n",
    "# Rename columns for simplicity\n",
    "df = df.rename(columns={\n",
    "    'is_there_an_emotion_directed_at_a_brand_or_product': 'sentiment'\n",
    "})\n",
    "# Remove duplicate tweet_text + sentiment pairs\n",
    "df.drop_duplicates(subset=['tweet_text', 'sentiment'], inplace=True)\n",
    "\n",
    "# Drop column\n",
    "df.drop(columns = ['emotion_in_tweet_is_directed_at'], inplace= True)\n",
    "\n",
    "# Reconfirm cleaning\n",
    "df.info()\n",
    "df.head()\n",
    "df.shape"
   ]
  },
  {
   "cell_type": "code",
   "execution_count": 8,
   "id": "dd48046f-cb2c-4a5e-8709-e5163f0872b9",
   "metadata": {},
   "outputs": [
    {
     "data": {
      "text/plain": [
       "array(['.@wesley83 I have a 3G iPhone. After 3 hrs tweeting at #RISE_Austin, it was dead!  I need to upgrade. Plugin stations at #SXSW.',\n",
       "       \"@jessedee Know about @fludapp ? Awesome iPad/iPhone app that you'll likely appreciate for its design. Also, they're giving free Ts at #SXSW\",\n",
       "       '@swonderlin Can not wait for #iPad 2 also. They should sale them down at #SXSW.',\n",
       "       ...,\n",
       "       \"Google's Zeiger, a physician never reported potential AE. Yet FDA relies on physicians. &quot;We're operating w/out data.&quot; #sxsw #health2dev\",\n",
       "       'Some Verizon iPhone customers complained their time fell back an hour this weekend.  Of course they were the New Yorkers who attended #SXSW.',\n",
       "       '\\x8cÏ¡\\x8eÏà\\x8aü_\\x8b\\x81Ê\\x8b\\x81Î\\x8b\\x81Ò\\x8b\\x81£\\x8b\\x81Á\\x8bââ\\x8b\\x81_\\x8b\\x81£\\x8b\\x81\\x8f\\x8bâ_\\x8bÛâRT @mention Google Tests \\x89ÛÏCheck-in Offers\\x89Û\\x9d At #SXSW {link}'],\n",
       "      dtype=object)"
      ]
     },
     "execution_count": 8,
     "metadata": {},
     "output_type": "execute_result"
    }
   ],
   "source": [
    "# Chcking for unique values in tweet_text.\n",
    "df['tweet_text'].unique()"
   ]
  },
  {
   "cell_type": "markdown",
   "id": "c27be367-56e0-4d3b-9f94-e675d364d792",
   "metadata": {},
   "source": [
    "## Text Cleaning and Preprocessing\n",
    "\n",
    "Tweets often contain noisy data such as:\n",
    "- Mentions (`@username`)\n",
    "- URLs\n",
    "- Punctuation and numbers\n",
    "- Mixed casing\n",
    "\n",
    "We'll clean the text by:\n",
    "1. Removing unnecessary tokens  \n",
    "2. Converting text to lowercase  \n",
    "3. Removing stopwords  \n",
    "4. Applying stemming"
   ]
  },
  {
   "cell_type": "code",
   "execution_count": 9,
   "id": "40b59120-7cce-4d46-9130-1d8ac03f3683",
   "metadata": {},
   "outputs": [
    {
     "name": "stderr",
     "output_type": "stream",
     "text": [
      "[nltk_data] Downloading package stopwords to\n",
      "[nltk_data]     C:\\Users\\Administrator\\AppData\\Roaming\\nltk_data...\n",
      "[nltk_data]   Package stopwords is already up-to-date!\n"
     ]
    },
    {
     "data": {
      "text/html": [
       "<div>\n",
       "<style scoped>\n",
       "    .dataframe tbody tr th:only-of-type {\n",
       "        vertical-align: middle;\n",
       "    }\n",
       "\n",
       "    .dataframe tbody tr th {\n",
       "        vertical-align: top;\n",
       "    }\n",
       "\n",
       "    .dataframe thead th {\n",
       "        text-align: right;\n",
       "    }\n",
       "</style>\n",
       "<table border=\"1\" class=\"dataframe\">\n",
       "  <thead>\n",
       "    <tr style=\"text-align: right;\">\n",
       "      <th></th>\n",
       "      <th>tweet_text</th>\n",
       "      <th>clean_text</th>\n",
       "    </tr>\n",
       "  </thead>\n",
       "  <tbody>\n",
       "    <tr>\n",
       "      <th>0</th>\n",
       "      <td>.@wesley83 I have a 3G iPhone. After 3 hrs twe...</td>\n",
       "      <td>g iphon hr tweet riseaustin dead need upgrad p...</td>\n",
       "    </tr>\n",
       "    <tr>\n",
       "      <th>1</th>\n",
       "      <td>@jessedee Know about @fludapp ? Awesome iPad/i...</td>\n",
       "      <td>know awesom ipadiphon app youll like appreci d...</td>\n",
       "    </tr>\n",
       "    <tr>\n",
       "      <th>2</th>\n",
       "      <td>@swonderlin Can not wait for #iPad 2 also. The...</td>\n",
       "      <td>wait ipad also sale sxsw</td>\n",
       "    </tr>\n",
       "    <tr>\n",
       "      <th>3</th>\n",
       "      <td>@sxsw I hope this year's festival isn't as cra...</td>\n",
       "      <td>hope year festiv isnt crashi year iphon app sxsw</td>\n",
       "    </tr>\n",
       "    <tr>\n",
       "      <th>4</th>\n",
       "      <td>@sxtxstate great stuff on Fri #SXSW: Marissa M...</td>\n",
       "      <td>great stuff fri sxsw marissa mayer googl tim o...</td>\n",
       "    </tr>\n",
       "  </tbody>\n",
       "</table>\n",
       "</div>"
      ],
      "text/plain": [
       "                                          tweet_text  \\\n",
       "0  .@wesley83 I have a 3G iPhone. After 3 hrs twe...   \n",
       "1  @jessedee Know about @fludapp ? Awesome iPad/i...   \n",
       "2  @swonderlin Can not wait for #iPad 2 also. The...   \n",
       "3  @sxsw I hope this year's festival isn't as cra...   \n",
       "4  @sxtxstate great stuff on Fri #SXSW: Marissa M...   \n",
       "\n",
       "                                          clean_text  \n",
       "0  g iphon hr tweet riseaustin dead need upgrad p...  \n",
       "1  know awesom ipadiphon app youll like appreci d...  \n",
       "2                           wait ipad also sale sxsw  \n",
       "3   hope year festiv isnt crashi year iphon app sxsw  \n",
       "4  great stuff fri sxsw marissa mayer googl tim o...  "
      ]
     },
     "execution_count": 9,
     "metadata": {},
     "output_type": "execute_result"
    }
   ],
   "source": [
    "# Download NLTK stopwords (only first time)\n",
    "nltk.download('stopwords')\n",
    "\n",
    "# Initialize\n",
    "stop_words = set(stopwords.words('english'))\n",
    "stemmer = PorterStemmer()\n",
    "\n",
    "def clean_tweet(text):\n",
    "    # Remove @mentions\n",
    "    text = re.sub(r'@\\w+', '', text)\n",
    "    # Remove URLs\n",
    "    text = re.sub(r'http\\S+|www\\S+|https\\S+', '', text, flags=re.MULTILINE)\n",
    "    # Remove punctuation and numbers\n",
    "    text = re.sub(r'[^A-Za-z\\s]', '', text)\n",
    "    # Lowercase\n",
    "    text = text.lower()\n",
    "    # Remove stopwords\n",
    "    text = ' '.join([word for word in text.split() if word not in stop_words])\n",
    "    # Apply stemming\n",
    "    text = ' '.join([stemmer.stem(word) for word in text.split()])\n",
    "    return text\n",
    "\n",
    "# Apply cleaning to the tweet column\n",
    "df['clean_text'] = df['tweet_text'].apply(clean_tweet)   # replace 'tweet' with your actual column name\n",
    "df[['tweet_text', 'clean_text']].head()"
   ]
  },
  {
   "cell_type": "markdown",
   "id": "36e67407-dad0-44fe-9d21-4fcc445bc154",
   "metadata": {},
   "source": [
    "# 4. Modeling\n",
    "\n",
    "## 4.1 Model Selection\n",
    "Tested various supervised machine learning models:\n",
    "- Logistic Regression\n",
    "- Multinomial Naive Bayes\n",
    "- Support Vector Machine (SVM)\n",
    "\n",
    "## 4.2 Training\n",
    "- Used train test split.\n",
    "- Used vectorized text data as input features.\n",
    "- Applied **cross-validation** to avoid overfitting.\n",
    "- Tuned hyperparameters using **weights**.\n",
    "\n",
    "## 4.3 Baseline Model Performance\n",
    "| Metric | Score |\n",
    "|---------|--------|\n",
    "| **Accuracy** | 0.68 |\n",
    "| **Precision (avg)** | ~0.65 |\n",
    "| **Recall (avg)** | ~0.63 |\n",
    "| **F1-score (avg)** | ~0.65 |\n",
    "\n",
    "## 4.4 Observations\n",
    "- The model performs well on the **neutral class**.\n",
    "- Indicates **data imbalance** and potential need for class weighting or oversampling.\n"
   ]
  },
  {
   "cell_type": "markdown",
   "id": "83f607af-e904-418c-8022-b151a2c24b32",
   "metadata": {},
   "source": [
    "# Vectorization and Model Training\n",
    "\n",
    "### With the tweet_text cleaned, we decided to convert text into a numerical format that machine learning models can understand.\n",
    "\n",
    "### We used **TF-IDF (Term Frequency–Inverse Document Frequency)**, which captures how important a word is to a tweet compared to the entire dataset.\n",
    "\n",
    "### Then, we trained a **Logistic Regression** model — a strong baseline for text classification tasks and build a pipeline."
   ]
  },
  {
   "cell_type": "code",
   "execution_count": 10,
   "id": "2c4e1ef3-829f-47ae-9a50-01120417b4d5",
   "metadata": {},
   "outputs": [
    {
     "name": "stdout",
     "output_type": "stream",
     "text": [
      "Accuracy: 0.6699742741639103\n",
      "\n",
      " Classification Report:\n",
      "                                     precision    recall  f1-score   support\n",
      "\n",
      "                      I can't tell       0.00      0.00      0.00        47\n",
      "                  Negative emotion       0.70      0.08      0.15       171\n",
      "No emotion toward brand or product       0.69      0.87      0.77      1612\n",
      "                  Positive emotion       0.62      0.46      0.53       891\n",
      "\n",
      "                          accuracy                           0.67      2721\n",
      "                         macro avg       0.50      0.35      0.36      2721\n",
      "                      weighted avg       0.65      0.67      0.64      2721\n",
      "\n"
     ]
    },
    {
     "name": "stderr",
     "output_type": "stream",
     "text": [
      "C:\\Users\\Administrator\\anaconda3\\Lib\\site-packages\\sklearn\\metrics\\_classification.py:1531: UndefinedMetricWarning: Precision is ill-defined and being set to 0.0 in labels with no predicted samples. Use `zero_division` parameter to control this behavior.\n",
      "  _warn_prf(average, modifier, f\"{metric.capitalize()} is\", len(result))\n",
      "C:\\Users\\Administrator\\anaconda3\\Lib\\site-packages\\sklearn\\metrics\\_classification.py:1531: UndefinedMetricWarning: Precision is ill-defined and being set to 0.0 in labels with no predicted samples. Use `zero_division` parameter to control this behavior.\n",
      "  _warn_prf(average, modifier, f\"{metric.capitalize()} is\", len(result))\n",
      "C:\\Users\\Administrator\\anaconda3\\Lib\\site-packages\\sklearn\\metrics\\_classification.py:1531: UndefinedMetricWarning: Precision is ill-defined and being set to 0.0 in labels with no predicted samples. Use `zero_division` parameter to control this behavior.\n",
      "  _warn_prf(average, modifier, f\"{metric.capitalize()} is\", len(result))\n"
     ]
    }
   ],
   "source": [
    "# Define the features and target\n",
    "X = df['clean_text']\n",
    "y = df['sentiment']\n",
    "\n",
    "# Split data (70% train, 30% test) and a random_state(42)\n",
    "X_train, X_test, y_train, y_test = train_test_split(X, y, test_size=0.3, random_state=42, stratify = y)\n",
    "\n",
    "# Initialize TF-IDF vectorizer\n",
    "tfidf = TfidfVectorizer(max_features=5000, ngram_range=(1,2))\n",
    "\n",
    "# Fit and transform training data, transform test data\n",
    "X_train_tfidf = tfidf.fit_transform(X_train)\n",
    "X_test_tfidf = tfidf.transform(X_test)\n",
    "\n",
    "# Train Logistic Regression model\n",
    "model = LogisticRegression(max_iter=1000, random_state=42)\n",
    "model.fit(X_train_tfidf, y_train)\n",
    "\n",
    "# Predict on test data\n",
    "y_pred = model.predict(X_test_tfidf)\n",
    "\n",
    "# Evaluate model\n",
    "print(\"Accuracy:\", accuracy_score(y_test, y_pred))\n",
    "print(\"\\n Classification Report:\\n\", classification_report(y_test, y_pred))"
   ]
  },
  {
   "cell_type": "markdown",
   "id": "20fa914d-83dd-41db-ba59-36985c3ac1b0",
   "metadata": {},
   "source": [
    "# Model Evaluation\n",
    "\n",
    "### We visualized the confusion matrix to understand how well the model classifies different sentiment categories."
   ]
  },
  {
   "cell_type": "code",
   "execution_count": 11,
   "id": "8debae1d-056b-49b4-9aca-766e91c81a46",
   "metadata": {},
   "outputs": [
    {
     "name": "stdout",
     "output_type": "stream",
     "text": [
      "[[   0    1   39    7]\n",
      " [   0   14  117   40]\n",
      " [   0    4 1400  208]\n",
      " [   0    1  481  409]]\n"
     ]
    },
    {
     "data": {
      "image/png": "[encoded data removed]",
      "text/plain": [
       "<Figure size 600x500 with 2 Axes>"
      ]
     },
     "metadata": {},
     "output_type": "display_data"
    }
   ],
   "source": [
    "# Confusion matrix\n",
    "cm = confusion_matrix(y_test, y_pred)\n",
    "print(cm)\n",
    "\n",
    "plt.figure(figsize=(6,5))\n",
    "sns.heatmap(cm, annot=True, fmt='d', cmap='Blues')\n",
    "plt.title(\"Confusion Matrix\")\n",
    "plt.xlabel(\"Predicted\")\n",
    "plt.ylabel(\"Actual\")\n",
    "plt.show()"
   ]
  },
  {
   "cell_type": "markdown",
   "id": "c8605ca6-7662-4336-b945-80da212ae41d",
   "metadata": {},
   "source": [
    "## Relevant findings from the confusion matrix;\n",
    "* Class 0 (I can't tell), it is completely miss-classified mostly as “No emotion” or “Positive.” This shows that the class likely has too few samples to learn meaningful patterns.\n",
    "\n",
    "* Class 1 (Negative emotion) out of 179 tweets, most were misclassified as “No emotion” (115). This shows that our model doesn’t detect negative tone well, possibly due to data imbalance or lack of strong negative terms in the text.\n",
    "\n",
    "* Class 2 (No emotion) most predictions are correct(1434 out of 1674 tweets are correctly classified). However, 232 are being mistaken for “Positive emotion.” This shows that our model confuses neutral tone with positive sentiment, which is common when text has little to no positive wording.\n",
    "\n",
    "* Class 3 (Positive emotion) the model correctly catches 404 tweets but mistakes 414 as “No emotion.” This Indicates that there is a thin line between “Positive” and “Neutral.”"
   ]
  },
  {
   "cell_type": "markdown",
   "id": "69a7ec3f-e28a-46d8-a967-a085903a2dfb",
   "metadata": {},
   "source": [
    "# 5.Evaluation\n",
    "\n",
    "## 5.1 Quantitative Evaluation\n",
    "- **Confusion Matrix:** Visualize misclassifications.\n",
    "- **Classification Report:** Assess per-class precision, recall, and F1-score.\n",
    "- **macro-F1 (for multi-class)** for balanced evaluation.\n",
    "\n",
    "## 5.2 Qualitative Evaluation\n",
    "- Review sample misclassified tweets to identify linguistic nuances.\n",
    "\n",
    "## 5.3 Key Findings\n",
    "- Most misclassifications occurred between `Neutral` and `Positive` sentiments.\n",
    "- “I can’t tell” category is too ambiguous consider merging or removing it.\n",
    "- Need for `data balancing techniques` like SMOTE or class weights."
   ]
  },
  {
   "cell_type": "markdown",
   "id": "aa53bf17-2739-47b6-b9b2-bde76764728c",
   "metadata": {},
   "source": [
    "# Improving Model Performance\n",
    "\n",
    "The baseline Logistic Regression model achieved around `67% accuracy`, but struggled with minority sentiment classes.\n",
    "\n",
    "We will now:\n",
    "1. Handle class imbalance using `class_weight` and SMOTE\n",
    "2. Try alternative classifiers (Naive Bayes, Linear SVM)\n",
    "3. Tune TF-IDF to capture better context\n",
    "4. Evaluate using macro F1-score (for fair performance on all classes)"
   ]
  },
  {
   "cell_type": "markdown",
   "id": "3ae457cf-f8f6-43ce-a2a6-82f916eaff0c",
   "metadata": {},
   "source": [
    "# Handling the class imbalance with weights"
   ]
  },
  {
   "cell_type": "code",
   "execution_count": 12,
   "id": "1e7ee673-1d93-425f-be6f-447296408246",
   "metadata": {},
   "outputs": [
    {
     "name": "stdout",
     "output_type": "stream",
     "text": [
      "Balanced Logistic Regression Accuracy: 0.6023520764424843\n",
      "\n",
      " Classification Report (Balanced Logistic Regression):\n",
      "\n",
      "                                    precision    recall  f1-score   support\n",
      "\n",
      "                      I can't tell       0.01      0.02      0.02        47\n",
      "                  Negative emotion       0.29      0.54      0.38       171\n",
      "No emotion toward brand or product       0.75      0.63      0.69      1612\n",
      "                  Positive emotion       0.54      0.59      0.56       891\n",
      "\n",
      "                          accuracy                           0.60      2721\n",
      "                         macro avg       0.40      0.45      0.41      2721\n",
      "                      weighted avg       0.64      0.60      0.62      2721\n",
      "\n"
     ]
    }
   ],
   "source": [
    "# Re-train Logistic Regression with class balancing\n",
    "logreg_balanced = LogisticRegression(max_iter=1000, class_weight='balanced', random_state=42)\n",
    "logreg_balanced.fit(X_train_tfidf, y_train)\n",
    "\n",
    "y_pred_balanced = logreg_balanced.predict(X_test_tfidf)\n",
    "\n",
    "print(\"Balanced Logistic Regression Accuracy:\", accuracy_score(y_test, y_pred_balanced))\n",
    "print(\"\\n Classification Report (Balanced Logistic Regression):\\n\")\n",
    "print(classification_report(y_test, y_pred_balanced))"
   ]
  },
  {
   "cell_type": "markdown",
   "id": "37714f6d-6ce7-4bab-8efb-c776ae7efccc",
   "metadata": {},
   "source": [
    "# Apply SMOTE(Synthetic Minority Oversampling Technique)"
   ]
  },
  {
   "cell_type": "code",
   "execution_count": 13,
   "id": "42782377-f14e-4d54-b54c-542e18bee47d",
   "metadata": {},
   "outputs": [
    {
     "name": "stdout",
     "output_type": "stream",
     "text": [
      "Before SMOTE: (6349, 5000)\n",
      "After SMOTE: (15052, 5000)\n",
      " SMOTE Accuracy: 0.62550532892319\n",
      "\n",
      " Classification Report (SMOTE Logistic Regression):\n",
      "\n",
      "                                    precision    recall  f1-score   support\n",
      "\n",
      "                      I can't tell       0.02      0.02      0.02        47\n",
      "                  Negative emotion       0.32      0.49      0.39       171\n",
      "No emotion toward brand or product       0.75      0.67      0.71      1612\n",
      "                  Positive emotion       0.56      0.59      0.58       891\n",
      "\n",
      "                          accuracy                           0.63      2721\n",
      "                         macro avg       0.41      0.45      0.42      2721\n",
      "                      weighted avg       0.65      0.63      0.63      2721\n",
      "\n"
     ]
    }
   ],
   "source": [
    "# Apply SMOTE only on training data\n",
    "smote = SMOTE(random_state=42)\n",
    "X_train_res, y_train_res = smote.fit_resample(X_train_tfidf, y_train)\n",
    "\n",
    "print(\"Before SMOTE:\", X_train_tfidf.shape)\n",
    "print(\"After SMOTE:\", X_train_res.shape)\n",
    "\n",
    "# Retrain model on balanced data\n",
    "logreg_smote = LogisticRegression(max_iter=1000, random_state=42)\n",
    "logreg_smote.fit(X_train_res, y_train_res)\n",
    "\n",
    "y_pred_smote = logreg_smote.predict(X_test_tfidf)\n",
    "\n",
    "print(\" SMOTE Accuracy:\", accuracy_score(y_test, y_pred_smote))\n",
    "print(\"\\n Classification Report (SMOTE Logistic Regression):\\n\")\n",
    "print(classification_report(y_test, y_pred_smote))"
   ]
  },
  {
   "cell_type": "markdown",
   "id": "867e2bb5-2564-48ab-b4a0-cffa7fa8ff9e",
   "metadata": {},
   "source": [
    "# Use Naive Bayes(Baseline) for Text Data"
   ]
  },
  {
   "cell_type": "code",
   "execution_count": 14,
   "id": "0764eba9-3339-4d87-8a4b-b7d2427c7049",
   "metadata": {},
   "outputs": [
    {
     "name": "stdout",
     "output_type": "stream",
     "text": [
      "Naive Bayes Accuracy: 0.6655641308342521\n",
      "\n",
      " Classification Report (Naive Bayes):\n",
      "\n",
      "                                    precision    recall  f1-score   support\n",
      "\n",
      "                      I can't tell       0.00      0.00      0.00        47\n",
      "                  Negative emotion       0.78      0.04      0.08       171\n",
      "No emotion toward brand or product       0.67      0.92      0.77      1612\n",
      "                  Positive emotion       0.65      0.36      0.47       891\n",
      "\n",
      "                          accuracy                           0.67      2721\n",
      "                         macro avg       0.52      0.33      0.33      2721\n",
      "                      weighted avg       0.66      0.67      0.62      2721\n",
      "\n"
     ]
    },
    {
     "name": "stderr",
     "output_type": "stream",
     "text": [
      "C:\\Users\\Administrator\\anaconda3\\Lib\\site-packages\\sklearn\\metrics\\_classification.py:1531: UndefinedMetricWarning: Precision is ill-defined and being set to 0.0 in labels with no predicted samples. Use `zero_division` parameter to control this behavior.\n",
      "  _warn_prf(average, modifier, f\"{metric.capitalize()} is\", len(result))\n",
      "C:\\Users\\Administrator\\anaconda3\\Lib\\site-packages\\sklearn\\metrics\\_classification.py:1531: UndefinedMetricWarning: Precision is ill-defined and being set to 0.0 in labels with no predicted samples. Use `zero_division` parameter to control this behavior.\n",
      "  _warn_prf(average, modifier, f\"{metric.capitalize()} is\", len(result))\n",
      "C:\\Users\\Administrator\\anaconda3\\Lib\\site-packages\\sklearn\\metrics\\_classification.py:1531: UndefinedMetricWarning: Precision is ill-defined and being set to 0.0 in labels with no predicted samples. Use `zero_division` parameter to control this behavior.\n",
      "  _warn_prf(average, modifier, f\"{metric.capitalize()} is\", len(result))\n"
     ]
    }
   ],
   "source": [
    "nb = MultinomialNB()\n",
    "nb.fit(X_train_tfidf, y_train)\n",
    "y_pred_nb = nb.predict(X_test_tfidf)\n",
    "\n",
    "print(\"Naive Bayes Accuracy:\", accuracy_score(y_test, y_pred_nb))\n",
    "print(\"\\n Classification Report (Naive Bayes):\\n\")\n",
    "print(classification_report(y_test, y_pred_nb))"
   ]
  },
  {
   "cell_type": "markdown",
   "id": "e4288b82-d3c1-4b0b-82ca-1b3f184d9386",
   "metadata": {},
   "source": [
    "# Use linear-svm for text Classification"
   ]
  },
  {
   "cell_type": "code",
   "execution_count": 15,
   "id": "88f8fbc7-f981-430c-abf4-3c783479eeaf",
   "metadata": {},
   "outputs": [
    {
     "name": "stdout",
     "output_type": "stream",
     "text": [
      "Linear SVM Accuracy: 0.6582138919514884\n",
      "\n",
      " Classification Report (Linear SVM):\n",
      "\n",
      "                                    precision    recall  f1-score   support\n",
      "\n",
      "                      I can't tell       0.00      0.00      0.00        47\n",
      "                  Negative emotion       0.57      0.25      0.35       171\n",
      "No emotion toward brand or product       0.71      0.79      0.75      1612\n",
      "                  Positive emotion       0.57      0.53      0.55       891\n",
      "\n",
      "                          accuracy                           0.66      2721\n",
      "                         macro avg       0.46      0.39      0.41      2721\n",
      "                      weighted avg       0.64      0.66      0.64      2721\n",
      "\n"
     ]
    }
   ],
   "source": [
    "svm = LinearSVC(random_state=42)\n",
    "svm.fit(X_train_tfidf, y_train)\n",
    "y_pred_svm = svm.predict(X_test_tfidf)\n",
    "\n",
    "print(\"Linear SVM Accuracy:\", accuracy_score(y_test, y_pred_svm))\n",
    "print(\"\\n Classification Report (Linear SVM):\\n\")\n",
    "print(classification_report(y_test, y_pred_svm))"
   ]
  },
  {
   "cell_type": "markdown",
   "id": "ef788860-6fca-47d0-89a9-fc3e05531fe4",
   "metadata": {},
   "source": [
    "# Tune TF-IDF"
   ]
  },
  {
   "cell_type": "code",
   "execution_count": 16,
   "id": "a246fcba-e280-4b94-88c0-9139f3018acf",
   "metadata": {},
   "outputs": [
    {
     "name": "stdout",
     "output_type": "stream",
     "text": [
      "Tuned TF-IDF + Naive Bayes Accuracy: 0.6666666666666666\n",
      "\n",
      " Classification Report (Tuned TF-IDF + NB):\n",
      "\n",
      "                                    precision    recall  f1-score   support\n",
      "\n",
      "                      I can't tell       0.00      0.00      0.00        47\n",
      "                  Negative emotion       0.75      0.04      0.07       171\n",
      "No emotion toward brand or product       0.67      0.93      0.78      1612\n",
      "                  Positive emotion       0.67      0.35      0.46       891\n",
      "\n",
      "                          accuracy                           0.67      2721\n",
      "                         macro avg       0.52      0.33      0.33      2721\n",
      "                      weighted avg       0.66      0.67      0.61      2721\n",
      "\n"
     ]
    },
    {
     "name": "stderr",
     "output_type": "stream",
     "text": [
      "C:\\Users\\Administrator\\anaconda3\\Lib\\site-packages\\sklearn\\metrics\\_classification.py:1531: UndefinedMetricWarning: Precision is ill-defined and being set to 0.0 in labels with no predicted samples. Use `zero_division` parameter to control this behavior.\n",
      "  _warn_prf(average, modifier, f\"{metric.capitalize()} is\", len(result))\n",
      "C:\\Users\\Administrator\\anaconda3\\Lib\\site-packages\\sklearn\\metrics\\_classification.py:1531: UndefinedMetricWarning: Precision is ill-defined and being set to 0.0 in labels with no predicted samples. Use `zero_division` parameter to control this behavior.\n",
      "  _warn_prf(average, modifier, f\"{metric.capitalize()} is\", len(result))\n",
      "C:\\Users\\Administrator\\anaconda3\\Lib\\site-packages\\sklearn\\metrics\\_classification.py:1531: UndefinedMetricWarning: Precision is ill-defined and being set to 0.0 in labels with no predicted samples. Use `zero_division` parameter to control this behavior.\n",
      "  _warn_prf(average, modifier, f\"{metric.capitalize()} is\", len(result))\n"
     ]
    }
   ],
   "source": [
    "# Try using bigrams and limiting rare terms\n",
    "tfidf_tuned = TfidfVectorizer(max_features=8000, ngram_range=(1,2), min_df=3)\n",
    "X_train_tuned = tfidf_tuned.fit_transform(X_train)\n",
    "X_test_tuned = tfidf_tuned.transform(X_test)\n",
    "\n",
    "# Refit Naive Bayes on the tuned features\n",
    "nb_tuned = MultinomialNB()\n",
    "nb_tuned.fit(X_train_tuned, y_train)\n",
    "y_pred_tuned = nb_tuned.predict(X_test_tuned)\n",
    "\n",
    "print(\"Tuned TF-IDF + Naive Bayes Accuracy:\", accuracy_score(y_test, y_pred_tuned))\n",
    "print(\"\\n Classification Report (Tuned TF-IDF + NB):\\n\")\n",
    "print(classification_report(y_test, y_pred_tuned))"
   ]
  },
  {
   "cell_type": "markdown",
   "id": "23a1a316-d2f9-4c64-adb9-ec490d9a3490",
   "metadata": {},
   "source": [
    "# Evaluate the macro F1-score"
   ]
  },
  {
   "cell_type": "code",
   "execution_count": 17,
   "id": "841a02aa-af18-49bc-b229-a064d5486c2c",
   "metadata": {},
   "outputs": [
    {
     "name": "stdout",
     "output_type": "stream",
     "text": [
      "Macro F1-scores:\n",
      "\n",
      "Logistic Regression (Balanced): 0.412\n",
      "Logistic Regression (SMOTE): 0.423\n",
      "Naive Bayes: 0.329\n",
      "Linear SVM: 0.411\n",
      "Naive Bayes (Tuned TF-IDF): 0.326\n"
     ]
    }
   ],
   "source": [
    "models = {\n",
    "    \"Logistic Regression (Balanced)\": y_pred_balanced,\n",
    "    \"Logistic Regression (SMOTE)\": y_pred_smote,\n",
    "    \"Naive Bayes\": y_pred_nb,\n",
    "    \"Linear SVM\": y_pred_svm,\n",
    "    \"Naive Bayes (Tuned TF-IDF)\": y_pred_tuned\n",
    "}\n",
    "\n",
    "print(\"Macro F1-scores:\\n\")\n",
    "for name, preds in models.items():\n",
    "    score = f1_score(y_test, preds, average='macro')\n",
    "    print(f\"{name}: {score:.3f}\")\n"
   ]
  },
  {
   "cell_type": "markdown",
   "id": "8d6bd9fb-6575-4b0a-b48d-1184a831b26c",
   "metadata": {},
   "source": [
    "# Model Performance Summary\n",
    "\n",
    "After experimenting with several models and techniques (balancing, SMOTE, Naive Bayes, SVM, and tuned TF-IDF),\n",
    "we can now compare their performance in one clear table.\n",
    "\n",
    "We'll evaluate both:\n",
    "- **Accuracy** — general correctness\n",
    "- **Macro F1-score** — fairness across all sentiment classes (important for imbalanced data)"
   ]
  },
  {
   "cell_type": "code",
   "execution_count": 18,
   "id": "152fb13e-e195-442e-9da9-5368a1758933",
   "metadata": {},
   "outputs": [
    {
     "data": {
      "text/html": [
       "<style type=\"text/css\">\n",
       "</style>\n",
       "<table id=\"T_9f810\">\n",
       "  <caption>Model Performance Comparison</caption>\n",
       "  <thead>\n",
       "    <tr>\n",
       "      <th class=\"blank level0\" >&nbsp;</th>\n",
       "      <th id=\"T_9f810_level0_col0\" class=\"col_heading level0 col0\" >Model</th>\n",
       "      <th id=\"T_9f810_level0_col1\" class=\"col_heading level0 col1\" >Accuracy</th>\n",
       "      <th id=\"T_9f810_level0_col2\" class=\"col_heading level0 col2\" >Macro F1-score</th>\n",
       "    </tr>\n",
       "  </thead>\n",
       "  <tbody>\n",
       "    <tr>\n",
       "      <th id=\"T_9f810_level0_row0\" class=\"row_heading level0 row0\" >0</th>\n",
       "      <td id=\"T_9f810_row0_col0\" class=\"data row0 col0\" >Logistic Regression (SMOTE)</td>\n",
       "      <td id=\"T_9f810_row0_col1\" class=\"data row0 col1\" >0.625505</td>\n",
       "      <td id=\"T_9f810_row0_col2\" class=\"data row0 col2\" >0.422787</td>\n",
       "    </tr>\n",
       "    <tr>\n",
       "      <th id=\"T_9f810_level0_row1\" class=\"row_heading level0 row1\" >1</th>\n",
       "      <td id=\"T_9f810_row1_col0\" class=\"data row1 col0\" >Logistic Regression (Balanced)</td>\n",
       "      <td id=\"T_9f810_row1_col1\" class=\"data row1 col1\" >0.602352</td>\n",
       "      <td id=\"T_9f810_row1_col2\" class=\"data row1 col2\" >0.411582</td>\n",
       "    </tr>\n",
       "    <tr>\n",
       "      <th id=\"T_9f810_level0_row2\" class=\"row_heading level0 row2\" >2</th>\n",
       "      <td id=\"T_9f810_row2_col0\" class=\"data row2 col0\" >Linear SVM</td>\n",
       "      <td id=\"T_9f810_row2_col1\" class=\"data row2 col1\" >0.658214</td>\n",
       "      <td id=\"T_9f810_row2_col2\" class=\"data row2 col2\" >0.411007</td>\n",
       "    </tr>\n",
       "    <tr>\n",
       "      <th id=\"T_9f810_level0_row3\" class=\"row_heading level0 row3\" >3</th>\n",
       "      <td id=\"T_9f810_row3_col0\" class=\"data row3 col0\" >Naive Bayes</td>\n",
       "      <td id=\"T_9f810_row3_col1\" class=\"data row3 col1\" >0.665564</td>\n",
       "      <td id=\"T_9f810_row3_col2\" class=\"data row3 col2\" >0.329489</td>\n",
       "    </tr>\n",
       "    <tr>\n",
       "      <th id=\"T_9f810_level0_row4\" class=\"row_heading level0 row4\" >4</th>\n",
       "      <td id=\"T_9f810_row4_col0\" class=\"data row4 col0\" >Naive Bayes (Tuned TF-IDF)</td>\n",
       "      <td id=\"T_9f810_row4_col1\" class=\"data row4 col1\" >0.666667</td>\n",
       "      <td id=\"T_9f810_row4_col2\" class=\"data row4 col2\" >0.325756</td>\n",
       "    </tr>\n",
       "  </tbody>\n",
       "</table>\n"
      ],
      "text/plain": [
       "<pandas.io.formats.style.Styler at 0x1f98b48d730>"
      ]
     },
     "execution_count": 18,
     "metadata": {},
     "output_type": "execute_result"
    }
   ],
   "source": [
    "\n",
    "# Compute metrics\n",
    "results = []\n",
    "for name, preds in models.items():\n",
    "    acc = accuracy_score(y_test, preds)\n",
    "    f1 = f1_score(y_test, preds, average='macro')\n",
    "    results.append({\"Model\": name, \"Accuracy\": acc, \"Macro F1-score\": f1})\n",
    "\n",
    "# Convert to DataFrame\n",
    "results_df = pd.DataFrame(results).sort_values(by=\"Macro F1-score\", ascending=False)\n",
    "results_df.reset_index(drop=True, inplace=True)\n",
    "\n",
    "# Display neatly\n",
    "results_df.style.set_caption(\"Model Performance Comparison\") "
   ]
  },
  {
   "cell_type": "markdown",
   "id": "af07132e-c9d1-4033-98cc-3ae7b4ed1ad0",
   "metadata": {},
   "source": [
    "Visual Comparison of Model Performance\n",
    "\n",
    "We'll now compare all the models we trained (Balanced Logistic Regression, SMOTE Logistic Regression, \n",
    "Naive Bayes, and Linear SVM) visually. This helps us see trade-offs between accuracy and fairness \n",
    "(Macro F1-score)."
   ]
  },
  {
   "cell_type": "code",
   "execution_count": 19,
   "id": "96f44a7b-c07b-4292-85c7-7a0ff01f0b41",
   "metadata": {},
   "outputs": [
    {
     "data": {
      "image/png": "[encoded data removed]",
      "text/plain": [
       "<Figure size 800x500 with 1 Axes>"
      ]
     },
     "metadata": {},
     "output_type": "display_data"
    },
    {
     "data": {
      "text/html": [
       "<style type=\"text/css\">\n",
       "</style>\n",
       "<table id=\"T_e398d\">\n",
       "  <thead>\n",
       "    <tr>\n",
       "      <th class=\"blank level0\" >&nbsp;</th>\n",
       "      <th id=\"T_e398d_level0_col0\" class=\"col_heading level0 col0\" >Model</th>\n",
       "      <th id=\"T_e398d_level0_col1\" class=\"col_heading level0 col1\" >Accuracy</th>\n",
       "      <th id=\"T_e398d_level0_col2\" class=\"col_heading level0 col2\" >Macro F1</th>\n",
       "    </tr>\n",
       "  </thead>\n",
       "  <tbody>\n",
       "    <tr>\n",
       "      <th id=\"T_e398d_level0_row0\" class=\"row_heading level0 row0\" >0</th>\n",
       "      <td id=\"T_e398d_row0_col0\" class=\"data row0 col0\" >Balanced Logistic Regression</td>\n",
       "      <td id=\"T_e398d_row0_col1\" class=\"data row0 col1\" >0.602</td>\n",
       "      <td id=\"T_e398d_row0_col2\" class=\"data row0 col2\" >0.412</td>\n",
       "    </tr>\n",
       "    <tr>\n",
       "      <th id=\"T_e398d_level0_row1\" class=\"row_heading level0 row1\" >1</th>\n",
       "      <td id=\"T_e398d_row1_col0\" class=\"data row1 col0\" >SMOTE Logistic Regression</td>\n",
       "      <td id=\"T_e398d_row1_col1\" class=\"data row1 col1\" >0.626</td>\n",
       "      <td id=\"T_e398d_row1_col2\" class=\"data row1 col2\" >0.423</td>\n",
       "    </tr>\n",
       "    <tr>\n",
       "      <th id=\"T_e398d_level0_row2\" class=\"row_heading level0 row2\" >2</th>\n",
       "      <td id=\"T_e398d_row2_col0\" class=\"data row2 col0\" >Naive Bayes</td>\n",
       "      <td id=\"T_e398d_row2_col1\" class=\"data row2 col1\" >0.666</td>\n",
       "      <td id=\"T_e398d_row2_col2\" class=\"data row2 col2\" >0.329</td>\n",
       "    </tr>\n",
       "    <tr>\n",
       "      <th id=\"T_e398d_level0_row3\" class=\"row_heading level0 row3\" >3</th>\n",
       "      <td id=\"T_e398d_row3_col0\" class=\"data row3 col0\" >Linear SVM</td>\n",
       "      <td id=\"T_e398d_row3_col1\" class=\"data row3 col1\" >0.658</td>\n",
       "      <td id=\"T_e398d_row3_col2\" class=\"data row3 col2\" >0.411</td>\n",
       "    </tr>\n",
       "  </tbody>\n",
       "</table>\n"
      ],
      "text/plain": [
       "<pandas.io.formats.style.Styler at 0x1f98bf724e0>"
      ]
     },
     "execution_count": 19,
     "metadata": {},
     "output_type": "execute_result"
    }
   ],
   "source": [
    "# Store results\n",
    "results = {\n",
    "    \"Balanced Logistic Regression\": (y_pred_balanced, \"blue\"),\n",
    "    \"SMOTE Logistic Regression\": (y_pred_smote, \"orange\"),\n",
    "    \"Naive Bayes\": (y_pred_nb, \"green\"),\n",
    "    \"Linear SVM\": (y_pred_svm, \"red\")\n",
    "}\n",
    "\n",
    "# Compute accuracy and macro F1\n",
    "data = []\n",
    "for name, (preds, color) in results.items():\n",
    "    acc = accuracy_score(y_test, preds)\n",
    "    f1 = f1_score(y_test, preds, average='macro')\n",
    "    data.append([name, acc, f1, color])\n",
    "\n",
    "results_df = pd.DataFrame(data, columns=[\"Model\", \"Accuracy\", \"Macro F1\", \"Color\"])\n",
    "\n",
    "# Plot bar chart\n",
    "plt.figure(figsize=(8,5))\n",
    "plt.bar(results_df[\"Model\"], results_df[\"Accuracy\"], color=results_df[\"Color\"], alpha=0.7, label=\"Accuracy\")\n",
    "plt.bar(results_df[\"Model\"], results_df[\"Macro F1\"], color=results_df[\"Color\"], alpha=0.3, label=\"Macro F1\")\n",
    "plt.title(\"Model Performance Comparison\")\n",
    "plt.ylabel(\"Score\")\n",
    "plt.xticks(rotation=25, ha='right')\n",
    "plt.legend()\n",
    "plt.tight_layout()\n",
    "plt.show()\n",
    "\n",
    "# Display results as a table\n",
    "results_df[[\"Model\", \"Accuracy\", \"Macro F1\"]].style.format({\"Accuracy\": \"{:.3f}\", \"Macro F1\": \"{:.3f}\"})"
   ]
  },
  {
   "cell_type": "markdown",
   "id": "77c7d0c5-603c-4e69-b353-5e0cd9f137d2",
   "metadata": {},
   "source": [
    "**Linear SVM** achieved the highest overall accuracy (~66%) and balanced sentiment detection.  \n",
    "- **Naive Bayes** performed almost as well, making it a great lightweight alternative.  \n",
    "- **Balanced/SMOTE Logistic Regression** improved recall for minority classes but at the cost of accuracy.  \n",
    "- In text tasks, **SVM and Naive Bayes** often outperform Logistic Regression on sparse data like TF-IDF.\n"
   ]
  },
  {
   "cell_type": "markdown",
   "id": "13670a24-e8c3-4b5d-a359-b0037a87b347",
   "metadata": {},
   "source": [
    "# 6.Building a Machine Learning Pipeline\n",
    "\n",
    "- To make the model training and prediction process more efficient, we combined our preprocessing, vectorization, and classification steps into a single `Pipeline`. A pipeline ensures that the `same text cleaning and feature extraction steps` are applied during training and when making predictions on new data.  \n",
    "\n",
    "We will build a pipeline with the following components:\n",
    "- **TFIDF Vectorizer:** Converts text into numerical features.\n",
    "- **Linear SVM Classifier:** Learns to predict the sentiment of tweets.\n",
    "- **Custom Text Cleaning Function:** Cleans and normalizes tweets (removes URLs, mentions, punctuation, etc.)."
   ]
  },
  {
   "cell_type": "code",
   "execution_count": 20,
   "id": "378ee7c8-9c54-4c5c-ad74-7d476ead78f0",
   "metadata": {},
   "outputs": [
    {
     "name": "stdout",
     "output_type": "stream",
     "text": [
      "Pipeline Accuracy: 0.6350606394707828\n",
      "\n",
      "Classification Report:\n",
      "                                     precision    recall  f1-score   support\n",
      "\n",
      "                      I can't tell       0.02      0.02      0.02        47\n",
      "                  Negative emotion       0.37      0.42      0.39       171\n",
      "No emotion toward brand or product       0.73      0.72      0.73      1612\n",
      "                  Positive emotion       0.56      0.55      0.55       891\n",
      "\n",
      "                          accuracy                           0.64      2721\n",
      "                         macro avg       0.42      0.43      0.42      2721\n",
      "                      weighted avg       0.64      0.64      0.64      2721\n",
      "\n",
      "Pipeline saved successfully!\n"
     ]
    }
   ],
   "source": [
    "# Text cleaning function\n",
    "def clean_tweet(text):\n",
    "    text = text.lower()\n",
    "    text = re.sub(r'@\\w+', '', text)\n",
    "    text = re.sub(r'http\\S+', '', text)\n",
    "    text = re.sub(r'[%s]' % re.escape(string.punctuation), '', text)\n",
    "    text = re.sub(r'\\d+', '', text)\n",
    "    \n",
    "    # Handle negotiations\n",
    "    negation_patterns = {\n",
    "        r'\\b(am|are) not a fan\\b': 'negative',\n",
    "        r'\\b(do|did|does) not like\\b': 'negative',\n",
    "        r'\\b(do|did|does|is) not good\\b': 'bad',\n",
    "        r'\\b(do|did|does|is) not great\\b': 'poor',\n",
    "        r'\\b(am|are) not happy\\b': 'unhappy',\n",
    "        r'\\b(is|are) not worth\\b': 'worthless',\n",
    "        r'\\b(do|did|does) not recommend\\b': 'avoid',\n",
    "        r'\\b(is|was|are) not bad\\b': 'good',\n",
    "        r'\\b(is|was|are) not terrible\\b': 'good',\n",
    "        r'\\b(am|are|do|did|does) not unhappy\\b': 'happy',\n",
    "        r'\\b(am|is|are) not poor\\b': 'good',\n",
    "        r'\\b(do|did|does) not want\\b': 'dislike',\n",
    "        r'\\b(do|did|does) not need\\b': 'dislike',\n",
    "        r'\\b(do|did|does) not like\\b': 'dislike',\n",
    "\n",
    "        # Positive negations\n",
    "        r'\\b(is|are) not bad\\b': 'good',\n",
    "        r'\\b(is|are) not terrible\\b': 'good'\n",
    "    }\n",
    "    \n",
    "    for pattern, replacement in negation_patterns.items():\n",
    "        text = re.sub(pattern, replacement, text)\n",
    "    # General negation\n",
    "    text = re.sub(r'\\b(do|did|does|am|is|are|was|were) not (\\w+)\\b', r'not_\\2', text)\n",
    "\n",
    "    #  normalize repeated letters (soooo -> soo)\n",
    "    text = re.sub(r'(.)\\1{2,}', r'\\1\\1', text)\n",
    "    \n",
    "    # Strip extra spaces\n",
    "    text = text.strip()\n",
    "    \n",
    "    return text\n",
    "\n",
    "# Build pipeline \n",
    "svm_pipeline = Pipeline([\n",
    "    ('tfidf', TfidfVectorizer(\n",
    "        preprocessor=clean_tweet,\n",
    "        max_features=5000,\n",
    "        ngram_range=(1,2)\n",
    "    )),\n",
    "    ('svm', LinearSVC(class_weight='balanced', random_state=42))\n",
    "])\n",
    "\n",
    "# Train \n",
    "svm_pipeline.fit(X_train, y_train)\n",
    "\n",
    "#  Evaluate \n",
    "y_pred = svm_pipeline.predict(X_test)\n",
    "print(\"Pipeline Accuracy:\", accuracy_score(y_test, y_pred))\n",
    "print(\"\\nClassification Report:\\n\", classification_report(y_test, y_pred))\n",
    "\n",
    "# Save the entire pipeline \n",
    "joblib.dump(svm_pipeline, 'sentiment_pipeline.pkl')\n",
    "print(\"Pipeline saved successfully!\")"
   ]
  },
  {
   "cell_type": "markdown",
   "id": "019249de-337f-4bee-9dd4-1c9085267a3a",
   "metadata": {},
   "source": [
    "# 7. DEPLOYMENT"
   ]
  },
  {
   "cell_type": "markdown",
   "id": "c83dc414-450a-4cd1-a5a7-a215eac4eaf5",
   "metadata": {},
   "source": [
    "Model Deployment with Streamlit\n",
    "\n",
    "After training and evaluating our model, the next step is **deployment** there by making it accessible to users through a simple web app.\n",
    "\n",
    "We will use **Streamlit**, which is an interactive framework that allows us to create web interfaces for machine learning models with minimal code.\n",
    "\n",
    "Our Streamlit app will:\n",
    "- Load the saved **SVM pipeline** (`.pkl` file)\n",
    "- Accept a user’s tweet or text input\n",
    "- show a bar code of the tweets\n",
    "- Preprocess and classify the text\n",
    "- Display the **predicted sentiment**"
   ]
  },
  {
   "cell_type": "markdown",
   "id": "577d1e5e-542c-41e5-ba62-e1a03e76f5ea",
   "metadata": {},
   "source": [
    "# create a streamlit app scrpit\n",
    "We will now create a new Python file named **`app.py`** that will handle:\n",
    "- Loading the trained model\n",
    "- Getting user input\n",
    "- Making predictions\n",
    "- Displaying the sentiment result"
   ]
  },
  {
   "cell_type": "markdown",
   "id": "a44d25cb-b2ee-4c9a-a026-b52d90d0ec33",
   "metadata": {},
   "source": [
    "# Create a retrain_model\n",
    "We will now creat a new python file named`**retrain_model.py**` that will handle:\n",
    "- Loading the trained model\n",
    "- Loading the pipeline\n",
    "- Allow changes to be made of the pipeline\n"
   ]
  },
  {
   "cell_type": "markdown",
   "id": "4105f593-5526-42d4-aee3-33016c1dc2d3",
   "metadata": {},
   "source": [
    "# Create BERT sentiment model Loader\n",
    "We used the `Cardiff NLP RoBERTa` since our dataset is tweet-based. The model was intergrated in the SVM-model and run side by side in the streamlit app\n",
    "without overwriting the load_model(). The models run independently.\n",
    "Why we added BERT model:\n",
    "- BERT understands meaning and not just words as in the SVM-model which counts words and has no concept of context.\n",
    "- BERT is trained on massive text datasets and fine-tuned for sentiment on millions of tweets(can understand emotion).\n",
    "- It is pre-trained on huge data.\n",
    "- BERT uses something called self-attention, meaning it learns relationships between words in a sentence.\n"
   ]
  },
  {
   "cell_type": "markdown",
   "id": "28fa4de1-968d-439f-9f89-1271231d6fe7",
   "metadata": {},
   "source": [
    "# Summary\n",
    "The SVM-model performs well but has some limitations when it came to give out sentiments and therefore we opted for BERT to run our sentiment predictions."
   ]
  },
  {
   "cell_type": "code",
   "execution_count": null,
   "id": "acf56b2c-c3e9-4922-8666-c2828c66707e",
   "metadata": {},
   "outputs": [],
   "source": []
  }
 ],
 "metadata": {
  "kernelspec": {
   "display_name": "Python 3 (ipykernel)",
   "language": "python",
   "name": "python3"
  },
  "language_info": {
   "codemirror_mode": {
    "name": "ipython",
    "version": 3
   },
   "file_extension": ".py",
   "mimetype": "text/x-python",
   "name": "python",
   "nbconvert_exporter": "python",
   "pygments_lexer": "ipython3",
   "version": "3.12.7"
  }
 },
 "nbformat": 4,
 "nbformat_minor": 5
}
