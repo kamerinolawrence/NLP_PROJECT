{
 "cells": [
  {
   "cell_type": "markdown",
   "id": "554e4d52-92fa-43c7-a143-4677e74ce92a",
   "metadata": {},
   "source": [
    "# 1. Business Understanding\n",
    "\n",
    "### Objective\n",
    "The main business goal is to `analyze customer sentiments` expressed as tweets about various brands or products. By building a sentiment classification model, the company aims to:\n",
    "- Measure `public opinion` of its products or services.\n",
    "- Identify `negative feedback` early to improve on customer experience.\n",
    "- Track `brand reputation` and customer satisfaction over time.\n",
    "- Support `marketing and product strategy decisions` based on data-driven insights.\n",
    "#### In this project, we are aiming to build a machine learning model that can determine the **sentiment** of a tweet based on the content, whether it is **positive**, **negative**, or **neutral**.This is a **Natural Language Processing (NLP)** problem, useful for applications such as social media monitoring, brand-analysis, and customer-feedback tracking.\n",
    "\n",
    "### Key Business Questions\n",
    "- What proportion of customer mentions express positive vs. negative emotions?\n",
    "- How can the business improve customer satisfaction based on sentiment trends? \n",
    "\n",
    "### Success Criteria\n",
    "- Achieve a classification accuracy of at least 67% (baseline observed: 0.6707).\n",
    "- Generate a reliable sentiment distribution (positive, negative, neutral) for business reporting.\n",
    "- Enable automated monitoring of customer feedback at a certain scale.\n"
   ]
  },
  {
   "cell_type": "markdown",
   "id": "5d4f8dc3-6e7e-4461-b08a-fdd382703daf",
   "metadata": {},
   "source": [
    "# 2.Data Understanding\n",
    "\n",
    "### Data Source\n",
    "The dataset has been sourced from data.world.\n",
    "The data contains 9,070 rows and 2 columns\n",
    "\n",
    "### Data Overview\n",
    "From the classification report, the dataset includes at least four sentiment categories:\n",
    "1. `I can't tell` — unclear sentiment  \n",
    "2. `Negative emotion` — dissatisfaction, complaints  \n",
    "3. `No emotion toward brand or product` — neutral comments  \n",
    "4. `Positive emotion` — satisfaction  \n",
    "\n",
    "### Observations\n",
    "- We discovered that the class distribution seems `imbalanced`, with the “No emotion toward brand or product” class having the highest support (1674 samples).\n",
    "- We saw that the accuracy_score (67.07%) indicates that the model performs moderately well but may struggle with minority classes (\"I can't tell\").\n",
    "- We saw that the data included noise or ambiguous labels due to the subjective nature of sentiment."
   ]
  },
  {
   "cell_type": "markdown",
   "id": "e16c6f96-ee34-4b47-a960-ec98e68a15e8",
   "metadata": {},
   "source": [
    "# 3. Data Preparation\n",
    "\n",
    "### Data Cleaning\n",
    "- **Handle Encoding Issues:** Fix `utf-8` by using appropriate encoding (`latin1`).\n",
    "- **Remove Noise:** Strip URLs, user mentions (`@username`), hashtags, punctuation, and emojis.\n",
    "- **Normalize Text:** Convert to lowercase and remove extra whitespace.\n",
    "- **Handle Missing Values:** Drop rows with missing text or sentiment labels.(1 row of tweet_text was dropped and the whole column of emotion_in_a_tweet_is_directed_at was dropped).\n",
    "\n",
    "### Text Preprocessing\n",
    "- **Tokenization:** Split text into words using `nltk.word_tokenize()`.\n",
    "- **Stopword Removal:** Exclude common non-informative words.\n",
    "- **Stemming:** Reduce words to their base form.\n",
    "- **Vectorization:** Transform text into numerical form using TF-IDF.\n",
    "\n",
    "### Data Splitting\n",
    "- **Train-Test Split:** Divide the dataset (We used 70% train, 30% test).\n",
    "- **Stratification:** Ensure proportional representation of sentiment classes in both sets(stratify = y)\n",
    "\n",
    "### Feature Engineering\n",
    "- **Text Vectorization:** Converted tweet text into numeric representations that machine learning models can use(TF-IDF Vectorizer).\n",
    "- **Tweet Length:** Added a numeric feature representing the number of words or characters in each tweet.\n",
    "\n",
    "### Outcome\n",
    "We prepared the dataset to be suitable for machine learning models such as:\n",
    "- Logistic Regression  \n",
    "- Naive Bayes\n",
    "- SMOTE\n",
    "- Support Vector Machine (SVM)\n",
    "\n",
    "## Summary\n",
    "We saw that the SVM pipeline supports sentiment analysis for brand-related tweets. After cleaning and preprocessing, the model achieved around `67% accuracy`, indicating reasonable performance for a baseline model. "
   ]
  },
  {
   "cell_type": "code",
   "execution_count": 1,
   "id": "dc1f6c9b-3d8c-409c-b4eb-490aa1b90fdd",
   "metadata": {},
   "outputs": [],
   "source": [
    "# import important libraries\n",
    "import pandas as pd\n",
    "\n",
    "import matplotlib.pyplot as plt\n",
    "import seaborn as sns\n",
    "import streamlit as st\n",
    "\n",
    "import re, string, nltk\n",
    "from nltk.corpus import stopwords\n",
    "from nltk.stem import PorterStemmer\n",
    "import joblib\n",
    "\n",
    "\n",
    "from sklearn.model_selection import train_test_split\n",
    "from sklearn.feature_extraction.text import TfidfVectorizer\n",
    "from sklearn.linear_model import LogisticRegression\n",
    "from sklearn.metrics import accuracy_score, classification_report, confusion_matrix, f1_score\n",
    "from sklearn.pipeline import Pipeline\n",
    "\n",
    "from sklearn.linear_model import LogisticRegression\n",
    "from imblearn.over_sampling import SMOTE\n",
    "from sklearn.naive_bayes import MultinomialNB\n",
    "from sklearn.svm import LinearSVC"
   ]
  },
  {
   "cell_type": "markdown",
   "id": "835990c7-f082-4a41-b691-10cdf53c2288",
   "metadata": {},
   "source": [
    "## We will start by loading our dataset for exploration."
   ]
  },
  {
   "cell_type": "code",
   "execution_count": 2,
   "id": "e09f3160-a0d0-480a-ae14-675e6eb0b40e",
   "metadata": {},
   "outputs": [
    {
     "data": {
      "text/html": [
       "<div>\n",
       "<style scoped>\n",
       "    .dataframe tbody tr th:only-of-type {\n",
       "        vertical-align: middle;\n",
       "    }\n",
       "\n",
       "    .dataframe tbody tr th {\n",
       "        vertical-align: top;\n",
       "    }\n",
       "\n",
       "    .dataframe thead th {\n",
       "        text-align: right;\n",
       "    }\n",
       "</style>\n",
       "<table border=\"1\" class=\"dataframe\">\n",
       "  <thead>\n",
       "    <tr style=\"text-align: right;\">\n",
       "      <th></th>\n",
       "      <th>tweet_text</th>\n",
       "      <th>emotion_in_tweet_is_directed_at</th>\n",
       "      <th>is_there_an_emotion_directed_at_a_brand_or_product</th>\n",
       "    </tr>\n",
       "  </thead>\n",
       "  <tbody>\n",
       "    <tr>\n",
       "      <th>0</th>\n",
       "      <td>.@wesley83 I have a 3G iPhone. After 3 hrs twe...</td>\n",
       "      <td>iPhone</td>\n",
       "      <td>Negative emotion</td>\n",
       "    </tr>\n",
       "    <tr>\n",
       "      <th>1</th>\n",
       "      <td>@jessedee Know about @fludapp ? Awesome iPad/i...</td>\n",
       "      <td>iPad or iPhone App</td>\n",
       "      <td>Positive emotion</td>\n",
       "    </tr>\n",
       "    <tr>\n",
       "      <th>2</th>\n",
       "      <td>@swonderlin Can not wait for #iPad 2 also. The...</td>\n",
       "      <td>iPad</td>\n",
       "      <td>Positive emotion</td>\n",
       "    </tr>\n",
       "    <tr>\n",
       "      <th>3</th>\n",
       "      <td>@sxsw I hope this year's festival isn't as cra...</td>\n",
       "      <td>iPad or iPhone App</td>\n",
       "      <td>Negative emotion</td>\n",
       "    </tr>\n",
       "    <tr>\n",
       "      <th>4</th>\n",
       "      <td>@sxtxstate great stuff on Fri #SXSW: Marissa M...</td>\n",
       "      <td>Google</td>\n",
       "      <td>Positive emotion</td>\n",
       "    </tr>\n",
       "  </tbody>\n",
       "</table>\n",
       "</div>"
      ],
      "text/plain": [
       "                                          tweet_text  \\\n",
       "0  .@wesley83 I have a 3G iPhone. After 3 hrs twe...   \n",
       "1  @jessedee Know about @fludapp ? Awesome iPad/i...   \n",
       "2  @swonderlin Can not wait for #iPad 2 also. The...   \n",
       "3  @sxsw I hope this year's festival isn't as cra...   \n",
       "4  @sxtxstate great stuff on Fri #SXSW: Marissa M...   \n",
       "\n",
       "  emotion_in_tweet_is_directed_at  \\\n",
       "0                          iPhone   \n",
       "1              iPad or iPhone App   \n",
       "2                            iPad   \n",
       "3              iPad or iPhone App   \n",
       "4                          Google   \n",
       "\n",
       "  is_there_an_emotion_directed_at_a_brand_or_product  \n",
       "0                                   Negative emotion  \n",
       "1                                   Positive emotion  \n",
       "2                                   Positive emotion  \n",
       "3                                   Negative emotion  \n",
       "4                                   Positive emotion  "
      ]
     },
     "execution_count": 2,
     "metadata": {},
     "output_type": "execute_result"
    }
   ],
   "source": [
    "# loading our dataset\n",
    "df = pd.read_csv('judge-1377884607_tweet_product_company.csv', encoding = 'latin1')\n",
    "# previewing the dataset\n",
    "df.head()"
   ]
  },
  {
   "cell_type": "code",
   "execution_count": 3,
   "id": "06580ccb-58a9-4ebc-8bc5-04000341f6d2",
   "metadata": {},
   "outputs": [
    {
     "data": {
      "text/plain": [
       "(9093, 3)"
      ]
     },
     "execution_count": 3,
     "metadata": {},
     "output_type": "execute_result"
    }
   ],
   "source": [
    "# Shows the structure of the data set\n",
    "df.shape"
   ]
  },
  {
   "cell_type": "code",
   "execution_count": 10,
   "id": "3b3cd72b-6abf-402c-bc0d-9880aeee5c6a",
   "metadata": {},
   "outputs": [
    {
     "data": {
      "text/plain": [
       "tweet_text    object\n",
       "sentiment     object\n",
       "dtype: object"
      ]
     },
     "execution_count": 10,
     "metadata": {},
     "output_type": "execute_result"
    }
   ],
   "source": [
    "# Data type of each column in the DataFrame.\n",
    "df.dtypes"
   ]
  },
  {
   "cell_type": "code",
   "execution_count": 4,
   "id": "c453f441-8c27-48d8-b8db-966a4be4b009",
   "metadata": {},
   "outputs": [
    {
     "name": "stdout",
     "output_type": "stream",
     "text": [
      "<class 'pandas.core.frame.DataFrame'>\n",
      "RangeIndex: 9093 entries, 0 to 9092\n",
      "Data columns (total 3 columns):\n",
      " #   Column                                              Non-Null Count  Dtype \n",
      "---  ------                                              --------------  ----- \n",
      " 0   tweet_text                                          9092 non-null   object\n",
      " 1   emotion_in_tweet_is_directed_at                     3291 non-null   object\n",
      " 2   is_there_an_emotion_directed_at_a_brand_or_product  9093 non-null   object\n",
      "dtypes: object(3)\n",
      "memory usage: 213.2+ KB\n"
     ]
    }
   ],
   "source": [
    "# Checking for basic structure and summary of the data\n",
    "df.info()"
   ]
  },
  {
   "cell_type": "markdown",
   "id": "9c533136-dcdc-4637-9a0e-152eee67c5fa",
   "metadata": {},
   "source": [
    "## 3. Data Inspection\n",
    "\n",
    "Before we preprocess the data, let's understand its structure:\n",
    "- Column names and data types\n",
    "- Presence of missing values\n",
    "- Distribution of sentiment"
   ]
  },
  {
   "cell_type": "code",
   "execution_count": 6,
   "id": "65b7306d-160e-4e5c-abed-b7996d723c0d",
   "metadata": {},
   "outputs": [
    {
     "data": {
      "text/plain": [
       "tweet_text                                               1\n",
       "emotion_in_tweet_is_directed_at                       5802\n",
       "is_there_an_emotion_directed_at_a_brand_or_product       0\n",
       "dtype: int64"
      ]
     },
     "execution_count": 6,
     "metadata": {},
     "output_type": "execute_result"
    }
   ],
   "source": [
    "# checking for missing values\n",
    "df.isnull().sum()"
   ]
  },
  {
   "cell_type": "markdown",
   "id": "7583a83f-1692-4628-aded-cf4251dffed9",
   "metadata": {},
   "source": [
    "# Drop Irrelevant Columns\n",
    "\n",
    "## The column `emotion_in_tweet_is_directed_at` contains many missing values(5,802) and is not required for sentiment classification. We decided to drop it to simplify our dataset.\n",
    "# Handle Missing Values and Prepare Data\n",
    "## We decide to remove rows with missing tweet_text (shows only one record is missing). We also renamed `is_there_an_emotion_directed_at_a_brand_or_product` column to `sentiment` for easier understanding."
   ]
  },
  {
   "cell_type": "code",
   "execution_count": 7,
   "id": "171b3fe8-c7c3-48a3-9d21-7e6e4d1e8da1",
   "metadata": {},
   "outputs": [
    {
     "name": "stdout",
     "output_type": "stream",
     "text": [
      "<class 'pandas.core.frame.DataFrame'>\n",
      "Index: 9070 entries, 0 to 9092\n",
      "Data columns (total 2 columns):\n",
      " #   Column      Non-Null Count  Dtype \n",
      "---  ------      --------------  ----- \n",
      " 0   tweet_text  9070 non-null   object\n",
      " 1   sentiment   9070 non-null   object\n",
      "dtypes: object(2)\n",
      "memory usage: 212.6+ KB\n"
     ]
    },
    {
     "data": {
      "text/plain": [
       "(9070, 2)"
      ]
     },
     "execution_count": 7,
     "metadata": {},
     "output_type": "execute_result"
    }
   ],
   "source": [
    "# Drop row with missing tweet text\n",
    "df = df.dropna(subset=['tweet_text'])\n",
    "\n",
    "# Rename columns for simplicity\n",
    "df = df.rename(columns={\n",
    "    'is_there_an_emotion_directed_at_a_brand_or_product': 'sentiment'\n",
    "})\n",
    "# Remove duplicate tweet_text + sentiment pairs\n",
    "df.drop_duplicates(subset=['tweet_text', 'sentiment'], inplace=True)\n",
    "\n",
    "# Drop column\n",
    "df.drop(columns = ['emotion_in_tweet_is_directed_at'], inplace= True)\n",
    "\n",
    "# Confirm cleaning\n",
    "df.info()\n",
    "df.head()\n",
    "df.shape"
   ]
  },
  {
   "cell_type": "code",
   "execution_count": 7,
   "id": "dd48046f-cb2c-4a5e-8709-e5163f0872b9",
   "metadata": {},
   "outputs": [
    {
     "data": {
      "text/plain": [
       "array(['.@wesley83 I have a 3G iPhone. After 3 hrs tweeting at #RISE_Austin, it was dead!  I need to upgrade. Plugin stations at #SXSW.',\n",
       "       \"@jessedee Know about @fludapp ? Awesome iPad/iPhone app that you'll likely appreciate for its design. Also, they're giving free Ts at #SXSW\",\n",
       "       '@swonderlin Can not wait for #iPad 2 also. They should sale them down at #SXSW.',\n",
       "       ...,\n",
       "       \"Google's Zeiger, a physician never reported potential AE. Yet FDA relies on physicians. &quot;We're operating w/out data.&quot; #sxsw #health2dev\",\n",
       "       'Some Verizon iPhone customers complained their time fell back an hour this weekend.  Of course they were the New Yorkers who attended #SXSW.',\n",
       "       '\\x8cÏ¡\\x8eÏà\\x8aü_\\x8b\\x81Ê\\x8b\\x81Î\\x8b\\x81Ò\\x8b\\x81£\\x8b\\x81Á\\x8bââ\\x8b\\x81_\\x8b\\x81£\\x8b\\x81\\x8f\\x8bâ_\\x8bÛâRT @mention Google Tests \\x89ÛÏCheck-in Offers\\x89Û\\x9d At #SXSW {link}'],\n",
       "      dtype=object)"
      ]
     },
     "execution_count": 7,
     "metadata": {},
     "output_type": "execute_result"
    }
   ],
   "source": [
    "df['tweet_text'].unique()"
   ]
  },
  {
   "cell_type": "markdown",
   "id": "c27be367-56e0-4d3b-9f94-e675d364d792",
   "metadata": {},
   "source": [
    "##  4. Text Cleaning and Preprocessing\n",
    "\n",
    "Tweets often contain noisy data such as:\n",
    "- Mentions (`@username`)\n",
    "- URLs\n",
    "- Punctuation and numbers\n",
    "- Mixed casing\n",
    "\n",
    "We'll clean the text by:\n",
    "1. Removing unnecessary tokens  \n",
    "2. Converting text to lowercase  \n",
    "3. Removing stopwords  \n",
    "4. Applying stemming"
   ]
  },
  {
   "cell_type": "code",
   "execution_count": 8,
   "id": "40b59120-7cce-4d46-9130-1d8ac03f3683",
   "metadata": {},
   "outputs": [
    {
     "name": "stderr",
     "output_type": "stream",
     "text": [
      "[nltk_data] Downloading package stopwords to\n",
      "[nltk_data]     C:\\Users\\Administrator\\AppData\\Roaming\\nltk_data...\n",
      "[nltk_data]   Package stopwords is already up-to-date!\n"
     ]
    },
    {
     "data": {
      "text/html": [
       "<div>\n",
       "<style scoped>\n",
       "    .dataframe tbody tr th:only-of-type {\n",
       "        vertical-align: middle;\n",
       "    }\n",
       "\n",
       "    .dataframe tbody tr th {\n",
       "        vertical-align: top;\n",
       "    }\n",
       "\n",
       "    .dataframe thead th {\n",
       "        text-align: right;\n",
       "    }\n",
       "</style>\n",
       "<table border=\"1\" class=\"dataframe\">\n",
       "  <thead>\n",
       "    <tr style=\"text-align: right;\">\n",
       "      <th></th>\n",
       "      <th>tweet_text</th>\n",
       "      <th>clean_text</th>\n",
       "    </tr>\n",
       "  </thead>\n",
       "  <tbody>\n",
       "    <tr>\n",
       "      <th>0</th>\n",
       "      <td>.@wesley83 I have a 3G iPhone. After 3 hrs twe...</td>\n",
       "      <td>g iphon hr tweet riseaustin dead need upgrad p...</td>\n",
       "    </tr>\n",
       "    <tr>\n",
       "      <th>1</th>\n",
       "      <td>@jessedee Know about @fludapp ? Awesome iPad/i...</td>\n",
       "      <td>know awesom ipadiphon app youll like appreci d...</td>\n",
       "    </tr>\n",
       "    <tr>\n",
       "      <th>2</th>\n",
       "      <td>@swonderlin Can not wait for #iPad 2 also. The...</td>\n",
       "      <td>wait ipad also sale sxsw</td>\n",
       "    </tr>\n",
       "    <tr>\n",
       "      <th>3</th>\n",
       "      <td>@sxsw I hope this year's festival isn't as cra...</td>\n",
       "      <td>hope year festiv isnt crashi year iphon app sxsw</td>\n",
       "    </tr>\n",
       "    <tr>\n",
       "      <th>4</th>\n",
       "      <td>@sxtxstate great stuff on Fri #SXSW: Marissa M...</td>\n",
       "      <td>great stuff fri sxsw marissa mayer googl tim o...</td>\n",
       "    </tr>\n",
       "  </tbody>\n",
       "</table>\n",
       "</div>"
      ],
      "text/plain": [
       "                                          tweet_text  \\\n",
       "0  .@wesley83 I have a 3G iPhone. After 3 hrs twe...   \n",
       "1  @jessedee Know about @fludapp ? Awesome iPad/i...   \n",
       "2  @swonderlin Can not wait for #iPad 2 also. The...   \n",
       "3  @sxsw I hope this year's festival isn't as cra...   \n",
       "4  @sxtxstate great stuff on Fri #SXSW: Marissa M...   \n",
       "\n",
       "                                          clean_text  \n",
       "0  g iphon hr tweet riseaustin dead need upgrad p...  \n",
       "1  know awesom ipadiphon app youll like appreci d...  \n",
       "2                           wait ipad also sale sxsw  \n",
       "3   hope year festiv isnt crashi year iphon app sxsw  \n",
       "4  great stuff fri sxsw marissa mayer googl tim o...  "
      ]
     },
     "execution_count": 8,
     "metadata": {},
     "output_type": "execute_result"
    }
   ],
   "source": [
    "# Download NLTK stopwords (only first time)\n",
    "nltk.download('stopwords')\n",
    "\n",
    "# Initialize\n",
    "stop_words = set(stopwords.words('english'))\n",
    "stemmer = PorterStemmer()\n",
    "\n",
    "def clean_tweet(text):\n",
    "    # Remove @mentions\n",
    "    text = re.sub(r'@\\w+', '', text)\n",
    "    # Remove URLs\n",
    "    text = re.sub(r'http\\S+|www\\S+|https\\S+', '', text, flags=re.MULTILINE)\n",
    "    # Remove punctuation and numbers\n",
    "    text = re.sub(r'[^A-Za-z\\s]', '', text)\n",
    "    # Lowercase\n",
    "    text = text.lower()\n",
    "    # Remove stopwords\n",
    "    text = ' '.join([word for word in text.split() if word not in stop_words])\n",
    "    # Apply stemming\n",
    "    text = ' '.join([stemmer.stem(word) for word in text.split()])\n",
    "    return text\n",
    "\n",
    "# Apply cleaning to the tweet column\n",
    "df['clean_text'] = df['tweet_text'].apply(clean_tweet)   # replace 'tweet' with your actual column name\n",
    "df[['tweet_text', 'clean_text']].head()"
   ]
  },
  {
   "cell_type": "markdown",
   "id": "36e67407-dad0-44fe-9d21-4fcc445bc154",
   "metadata": {},
   "source": [
    "Modeling\n",
    "\n",
    "### 4.1 Model Selection\n",
    "Tested various supervised machine learning models:\n",
    "- Logistic Regression\n",
    "- Multinomial Naive Bayes\n",
    "- Random Forest Classifier\n",
    "- Support Vector Machine (SVM)\n",
    "\n",
    "For advanced modeling:\n",
    "- Fine-tuned transformer models like **BERT** or **RoBERTa** for contextual understanding.\n",
    "\n",
    "### 4.2 Training\n",
    "- Used vectorized text data as input features.\n",
    "- Applied **cross-validation** to avoid overfitting.\n",
    "- Tuned hyperparameters using **GridSearchCV** or **RandomizedSearchCV**.\n",
    "\n",
    "### 4.3 Baseline Model Performance\n",
    "| Metric | Score |\n",
    "|---------|--------|\n",
    "| **Accuracy** | 0.6476 |\n",
    "| **Precision (avg)** | ~0.66 |\n",
    "| **Recall (avg)** | ~0.63 |\n",
    "| **F1-score (avg)** | ~0.64 |\n",
    "\n",
    "### 4.4 Observations\n",
    "- The model performs well on the **neutral class** but struggles with rare classes.\n",
    "- Indicates **data imbalance** and potential need for class weighting or oversampling.\n"
   ]
  },
  {
   "cell_type": "markdown",
   "id": "83f607af-e904-418c-8022-b151a2c24b32",
   "metadata": {},
   "source": [
    "# Vectorization and Model Training\n",
    "\n",
    "# With the tweet_text cleaned, we need to convert text into a numerical format that machine learning models can understand.\n",
    "\n",
    "# We'll use **TF-IDF (Term Frequency–Inverse Document Frequency)**, which captures how important a word is to a tweet compared to the entire dataset.\n",
    "\n",
    "# Then, we'll train a **Logistic Regression** model — a strong baseline for text classification tasks."
   ]
  },
  {
   "cell_type": "code",
   "execution_count": 9,
   "id": "2c4e1ef3-829f-47ae-9a50-01120417b4d5",
   "metadata": {},
   "outputs": [
    {
     "name": "stdout",
     "output_type": "stream",
     "text": [
      "Accuracy: 0.6802646085997794\n",
      "\n",
      " Classification Report:\n",
      "                                     precision    recall  f1-score   support\n",
      "\n",
      "                      I can't tell       0.00      0.00      0.00        49\n",
      "                  Negative emotion       0.59      0.07      0.13       179\n",
      "No emotion toward brand or product       0.72      0.86      0.78      1674\n",
      "                  Positive emotion       0.58      0.49      0.53       819\n",
      "\n",
      "                          accuracy                           0.68      2721\n",
      "                         macro avg       0.47      0.36      0.36      2721\n",
      "                      weighted avg       0.65      0.68      0.65      2721\n",
      "\n"
     ]
    },
    {
     "name": "stderr",
     "output_type": "stream",
     "text": [
      "C:\\Users\\Administrator\\anaconda3\\Lib\\site-packages\\sklearn\\metrics\\_classification.py:1531: UndefinedMetricWarning: Precision is ill-defined and being set to 0.0 in labels with no predicted samples. Use `zero_division` parameter to control this behavior.\n",
      "  _warn_prf(average, modifier, f\"{metric.capitalize()} is\", len(result))\n",
      "C:\\Users\\Administrator\\anaconda3\\Lib\\site-packages\\sklearn\\metrics\\_classification.py:1531: UndefinedMetricWarning: Precision is ill-defined and being set to 0.0 in labels with no predicted samples. Use `zero_division` parameter to control this behavior.\n",
      "  _warn_prf(average, modifier, f\"{metric.capitalize()} is\", len(result))\n",
      "C:\\Users\\Administrator\\anaconda3\\Lib\\site-packages\\sklearn\\metrics\\_classification.py:1531: UndefinedMetricWarning: Precision is ill-defined and being set to 0.0 in labels with no predicted samples. Use `zero_division` parameter to control this behavior.\n",
      "  _warn_prf(average, modifier, f\"{metric.capitalize()} is\", len(result))\n"
     ]
    }
   ],
   "source": [
    "# Define the features and target\n",
    "X = df['clean_text']\n",
    "y = df['sentiment']\n",
    "\n",
    "# Split data (70% train, 30% test) and a random_state(42)\n",
    "X_train, X_test, y_train, y_test = train_test_split(X, y, test_size=0.3, random_state=42, stratify = y)\n",
    "\n",
    "# Initialize TF-IDF vectorizer\n",
    "tfidf = TfidfVectorizer(max_features=5000, ngram_range=(1,2))\n",
    "\n",
    "# Fit and transform training data, transform test data\n",
    "X_train_tfidf = tfidf.fit_transform(X_train)\n",
    "X_test_tfidf = tfidf.transform(X_test)\n",
    "\n",
    "# Train Logistic Regression model\n",
    "model = LogisticRegression(max_iter=1000, random_state=42)\n",
    "model.fit(X_train_tfidf, y_train)\n",
    "\n",
    "# Predict on test data\n",
    "y_pred = model.predict(X_test_tfidf)\n",
    "\n",
    "# Evaluate model\n",
    "print(\"Accuracy:\", accuracy_score(y_test, y_pred))\n",
    "print(\"\\n Classification Report:\\n\", classification_report(y_test, y_pred))"
   ]
  },
  {
   "cell_type": "markdown",
   "id": "20fa914d-83dd-41db-ba59-36985c3ac1b0",
   "metadata": {},
   "source": [
    "## Model Evaluation\n",
    "\n",
    "# Let's visualize the confusion matrix to understand how well the model classifies different sentiment categories."
   ]
  },
  {
   "cell_type": "code",
   "execution_count": 10,
   "id": "8debae1d-056b-49b4-9aca-766e91c81a46",
   "metadata": {},
   "outputs": [
    {
     "name": "stdout",
     "output_type": "stream",
     "text": [
      "[[   0    0   38   11]\n",
      " [   0   13  115   51]\n",
      " [   0    8 1434  232]\n",
      " [   0    1  414  404]]\n"
     ]
    },
    {
     "data": {
      "image/png": "[encoded data removed]",
      "text/plain": [
       "<Figure size 600x500 with 2 Axes>"
      ]
     },
     "metadata": {},
     "output_type": "display_data"
    }
   ],
   "source": [
    "\n",
    "# Confusion matrix\n",
    "cm = confusion_matrix(y_test, y_pred)\n",
    "print(cm)\n",
    "\n",
    "plt.figure(figsize=(6,5))\n",
    "sns.heatmap(cm, annot=True, fmt='d', cmap='Blues')\n",
    "plt.title(\"Confusion Matrix\")\n",
    "plt.xlabel(\"Predicted\")\n",
    "plt.ylabel(\"Actual\")\n",
    "plt.show()"
   ]
  },
  {
   "cell_type": "markdown",
   "id": "c8605ca6-7662-4336-b945-80da212ae41d",
   "metadata": {},
   "source": [
    "## Relevant findings from the confusion matrix;\n",
    "* Class 0, it is completely miss-classified mostly as “No emotion” or “Positive.” This shows that the class likely has too few samples to learn meaningful patterns.\n",
    "\n",
    "* Class 1 (Negative emotion) out of 179 tweets, most were misclassified as “No emotion” (115). This shows that our model doesn’t detect negative tone well, possibly due to data imbalance or lack of strong negative terms in the text.\n",
    "\n",
    "* Class 2 (No emotion) most predictions are correct(1434 out of 1674 tweets are correctly classified). However, 232 are being mistaken for “Positive emotion.” This shows that our model confuses neutral tone with positive sentiment, which is common when text has little to no positive wording.\n",
    "\n",
    "* Class 3 (Positive emotion) the model correctly catches 404 tweets but mistakes 414 as “No emotion.” This Indicates that there is a thin line between “Positive” and “Neutral.”"
   ]
  },
  {
   "cell_type": "markdown",
   "id": "69a7ec3f-e28a-46d8-a967-a085903a2dfb",
   "metadata": {},
   "source": [
    "Evaluation\n",
    "\n",
    "### 5.1 Quantitative Evaluation\n",
    "- **Confusion Matrix:** Visualize misclassifications.\n",
    "- **Classification Report:** Assess per-class precision, recall, and F1-score.\n",
    "- **ROC-AUC (for binary)** or **macro-F1 (for multi-class)** for balanced evaluation.\n",
    "\n",
    "### 5.2 Qualitative Evaluation\n",
    "- Review sample misclassified tweets to identify linguistic nuances.\n",
    "- Evaluate model interpretability using SHAP or LIME to understand feature importance.\n",
    "\n",
    "### 5.3 Key Findings\n",
    "- Most misclassifications occurred between **Neutral** and **Positive** sentiments.\n",
    "- “I can’t tell” category is too ambiguous — consider merging or removing it.\n",
    "- Need for **data balancing techniques** like SMOTE or class weights."
   ]
  },
  {
   "cell_type": "markdown",
   "id": "aa53bf17-2739-47b6-b9b2-bde76764728c",
   "metadata": {},
   "source": [
    "# Improving Model Performance\n",
    "\n",
    "The baseline Logistic Regression model achieved around `68% accuracy`, but struggled with minority sentiment classes.\n",
    "\n",
    "We will now:\n",
    "1. Handle class imbalance using `class_weight` and SMOTE\n",
    "2. Try alternative classifiers (Naive Bayes, Linear SVM)\n",
    "3. Tune TF-IDF to capture better context\n",
    "4. Evaluate using macro F1-score (for fair performance on all classes)"
   ]
  },
  {
   "cell_type": "markdown",
   "id": "3ae457cf-f8f6-43ce-a2a6-82f916eaff0c",
   "metadata": {},
   "source": [
    "# Handling the class imbalance with weights"
   ]
  },
  {
   "cell_type": "code",
   "execution_count": 12,
   "id": "1e7ee673-1d93-425f-be6f-447296408246",
   "metadata": {},
   "outputs": [
    {
     "name": "stdout",
     "output_type": "stream",
     "text": [
      "Balanced Logistic Regression Accuracy: 0.6049246600514516\n",
      "\n",
      " Classification Report (Balanced Logistic Regression):\n",
      "\n",
      "                                    precision    recall  f1-score   support\n",
      "\n",
      "                      I can't tell       0.05      0.08      0.06        49\n",
      "                  Negative emotion       0.28      0.49      0.36       179\n",
      "No emotion toward brand or product       0.78      0.64      0.70      1674\n",
      "                  Positive emotion       0.51      0.59      0.55       819\n",
      "\n",
      "                          accuracy                           0.60      2721\n",
      "                         macro avg       0.40      0.45      0.42      2721\n",
      "                      weighted avg       0.65      0.60      0.62      2721\n",
      "\n"
     ]
    }
   ],
   "source": [
    "# Re-train Logistic Regression with class balancing\n",
    "logreg_balanced = LogisticRegression(max_iter=1000, class_weight='balanced', random_state=42)\n",
    "logreg_balanced.fit(X_train_tfidf, y_train)\n",
    "\n",
    "y_pred_balanced = logreg_balanced.predict(X_test_tfidf)\n",
    "\n",
    "print(\"Balanced Logistic Regression Accuracy:\", accuracy_score(y_test, y_pred_balanced))\n",
    "print(\"\\n Classification Report (Balanced Logistic Regression):\\n\")\n",
    "print(classification_report(y_test, y_pred_balanced))"
   ]
  },
  {
   "cell_type": "markdown",
   "id": "37714f6d-6ce7-4bab-8efb-c776ae7efccc",
   "metadata": {},
   "source": [
    "# Apply SMOTE(Synthetic Minority Oversampling Technique)"
   ]
  },
  {
   "cell_type": "code",
   "execution_count": 14,
   "id": "42782377-f14e-4d54-b54c-542e18bee47d",
   "metadata": {},
   "outputs": [
    {
     "name": "stdout",
     "output_type": "stream",
     "text": [
      "Before SMOTE: (6349, 5000)\n",
      "After SMOTE: (14804, 5000)\n",
      " SMOTE Accuracy: 0.6203601617052554\n",
      "\n",
      " Classification Report (SMOTE Logistic Regression):\n",
      "\n",
      "                                    precision    recall  f1-score   support\n",
      "\n",
      "                      I can't tell       0.06      0.08      0.07        49\n",
      "                  Negative emotion       0.33      0.46      0.38       179\n",
      "No emotion toward brand or product       0.77      0.67      0.71      1674\n",
      "                  Positive emotion       0.51      0.59      0.55       819\n",
      "\n",
      "                          accuracy                           0.62      2721\n",
      "                         macro avg       0.42      0.45      0.43      2721\n",
      "                      weighted avg       0.65      0.62      0.63      2721\n",
      "\n"
     ]
    }
   ],
   "source": [
    "# Apply SMOTE only on training data\n",
    "smote = SMOTE(random_state=42)\n",
    "X_train_res, y_train_res = smote.fit_resample(X_train_tfidf, y_train)\n",
    "\n",
    "print(\"Before SMOTE:\", X_train_tfidf.shape)\n",
    "print(\"After SMOTE:\", X_train_res.shape)\n",
    "\n",
    "# Retrain model on balanced data\n",
    "logreg_smote = LogisticRegression(max_iter=1000, random_state=42)\n",
    "logreg_smote.fit(X_train_res, y_train_res)\n",
    "\n",
    "y_pred_smote = logreg_smote.predict(X_test_tfidf)\n",
    "\n",
    "print(\" SMOTE Accuracy:\", accuracy_score(y_test, y_pred_smote))\n",
    "print(\"\\n Classification Report (SMOTE Logistic Regression):\\n\")\n",
    "print(classification_report(y_test, y_pred_smote))"
   ]
  },
  {
   "cell_type": "markdown",
   "id": "867e2bb5-2564-48ab-b4a0-cffa7fa8ff9e",
   "metadata": {},
   "source": [
    "# Use Naive Bayes(Baseline) for Text Data"
   ]
  },
  {
   "cell_type": "code",
   "execution_count": 16,
   "id": "0764eba9-3339-4d87-8a4b-b7d2427c7049",
   "metadata": {},
   "outputs": [
    {
     "name": "stdout",
     "output_type": "stream",
     "text": [
      "Naive Bayes Accuracy: 0.6662991547225284\n",
      "\n",
      " Classification Report (Naive Bayes):\n",
      "\n",
      "                                    precision    recall  f1-score   support\n",
      "\n",
      "                      I can't tell       0.00      0.00      0.00        49\n",
      "                  Negative emotion       0.85      0.06      0.11       179\n",
      "No emotion toward brand or product       0.69      0.89      0.78      1674\n",
      "                  Positive emotion       0.56      0.38      0.46       819\n",
      "\n",
      "                          accuracy                           0.67      2721\n",
      "                         macro avg       0.52      0.33      0.34      2721\n",
      "                      weighted avg       0.65      0.67      0.62      2721\n",
      "\n"
     ]
    },
    {
     "name": "stderr",
     "output_type": "stream",
     "text": [
      "C:\\Users\\Administrator\\anaconda3\\Lib\\site-packages\\sklearn\\metrics\\_classification.py:1531: UndefinedMetricWarning: Precision is ill-defined and being set to 0.0 in labels with no predicted samples. Use `zero_division` parameter to control this behavior.\n",
      "  _warn_prf(average, modifier, f\"{metric.capitalize()} is\", len(result))\n",
      "C:\\Users\\Administrator\\anaconda3\\Lib\\site-packages\\sklearn\\metrics\\_classification.py:1531: UndefinedMetricWarning: Precision is ill-defined and being set to 0.0 in labels with no predicted samples. Use `zero_division` parameter to control this behavior.\n",
      "  _warn_prf(average, modifier, f\"{metric.capitalize()} is\", len(result))\n",
      "C:\\Users\\Administrator\\anaconda3\\Lib\\site-packages\\sklearn\\metrics\\_classification.py:1531: UndefinedMetricWarning: Precision is ill-defined and being set to 0.0 in labels with no predicted samples. Use `zero_division` parameter to control this behavior.\n",
      "  _warn_prf(average, modifier, f\"{metric.capitalize()} is\", len(result))\n"
     ]
    }
   ],
   "source": [
    "nb = MultinomialNB()\n",
    "nb.fit(X_train_tfidf, y_train)\n",
    "y_pred_nb = nb.predict(X_test_tfidf)\n",
    "\n",
    "print(\"Naive Bayes Accuracy:\", accuracy_score(y_test, y_pred_nb))\n",
    "print(\"\\n Classification Report (Naive Bayes):\\n\")\n",
    "print(classification_report(y_test, y_pred_nb))"
   ]
  },
  {
   "cell_type": "markdown",
   "id": "e4288b82-d3c1-4b0b-82ca-1b3f184d9386",
   "metadata": {},
   "source": [
    "# Use linear-svm for text Classification"
   ]
  },
  {
   "cell_type": "code",
   "execution_count": 18,
   "id": "88f8fbc7-f981-430c-abf4-3c783479eeaf",
   "metadata": {},
   "outputs": [
    {
     "name": "stdout",
     "output_type": "stream",
     "text": [
      "Linear SVM Accuracy: 0.6707092980521867\n",
      "\n",
      " Classification Report (Linear SVM):\n",
      "\n",
      "                                    precision    recall  f1-score   support\n",
      "\n",
      "                      I can't tell       0.00      0.00      0.00        49\n",
      "                  Negative emotion       0.55      0.26      0.35       179\n",
      "No emotion toward brand or product       0.74      0.79      0.76      1674\n",
      "                  Positive emotion       0.55      0.55      0.55       819\n",
      "\n",
      "                          accuracy                           0.67      2721\n",
      "                         macro avg       0.46      0.40      0.42      2721\n",
      "                      weighted avg       0.65      0.67      0.66      2721\n",
      "\n"
     ]
    }
   ],
   "source": [
    "svm = LinearSVC(random_state=42)\n",
    "svm.fit(X_train_tfidf, y_train)\n",
    "y_pred_svm = svm.predict(X_test_tfidf)\n",
    "\n",
    "print(\"Linear SVM Accuracy:\", accuracy_score(y_test, y_pred_svm))\n",
    "print(\"\\n Classification Report (Linear SVM):\\n\")\n",
    "print(classification_report(y_test, y_pred_svm))"
   ]
  },
  {
   "cell_type": "markdown",
   "id": "ef788860-6fca-47d0-89a9-fc3e05531fe4",
   "metadata": {},
   "source": [
    "# Tune TF-IDF"
   ]
  },
  {
   "cell_type": "code",
   "execution_count": 20,
   "id": "a246fcba-e280-4b94-88c0-9139f3018acf",
   "metadata": {},
   "outputs": [
    {
     "name": "stdout",
     "output_type": "stream",
     "text": [
      "Tuned TF-IDF + Naive Bayes Accuracy: 0.6666666666666666\n",
      "\n",
      " Classification Report (Tuned TF-IDF + NB):\n",
      "\n",
      "                                    precision    recall  f1-score   support\n",
      "\n",
      "                      I can't tell       0.00      0.00      0.00        49\n",
      "                  Negative emotion       0.92      0.06      0.12       179\n",
      "No emotion toward brand or product       0.69      0.90      0.78      1674\n",
      "                  Positive emotion       0.57      0.37      0.45       819\n",
      "\n",
      "                          accuracy                           0.67      2721\n",
      "                         macro avg       0.54      0.33      0.34      2721\n",
      "                      weighted avg       0.66      0.67      0.62      2721\n",
      "\n"
     ]
    },
    {
     "name": "stderr",
     "output_type": "stream",
     "text": [
      "C:\\Users\\Administrator\\anaconda3\\Lib\\site-packages\\sklearn\\metrics\\_classification.py:1531: UndefinedMetricWarning: Precision is ill-defined and being set to 0.0 in labels with no predicted samples. Use `zero_division` parameter to control this behavior.\n",
      "  _warn_prf(average, modifier, f\"{metric.capitalize()} is\", len(result))\n",
      "C:\\Users\\Administrator\\anaconda3\\Lib\\site-packages\\sklearn\\metrics\\_classification.py:1531: UndefinedMetricWarning: Precision is ill-defined and being set to 0.0 in labels with no predicted samples. Use `zero_division` parameter to control this behavior.\n",
      "  _warn_prf(average, modifier, f\"{metric.capitalize()} is\", len(result))\n",
      "C:\\Users\\Administrator\\anaconda3\\Lib\\site-packages\\sklearn\\metrics\\_classification.py:1531: UndefinedMetricWarning: Precision is ill-defined and being set to 0.0 in labels with no predicted samples. Use `zero_division` parameter to control this behavior.\n",
      "  _warn_prf(average, modifier, f\"{metric.capitalize()} is\", len(result))\n"
     ]
    }
   ],
   "source": [
    "# Try using bigrams and limiting rare terms\n",
    "tfidf_tuned = TfidfVectorizer(max_features=8000, ngram_range=(1,2), min_df=3)\n",
    "X_train_tuned = tfidf_tuned.fit_transform(X_train)\n",
    "X_test_tuned = tfidf_tuned.transform(X_test)\n",
    "\n",
    "# Refit Naive Bayes on the tuned features\n",
    "nb_tuned = MultinomialNB()\n",
    "nb_tuned.fit(X_train_tuned, y_train)\n",
    "y_pred_tuned = nb_tuned.predict(X_test_tuned)\n",
    "\n",
    "print(\"Tuned TF-IDF + Naive Bayes Accuracy:\", accuracy_score(y_test, y_pred_tuned))\n",
    "print(\"\\n Classification Report (Tuned TF-IDF + NB):\\n\")\n",
    "print(classification_report(y_test, y_pred_tuned))"
   ]
  },
  {
   "cell_type": "markdown",
   "id": "23a1a316-d2f9-4c64-adb9-ec490d9a3490",
   "metadata": {},
   "source": [
    "# Evaluate the macro F1-score"
   ]
  },
  {
   "cell_type": "code",
   "execution_count": 22,
   "id": "841a02aa-af18-49bc-b229-a064d5486c2c",
   "metadata": {},
   "outputs": [
    {
     "name": "stdout",
     "output_type": "stream",
     "text": [
      "Macro F1-scores:\n",
      "\n",
      "Logistic Regression (Balanced): 0.417\n",
      "Logistic Regression (SMOTE): 0.428\n",
      "Naive Bayes: 0.337\n",
      "Linear SVM: 0.416\n",
      "Naive Bayes (Tuned TF-IDF): 0.336\n"
     ]
    }
   ],
   "source": [
    "models = {\n",
    "    \"Logistic Regression (Balanced)\": y_pred_balanced,\n",
    "    \"Logistic Regression (SMOTE)\": y_pred_smote,\n",
    "    \"Naive Bayes\": y_pred_nb,\n",
    "    \"Linear SVM\": y_pred_svm,\n",
    "    \"Naive Bayes (Tuned TF-IDF)\": y_pred_tuned\n",
    "}\n",
    "\n",
    "print(\"Macro F1-scores:\\n\")\n",
    "for name, preds in models.items():\n",
    "    score = f1_score(y_test, preds, average='macro')\n",
    "    print(f\"{name}: {score:.3f}\")\n"
   ]
  },
  {
   "cell_type": "markdown",
   "id": "8d6bd9fb-6575-4b0a-b48d-1184a831b26c",
   "metadata": {},
   "source": [
    "# Model Performance Summary\n",
    "\n",
    "After experimenting with several models and techniques (balancing, SMOTE, Naive Bayes, SVM, and tuned TF-IDF),\n",
    "we can now compare their performance in one clear table.\n",
    "\n",
    "We'll evaluate both:\n",
    "- **Accuracy** — general correctness\n",
    "- **Macro F1-score** — fairness across all sentiment classes (important for imbalanced data)"
   ]
  },
  {
   "cell_type": "code",
   "execution_count": 23,
   "id": "152fb13e-e195-442e-9da9-5368a1758933",
   "metadata": {},
   "outputs": [
    {
     "data": {
      "text/html": [
       "<style type=\"text/css\">\n",
       "</style>\n",
       "<table id=\"T_7ae2e\">\n",
       "  <caption>Model Performance Comparison</caption>\n",
       "  <thead>\n",
       "    <tr>\n",
       "      <th class=\"blank level0\" >&nbsp;</th>\n",
       "      <th id=\"T_7ae2e_level0_col0\" class=\"col_heading level0 col0\" >Model</th>\n",
       "      <th id=\"T_7ae2e_level0_col1\" class=\"col_heading level0 col1\" >Accuracy</th>\n",
       "      <th id=\"T_7ae2e_level0_col2\" class=\"col_heading level0 col2\" >Macro F1-score</th>\n",
       "    </tr>\n",
       "  </thead>\n",
       "  <tbody>\n",
       "    <tr>\n",
       "      <th id=\"T_7ae2e_level0_row0\" class=\"row_heading level0 row0\" >0</th>\n",
       "      <td id=\"T_7ae2e_row0_col0\" class=\"data row0 col0\" >Logistic Regression (SMOTE)</td>\n",
       "      <td id=\"T_7ae2e_row0_col1\" class=\"data row0 col1\" >0.620360</td>\n",
       "      <td id=\"T_7ae2e_row0_col2\" class=\"data row0 col2\" >0.428344</td>\n",
       "    </tr>\n",
       "    <tr>\n",
       "      <th id=\"T_7ae2e_level0_row1\" class=\"row_heading level0 row1\" >1</th>\n",
       "      <td id=\"T_7ae2e_row1_col0\" class=\"data row1 col0\" >Logistic Regression (Balanced)</td>\n",
       "      <td id=\"T_7ae2e_row1_col1\" class=\"data row1 col1\" >0.604925</td>\n",
       "      <td id=\"T_7ae2e_row1_col2\" class=\"data row1 col2\" >0.417247</td>\n",
       "    </tr>\n",
       "    <tr>\n",
       "      <th id=\"T_7ae2e_level0_row2\" class=\"row_heading level0 row2\" >2</th>\n",
       "      <td id=\"T_7ae2e_row2_col0\" class=\"data row2 col0\" >Linear SVM</td>\n",
       "      <td id=\"T_7ae2e_row2_col1\" class=\"data row2 col1\" >0.670709</td>\n",
       "      <td id=\"T_7ae2e_row2_col2\" class=\"data row2 col2\" >0.415559</td>\n",
       "    </tr>\n",
       "    <tr>\n",
       "      <th id=\"T_7ae2e_level0_row3\" class=\"row_heading level0 row3\" >3</th>\n",
       "      <td id=\"T_7ae2e_row3_col0\" class=\"data row3 col0\" >Naive Bayes</td>\n",
       "      <td id=\"T_7ae2e_row3_col1\" class=\"data row3 col1\" >0.666299</td>\n",
       "      <td id=\"T_7ae2e_row3_col2\" class=\"data row3 col2\" >0.337159</td>\n",
       "    </tr>\n",
       "    <tr>\n",
       "      <th id=\"T_7ae2e_level0_row4\" class=\"row_heading level0 row4\" >4</th>\n",
       "      <td id=\"T_7ae2e_row4_col0\" class=\"data row4 col0\" >Naive Bayes (Tuned TF-IDF)</td>\n",
       "      <td id=\"T_7ae2e_row4_col1\" class=\"data row4 col1\" >0.666667</td>\n",
       "      <td id=\"T_7ae2e_row4_col2\" class=\"data row4 col2\" >0.335593</td>\n",
       "    </tr>\n",
       "  </tbody>\n",
       "</table>\n"
      ],
      "text/plain": [
       "<pandas.io.formats.style.Styler at 0x22156927770>"
      ]
     },
     "execution_count": 23,
     "metadata": {},
     "output_type": "execute_result"
    }
   ],
   "source": [
    "\n",
    "# Compute metrics\n",
    "results = []\n",
    "for name, preds in models.items():\n",
    "    acc = accuracy_score(y_test, preds)\n",
    "    f1 = f1_score(y_test, preds, average='macro')\n",
    "    results.append({\"Model\": name, \"Accuracy\": acc, \"Macro F1-score\": f1})\n",
    "\n",
    "# Convert to DataFrame\n",
    "results_df = pd.DataFrame(results).sort_values(by=\"Macro F1-score\", ascending=False)\n",
    "results_df.reset_index(drop=True, inplace=True)\n",
    "\n",
    "# Display neatly\n",
    "results_df.style.set_caption(\"Model Performance Comparison\") "
   ]
  },
  {
   "cell_type": "markdown",
   "id": "af07132e-c9d1-4033-98cc-3ae7b4ed1ad0",
   "metadata": {},
   "source": [
    "Visual Comparison of Model Performance\n",
    "\n",
    "We'll now compare all the models we trained (Balanced Logistic Regression, SMOTE Logistic Regression, \n",
    "Naive Bayes, and Linear SVM) visually. This helps us see trade-offs between accuracy and fairness \n",
    "(Macro F1-score)."
   ]
  },
  {
   "cell_type": "code",
   "execution_count": 24,
   "id": "96f44a7b-c07b-4292-85c7-7a0ff01f0b41",
   "metadata": {},
   "outputs": [
    {
     "data": {
      "image/png": "[encoded data removed]",
      "text/plain": [
       "<Figure size 800x500 with 1 Axes>"
      ]
     },
     "metadata": {},
     "output_type": "display_data"
    },
    {
     "data": {
      "text/html": [
       "<style type=\"text/css\">\n",
       "</style>\n",
       "<table id=\"T_ee222\">\n",
       "  <thead>\n",
       "    <tr>\n",
       "      <th class=\"blank level0\" >&nbsp;</th>\n",
       "      <th id=\"T_ee222_level0_col0\" class=\"col_heading level0 col0\" >Model</th>\n",
       "      <th id=\"T_ee222_level0_col1\" class=\"col_heading level0 col1\" >Accuracy</th>\n",
       "      <th id=\"T_ee222_level0_col2\" class=\"col_heading level0 col2\" >Macro F1</th>\n",
       "    </tr>\n",
       "  </thead>\n",
       "  <tbody>\n",
       "    <tr>\n",
       "      <th id=\"T_ee222_level0_row0\" class=\"row_heading level0 row0\" >0</th>\n",
       "      <td id=\"T_ee222_row0_col0\" class=\"data row0 col0\" >Balanced Logistic Regression</td>\n",
       "      <td id=\"T_ee222_row0_col1\" class=\"data row0 col1\" >0.605</td>\n",
       "      <td id=\"T_ee222_row0_col2\" class=\"data row0 col2\" >0.417</td>\n",
       "    </tr>\n",
       "    <tr>\n",
       "      <th id=\"T_ee222_level0_row1\" class=\"row_heading level0 row1\" >1</th>\n",
       "      <td id=\"T_ee222_row1_col0\" class=\"data row1 col0\" >SMOTE Logistic Regression</td>\n",
       "      <td id=\"T_ee222_row1_col1\" class=\"data row1 col1\" >0.620</td>\n",
       "      <td id=\"T_ee222_row1_col2\" class=\"data row1 col2\" >0.428</td>\n",
       "    </tr>\n",
       "    <tr>\n",
       "      <th id=\"T_ee222_level0_row2\" class=\"row_heading level0 row2\" >2</th>\n",
       "      <td id=\"T_ee222_row2_col0\" class=\"data row2 col0\" >Naive Bayes</td>\n",
       "      <td id=\"T_ee222_row2_col1\" class=\"data row2 col1\" >0.666</td>\n",
       "      <td id=\"T_ee222_row2_col2\" class=\"data row2 col2\" >0.337</td>\n",
       "    </tr>\n",
       "    <tr>\n",
       "      <th id=\"T_ee222_level0_row3\" class=\"row_heading level0 row3\" >3</th>\n",
       "      <td id=\"T_ee222_row3_col0\" class=\"data row3 col0\" >Linear SVM</td>\n",
       "      <td id=\"T_ee222_row3_col1\" class=\"data row3 col1\" >0.671</td>\n",
       "      <td id=\"T_ee222_row3_col2\" class=\"data row3 col2\" >0.416</td>\n",
       "    </tr>\n",
       "  </tbody>\n",
       "</table>\n"
      ],
      "text/plain": [
       "<pandas.io.formats.style.Styler at 0x22156cfa0c0>"
      ]
     },
     "execution_count": 24,
     "metadata": {},
     "output_type": "execute_result"
    }
   ],
   "source": [
    "# Store results\n",
    "results = {\n",
    "    \"Balanced Logistic Regression\": (y_pred_balanced, \"blue\"),\n",
    "    \"SMOTE Logistic Regression\": (y_pred_smote, \"orange\"),\n",
    "    \"Naive Bayes\": (y_pred_nb, \"green\"),\n",
    "    \"Linear SVM\": (y_pred_svm, \"red\")\n",
    "}\n",
    "\n",
    "# Compute accuracy and macro F1\n",
    "data = []\n",
    "for name, (preds, color) in results.items():\n",
    "    acc = accuracy_score(y_test, preds)\n",
    "    f1 = f1_score(y_test, preds, average='macro')\n",
    "    data.append([name, acc, f1, color])\n",
    "\n",
    "results_df = pd.DataFrame(data, columns=[\"Model\", \"Accuracy\", \"Macro F1\", \"Color\"])\n",
    "\n",
    "# Plot bar chart\n",
    "plt.figure(figsize=(8,5))\n",
    "plt.bar(results_df[\"Model\"], results_df[\"Accuracy\"], color=results_df[\"Color\"], alpha=0.7, label=\"Accuracy\")\n",
    "plt.bar(results_df[\"Model\"], results_df[\"Macro F1\"], color=results_df[\"Color\"], alpha=0.3, label=\"Macro F1\")\n",
    "plt.title(\"Model Performance Comparison\")\n",
    "plt.ylabel(\"Score\")\n",
    "plt.xticks(rotation=25, ha='right')\n",
    "plt.legend()\n",
    "plt.tight_layout()\n",
    "plt.show()\n",
    "\n",
    "# Display results as a table\n",
    "results_df[[\"Model\", \"Accuracy\", \"Macro F1\"]].style.format({\"Accuracy\": \"{:.3f}\", \"Macro F1\": \"{:.3f}\"})"
   ]
  },
  {
   "cell_type": "markdown",
   "id": "77c7d0c5-603c-4e69-b353-5e0cd9f137d2",
   "metadata": {},
   "source": [
    "**Linear SVM** achieved the highest overall accuracy (~67%) and balanced sentiment detection.  \n",
    "- **Naive Bayes** performed almost as well, making it a great lightweight alternative.  \n",
    "- **Balanced/SMOTE Logistic Regression** improved recall for minority classes but at the cost of accuracy.  \n",
    "- In text tasks, **SVM and Naive Bayes** often outperform Logistic Regression on sparse data like TF-IDF.\n"
   ]
  },
  {
   "cell_type": "markdown",
   "id": "13670a24-e8c3-4b5d-a359-b0037a87b347",
   "metadata": {},
   "source": [
    "Building a Machine Learning Pipeline\n",
    "\n",
    "To make the model training and prediction process more efficient and maintainable, \n",
    "we will combine our preprocessing, vectorization, and classification steps into a single **Pipeline**.  \n",
    "\n",
    "A pipeline ensures that the **same text cleaning and feature extraction steps** are applied \n",
    "both during training and when making predictions on new data.  \n",
    "\n",
    "We will build a pipeline with the following components:\n",
    "- **TFIDF Vectorizer:** Converts text into numerical features.\n",
    "- **Linear SVM Classifier:** Learns to predict the sentiment of tweets.\n",
    "- **Custom Text Cleaning Function:** Cleans and normalizes tweets (removes URLs, mentions, punctuation, etc.)."
   ]
  },
  {
   "cell_type": "code",
   "execution_count": 28,
   "id": "378ee7c8-9c54-4c5c-ad74-7d476ead78f0",
   "metadata": {},
   "outputs": [
    {
     "name": "stdout",
     "output_type": "stream",
     "text": [
      "Pipeline Accuracy: 0.647556045571481\n",
      "\n",
      "Classification Report:\n",
      "                                     precision    recall  f1-score   support\n",
      "\n",
      "                      I can't tell       0.09      0.08      0.09        49\n",
      "                  Negative emotion       0.37      0.40      0.38       179\n",
      "No emotion toward brand or product       0.76      0.73      0.74      1674\n",
      "                  Positive emotion       0.54      0.57      0.55       819\n",
      "\n",
      "                          accuracy                           0.65      2721\n",
      "                         macro avg       0.44      0.44      0.44      2721\n",
      "                      weighted avg       0.65      0.65      0.65      2721\n",
      "\n",
      "Pipeline saved successfully!\n"
     ]
    }
   ],
   "source": [
    "# --- Text cleaning function ---\n",
    "def clean_tweet(text):\n",
    "    text = text.lower()\n",
    "    text = re.sub(r'@\\w+', '', text)\n",
    "    text = re.sub(r'http\\S+', '', text)\n",
    "    text = re.sub(r'[%s]' % re.escape(string.punctuation), '', text)\n",
    "    text = re.sub(r'\\d+', '', text)\n",
    "    return text.strip()\n",
    "\n",
    "# --- Build pipeline ---\n",
    "svm_pipeline = Pipeline([\n",
    "    ('tfidf', TfidfVectorizer(\n",
    "        preprocessor=clean_tweet,\n",
    "        max_features=5000,\n",
    "        ngram_range=(1,2)\n",
    "    )),\n",
    "    ('svm', LinearSVC(class_weight='balanced', random_state=42))\n",
    "])\n",
    "\n",
    "# --- Train ---\n",
    "svm_pipeline.fit(X_train, y_train)\n",
    "\n",
    "# --- Evaluate ---\n",
    "y_pred = svm_pipeline.predict(X_test)\n",
    "print(\"Pipeline Accuracy:\", accuracy_score(y_test, y_pred))\n",
    "print(\"\\nClassification Report:\\n\", classification_report(y_test, y_pred))\n",
    "\n",
    "# --- Save the entire pipeline ---\n",
    "joblib.dump(svm_pipeline, 'sentiment_pipeline.pkl')\n",
    "print(\"Pipeline saved successfully!\")"
   ]
  },
  {
   "cell_type": "code",
   "execution_count": null,
   "id": "0c134108-3a3d-4e0b-b52b-a47636b98a10",
   "metadata": {},
   "outputs": [],
   "source": []
  },
  {
   "cell_type": "code",
   "execution_count": null,
   "id": "49031419-52c9-43f0-8853-dfbb88d53a8d",
   "metadata": {},
   "outputs": [],
   "source": []
  },
  {
   "cell_type": "code",
   "execution_count": null,
   "id": "e474354f-cdd5-4cfe-8b50-f98f8191bf6c",
   "metadata": {},
   "outputs": [],
   "source": []
  },
  {
   "cell_type": "code",
   "execution_count": null,
   "id": "31698f01-069b-4a2e-adf1-247d4a954ea9",
   "metadata": {},
   "outputs": [],
   "source": []
  },
  {
   "cell_type": "code",
   "execution_count": null,
   "id": "f6ddb11f-05f3-4418-b5d4-4a1acadb0c71",
   "metadata": {},
   "outputs": [],
   "source": []
  }
 ],
 "metadata": {
  "kernelspec": {
   "display_name": "Python 3 (ipykernel)",
   "language": "python",
   "name": "python3"
  },
  "language_info": {
   "codemirror_mode": {
    "name": "ipython",
    "version": 3
   },
   "file_extension": ".py",
   "mimetype": "text/x-python",
   "name": "python",
   "nbconvert_exporter": "python",
   "pygments_lexer": "ipython3",
   "version": "3.12.7"
  }
 },
 "nbformat": 4,
 "nbformat_minor": 5
}
